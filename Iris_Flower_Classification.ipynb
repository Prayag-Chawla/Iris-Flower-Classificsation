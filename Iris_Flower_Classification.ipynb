{
  "cells": [
    {
      "cell_type": "markdown",
      "metadata": {
        "id": "vncDsAP0Gaoa"
      },
      "source": [
        "# **Project Name**    - Iris Flower Classification\n",
        "\n"
      ]
    },
    {
      "cell_type": "markdown",
      "metadata": {
        "id": "FJNUwmbgGyua"
      },
      "source": [
        "# **Project Summary -**"
      ]
    },
    {
      "cell_type": "markdown",
      "metadata": {
        "id": "F6v_1wHtG2nS"
      },
      "source": [
        "**Project Description:**\n",
        "\n",
        "The Iris Flower Classification project focuses on developing a machine learning model to classify iris flowers into their respective species based on specific measurements. Iris flowers are classified into three species: setosa, versicolor, and virginica, each of which exhibits distinct characteristics in terms of measurements.\n",
        "\n",
        "**Objective:**\n",
        "\n",
        "The primary goal of this project is to leverage machine learning techniques to build a classification model that can accurately identify the species of iris flowers based on their measurements. The model aims to automate the classification process, offering a practical solution for identifying iris species.\n",
        "\n",
        "**Key Project Details:**\n",
        "\n",
        "- Iris flowers have three species: setosa, versicolor, and virginica.\n",
        "- These species can be distinguished based on measurements such as sepal length, sepal width, petal length, and petal width.\n",
        "- The project involves training a machine learning model on a dataset that contains iris flower measurements associated with their respective species.\n",
        "- The trained model will classify iris flowers into one of the three species based on their measurements."
      ]
    },
    {
      "cell_type": "markdown",
      "metadata": {
        "id": "yQaldy8SH6Dl"
      },
      "source": [
        "# **Problem Statement**\n"
      ]
    },
    {
      "cell_type": "markdown",
      "metadata": {
        "id": "DpeJGUA3kjGy"
      },
      "source": [
        "The iris flower, scientifically known as Iris, is a distinctive genus of flowering plants. Within this genus, there are three primary species: Iris setosa, Iris versicolor, and Iris virginica. These species exhibit variations in their physical characteristics, particularly in the measurements of their sepal length, sepal width, petal length, and petal width.\n",
        "\n",
        "**Objective:**\n",
        "\n",
        "The objective of this project is to develop a machine learning model capable of learning from the measurements of iris flowers and accurately classifying them into their respective species. The model's primary goal is to automate the classification process based on the distinct characteristics of each iris species.\n",
        "\n",
        "**Project Details:**\n",
        "\n",
        "- **Iris Species:** The dataset consists of iris flowers, specifically from the species setosa, versicolor, and virginica.\n",
        "- **Key Measurements:** The essential characteristics used for classification include sepal length, sepal width, petal length, and petal width.\n",
        "- **Machine Learning Model:** The project involves the creation and training of a machine learning model to accurately classify iris flowers based on their measurements.\n",
        "\n",
        "This project's significance lies in its potential to streamline and automate the classification of iris species, which can have broader applications in botany, horticulture, and environmental monitoring."
      ]
    },
    {
      "cell_type": "markdown",
      "metadata": {
        "id": "O_i_v8NEhb9l"
      },
      "source": [
        "# ***Let's Begin !***"
      ]
    },
    {
      "cell_type": "markdown",
      "metadata": {
        "id": "HhfV-JJviCcP"
      },
      "source": [
        "## ***1. Know The Data***"
      ]
    },
    {
      "cell_type": "markdown",
      "metadata": {
        "id": "Y3lxredqlCYt"
      },
      "source": [
        "### Import Libraries"
      ]
    },
    {
      "cell_type": "code",
      "execution_count": 23,
      "metadata": {
        "id": "M8Vqi-pPk-HR"
      },
      "outputs": [],
      "source": [
        "# Import Libraries\n",
        "# Importing Numpy & Pandas for data processing & data wrangling\n",
        "import numpy as np\n",
        "import pandas as pd\n",
        "\n",
        "# Importing  tools for visualization\n",
        "import matplotlib.pyplot as plt\n",
        "import seaborn as sns\n",
        "\n",
        "# Import evaluation metric libraries\n",
        "from sklearn.metrics import confusion_matrix, accuracy_score, precision_score, recall_score, f1_score, classification_report\n",
        "\n",
        "# Library used for data preprocessing\n",
        "from sklearn.preprocessing import LabelEncoder\n",
        "\n",
        "# Import model selection libraries\n",
        "from sklearn.model_selection import train_test_split, GridSearchCV, RandomizedSearchCV, RepeatedStratifiedKFold\n",
        "\n",
        "# Library used for ML Model implementation\n",
        "from sklearn.linear_model import LogisticRegression\n",
        "from sklearn.tree import DecisionTreeClassifier\n",
        "from sklearn.ensemble import RandomForestClassifier\n",
        "from sklearn.svm import SVC\n",
        "from sklearn.neural_network import MLPClassifier\n",
        "from sklearn.naive_bayes import GaussianNB\n",
        "import xgboost as xgb\n",
        "\n",
        "# Library used for ignore warnings\n",
        "import warnings\n",
        "warnings.filterwarnings('ignore')\n",
        "%matplotlib inline"
      ]
    },
    {
      "cell_type": "markdown",
      "metadata": {
        "id": "3RnN4peoiCZX"
      },
      "source": [
        "### Dataset Loading"
      ]
    },
    {
      "cell_type": "code",
      "execution_count": 24,
      "metadata": {
        "id": "4CkvbW_SlZ_R"
      },
      "outputs": [],
      "source": [
        "# Load Dataset\n",
        "df = pd.read_csv(\"Iris.csv\")"
      ]
    },
    {
      "cell_type": "markdown",
      "metadata": {
        "id": "x71ZqKXriCWQ"
      },
      "source": [
        "### Dataset First View"
      ]
    },
    {
      "cell_type": "code",
      "execution_count": 25,
      "metadata": {
        "colab": {
          "base_uri": "https://localhost:8080/",
          "height": 206
        },
        "id": "LWNFOSvLl09H",
        "outputId": "c96556b1-2d37-417f-d5e9-5982c0d45fa2"
      },
      "outputs": [
        {
          "data": {
            "text/html": [
              "<div>\n",
              "<style scoped>\n",
              "    .dataframe tbody tr th:only-of-type {\n",
              "        vertical-align: middle;\n",
              "    }\n",
              "\n",
              "    .dataframe tbody tr th {\n",
              "        vertical-align: top;\n",
              "    }\n",
              "\n",
              "    .dataframe thead th {\n",
              "        text-align: right;\n",
              "    }\n",
              "</style>\n",
              "<table border=\"1\" class=\"dataframe\">\n",
              "  <thead>\n",
              "    <tr style=\"text-align: right;\">\n",
              "      <th></th>\n",
              "      <th>Id</th>\n",
              "      <th>SepalLengthCm</th>\n",
              "      <th>SepalWidthCm</th>\n",
              "      <th>PetalLengthCm</th>\n",
              "      <th>PetalWidthCm</th>\n",
              "      <th>Species</th>\n",
              "    </tr>\n",
              "  </thead>\n",
              "  <tbody>\n",
              "    <tr>\n",
              "      <th>0</th>\n",
              "      <td>1</td>\n",
              "      <td>5.1</td>\n",
              "      <td>3.5</td>\n",
              "      <td>1.4</td>\n",
              "      <td>0.2</td>\n",
              "      <td>Iris-setosa</td>\n",
              "    </tr>\n",
              "    <tr>\n",
              "      <th>1</th>\n",
              "      <td>2</td>\n",
              "      <td>4.9</td>\n",
              "      <td>3.0</td>\n",
              "      <td>1.4</td>\n",
              "      <td>0.2</td>\n",
              "      <td>Iris-setosa</td>\n",
              "    </tr>\n",
              "    <tr>\n",
              "      <th>2</th>\n",
              "      <td>3</td>\n",
              "      <td>4.7</td>\n",
              "      <td>3.2</td>\n",
              "      <td>1.3</td>\n",
              "      <td>0.2</td>\n",
              "      <td>Iris-setosa</td>\n",
              "    </tr>\n",
              "    <tr>\n",
              "      <th>3</th>\n",
              "      <td>4</td>\n",
              "      <td>4.6</td>\n",
              "      <td>3.1</td>\n",
              "      <td>1.5</td>\n",
              "      <td>0.2</td>\n",
              "      <td>Iris-setosa</td>\n",
              "    </tr>\n",
              "    <tr>\n",
              "      <th>4</th>\n",
              "      <td>5</td>\n",
              "      <td>5.0</td>\n",
              "      <td>3.6</td>\n",
              "      <td>1.4</td>\n",
              "      <td>0.2</td>\n",
              "      <td>Iris-setosa</td>\n",
              "    </tr>\n",
              "  </tbody>\n",
              "</table>\n",
              "</div>"
            ],
            "text/plain": [
              "   Id  SepalLengthCm  SepalWidthCm  PetalLengthCm  PetalWidthCm      Species\n",
              "0   1            5.1           3.5            1.4           0.2  Iris-setosa\n",
              "1   2            4.9           3.0            1.4           0.2  Iris-setosa\n",
              "2   3            4.7           3.2            1.3           0.2  Iris-setosa\n",
              "3   4            4.6           3.1            1.5           0.2  Iris-setosa\n",
              "4   5            5.0           3.6            1.4           0.2  Iris-setosa"
            ]
          },
          "execution_count": 25,
          "metadata": {},
          "output_type": "execute_result"
        }
      ],
      "source": [
        "# Dataset First Look\n",
        "# View top 5 rows of the dataset\n",
        "df.head()"
      ]
    },
    {
      "cell_type": "markdown",
      "metadata": {
        "id": "7hBIi_osiCS2"
      },
      "source": [
        "### Dataset Rows & Columns count"
      ]
    },
    {
      "cell_type": "code",
      "execution_count": 26,
      "metadata": {
        "colab": {
          "base_uri": "https://localhost:8080/"
        },
        "id": "Kllu7SJgmLij",
        "outputId": "1be7a474-ce9a-48ca-a787-43343220fd82"
      },
      "outputs": [
        {
          "name": "stdout",
          "output_type": "stream",
          "text": [
            "Number of rows are:  150\n",
            "Number of columns are:  6\n"
          ]
        }
      ],
      "source": [
        "# Dataset Rows & Columns count\n",
        "# Checking number of rows and columns of the dataset using shape\n",
        "print(\"Number of rows are: \",df.shape[0])\n",
        "print(\"Number of columns are: \",df.shape[1])"
      ]
    },
    {
      "cell_type": "markdown",
      "metadata": {
        "id": "JlHwYmJAmNHm"
      },
      "source": [
        "### Dataset Information"
      ]
    },
    {
      "cell_type": "code",
      "execution_count": 27,
      "metadata": {
        "colab": {
          "base_uri": "https://localhost:8080/"
        },
        "id": "e9hRXRi6meOf",
        "outputId": "7e5f73c0-f112-4315-e752-c7ddc0b91a55"
      },
      "outputs": [
        {
          "name": "stdout",
          "output_type": "stream",
          "text": [
            "<class 'pandas.core.frame.DataFrame'>\n",
            "RangeIndex: 150 entries, 0 to 149\n",
            "Data columns (total 6 columns):\n",
            " #   Column         Non-Null Count  Dtype  \n",
            "---  ------         --------------  -----  \n",
            " 0   Id             150 non-null    int64  \n",
            " 1   SepalLengthCm  150 non-null    float64\n",
            " 2   SepalWidthCm   150 non-null    float64\n",
            " 3   PetalLengthCm  150 non-null    float64\n",
            " 4   PetalWidthCm   150 non-null    float64\n",
            " 5   Species        150 non-null    object \n",
            "dtypes: float64(4), int64(1), object(1)\n",
            "memory usage: 7.2+ KB\n"
          ]
        }
      ],
      "source": [
        "# Dataset Info\n",
        "# Checking information about the dataset using info\n",
        "df.info()"
      ]
    },
    {
      "cell_type": "markdown",
      "metadata": {
        "id": "35m5QtbWiB9F"
      },
      "source": [
        "#### Duplicate Values"
      ]
    },
    {
      "cell_type": "code",
      "execution_count": 28,
      "metadata": {
        "colab": {
          "base_uri": "https://localhost:8080/"
        },
        "id": "1sLdpKYkmox0",
        "outputId": "25ef7cbf-7fe7-4d39-9318-026e4c52a93c"
      },
      "outputs": [
        {
          "name": "stdout",
          "output_type": "stream",
          "text": [
            "number of duplicated rows are 0\n"
          ]
        }
      ],
      "source": [
        "# Dataset Duplicate Value Count\n",
        "dup = df.duplicated().sum()\n",
        "print(f'number of duplicated rows are {dup}')"
      ]
    },
    {
      "cell_type": "markdown",
      "metadata": {
        "id": "PoPl-ycgm1ru"
      },
      "source": [
        "#### Missing Values/Null Values"
      ]
    },
    {
      "cell_type": "code",
      "execution_count": 29,
      "metadata": {
        "colab": {
          "base_uri": "https://localhost:8080/"
        },
        "id": "GgHWkxvamxVg",
        "outputId": "4cd9a833-8259-4aa0-aa04-6e053162fe76"
      },
      "outputs": [
        {
          "data": {
            "text/plain": [
              "Id               0\n",
              "SepalLengthCm    0\n",
              "SepalWidthCm     0\n",
              "PetalLengthCm    0\n",
              "PetalWidthCm     0\n",
              "Species          0\n",
              "dtype: int64"
            ]
          },
          "execution_count": 29,
          "metadata": {},
          "output_type": "execute_result"
        }
      ],
      "source": [
        "# Missing Values/Null Values Count\n",
        "df.isnull().sum()"
      ]
    },
    {
      "cell_type": "markdown",
      "metadata": {
        "id": "H0kj-8xxnORC"
      },
      "source": [
        "### What did i know about the dataset?"
      ]
    },
    {
      "cell_type": "markdown",
      "metadata": {
        "id": "gfoNAAC-nUe_"
      },
      "source": [
        "* The Iris dataset consists of length and width mesurements of sepal and petal for different species in centimeter.\n",
        "* There are 150 rows and 6 columns provided in the data.\n",
        "* No duplicate values exist.\n",
        "* No Null values exist."
      ]
    },
    {
      "cell_type": "markdown",
      "metadata": {
        "id": "nA9Y7ga8ng1Z"
      },
      "source": [
        "## ***2. Understanding The Variables***"
      ]
    },
    {
      "cell_type": "code",
      "execution_count": 30,
      "metadata": {
        "colab": {
          "base_uri": "https://localhost:8080/"
        },
        "id": "j7xfkqrt5Ag5",
        "outputId": "cea8667f-8885-421e-96f6-7e10dc8e0b31"
      },
      "outputs": [
        {
          "data": {
            "text/plain": [
              "Index(['Id', 'SepalLengthCm', 'SepalWidthCm', 'PetalLengthCm', 'PetalWidthCm',\n",
              "       'Species'],\n",
              "      dtype='object')"
            ]
          },
          "execution_count": 30,
          "metadata": {},
          "output_type": "execute_result"
        }
      ],
      "source": [
        "# Dataset Columns\n",
        "df.columns"
      ]
    },
    {
      "cell_type": "code",
      "execution_count": 31,
      "metadata": {
        "colab": {
          "base_uri": "https://localhost:8080/"
        },
        "id": "DnOaZdaE5Q5t",
        "outputId": "821fc6eb-734d-436f-fbe2-64424a02dbe1"
      },
      "outputs": [
        {
          "data": {
            "text/html": [
              "<div>\n",
              "<style scoped>\n",
              "    .dataframe tbody tr th:only-of-type {\n",
              "        vertical-align: middle;\n",
              "    }\n",
              "\n",
              "    .dataframe tbody tr th {\n",
              "        vertical-align: top;\n",
              "    }\n",
              "\n",
              "    .dataframe thead th {\n",
              "        text-align: right;\n",
              "    }\n",
              "</style>\n",
              "<table border=\"1\" class=\"dataframe\">\n",
              "  <thead>\n",
              "    <tr style=\"text-align: right;\">\n",
              "      <th></th>\n",
              "      <th>Id</th>\n",
              "      <th>SepalLengthCm</th>\n",
              "      <th>SepalWidthCm</th>\n",
              "      <th>PetalLengthCm</th>\n",
              "      <th>PetalWidthCm</th>\n",
              "      <th>Species</th>\n",
              "    </tr>\n",
              "  </thead>\n",
              "  <tbody>\n",
              "    <tr>\n",
              "      <th>count</th>\n",
              "      <td>150.00</td>\n",
              "      <td>150.00</td>\n",
              "      <td>150.00</td>\n",
              "      <td>150.00</td>\n",
              "      <td>150.00</td>\n",
              "      <td>150</td>\n",
              "    </tr>\n",
              "    <tr>\n",
              "      <th>unique</th>\n",
              "      <td>NaN</td>\n",
              "      <td>NaN</td>\n",
              "      <td>NaN</td>\n",
              "      <td>NaN</td>\n",
              "      <td>NaN</td>\n",
              "      <td>3</td>\n",
              "    </tr>\n",
              "    <tr>\n",
              "      <th>top</th>\n",
              "      <td>NaN</td>\n",
              "      <td>NaN</td>\n",
              "      <td>NaN</td>\n",
              "      <td>NaN</td>\n",
              "      <td>NaN</td>\n",
              "      <td>Iris-setosa</td>\n",
              "    </tr>\n",
              "    <tr>\n",
              "      <th>freq</th>\n",
              "      <td>NaN</td>\n",
              "      <td>NaN</td>\n",
              "      <td>NaN</td>\n",
              "      <td>NaN</td>\n",
              "      <td>NaN</td>\n",
              "      <td>50</td>\n",
              "    </tr>\n",
              "    <tr>\n",
              "      <th>mean</th>\n",
              "      <td>75.50</td>\n",
              "      <td>5.84</td>\n",
              "      <td>3.05</td>\n",
              "      <td>3.76</td>\n",
              "      <td>1.20</td>\n",
              "      <td>NaN</td>\n",
              "    </tr>\n",
              "    <tr>\n",
              "      <th>std</th>\n",
              "      <td>43.45</td>\n",
              "      <td>0.83</td>\n",
              "      <td>0.43</td>\n",
              "      <td>1.76</td>\n",
              "      <td>0.76</td>\n",
              "      <td>NaN</td>\n",
              "    </tr>\n",
              "    <tr>\n",
              "      <th>min</th>\n",
              "      <td>1.00</td>\n",
              "      <td>4.30</td>\n",
              "      <td>2.00</td>\n",
              "      <td>1.00</td>\n",
              "      <td>0.10</td>\n",
              "      <td>NaN</td>\n",
              "    </tr>\n",
              "    <tr>\n",
              "      <th>25%</th>\n",
              "      <td>38.25</td>\n",
              "      <td>5.10</td>\n",
              "      <td>2.80</td>\n",
              "      <td>1.60</td>\n",
              "      <td>0.30</td>\n",
              "      <td>NaN</td>\n",
              "    </tr>\n",
              "    <tr>\n",
              "      <th>50%</th>\n",
              "      <td>75.50</td>\n",
              "      <td>5.80</td>\n",
              "      <td>3.00</td>\n",
              "      <td>4.35</td>\n",
              "      <td>1.30</td>\n",
              "      <td>NaN</td>\n",
              "    </tr>\n",
              "    <tr>\n",
              "      <th>75%</th>\n",
              "      <td>112.75</td>\n",
              "      <td>6.40</td>\n",
              "      <td>3.30</td>\n",
              "      <td>5.10</td>\n",
              "      <td>1.80</td>\n",
              "      <td>NaN</td>\n",
              "    </tr>\n",
              "    <tr>\n",
              "      <th>max</th>\n",
              "      <td>150.00</td>\n",
              "      <td>7.90</td>\n",
              "      <td>4.40</td>\n",
              "      <td>6.90</td>\n",
              "      <td>2.50</td>\n",
              "      <td>NaN</td>\n",
              "    </tr>\n",
              "  </tbody>\n",
              "</table>\n",
              "</div>"
            ],
            "text/plain": [
              "            Id  SepalLengthCm  SepalWidthCm  PetalLengthCm  PetalWidthCm  \\\n",
              "count   150.00         150.00        150.00         150.00        150.00   \n",
              "unique     NaN            NaN           NaN            NaN           NaN   \n",
              "top        NaN            NaN           NaN            NaN           NaN   \n",
              "freq       NaN            NaN           NaN            NaN           NaN   \n",
              "mean     75.50           5.84          3.05           3.76          1.20   \n",
              "std      43.45           0.83          0.43           1.76          0.76   \n",
              "min       1.00           4.30          2.00           1.00          0.10   \n",
              "25%      38.25           5.10          2.80           1.60          0.30   \n",
              "50%      75.50           5.80          3.00           4.35          1.30   \n",
              "75%     112.75           6.40          3.30           5.10          1.80   \n",
              "max     150.00           7.90          4.40           6.90          2.50   \n",
              "\n",
              "            Species  \n",
              "count           150  \n",
              "unique            3  \n",
              "top     Iris-setosa  \n",
              "freq             50  \n",
              "mean            NaN  \n",
              "std             NaN  \n",
              "min             NaN  \n",
              "25%             NaN  \n",
              "50%             NaN  \n",
              "75%             NaN  \n",
              "max             NaN  "
            ]
          },
          "execution_count": 31,
          "metadata": {},
          "output_type": "execute_result"
        }
      ],
      "source": [
        "# Dataset Describe (all columns included)\n",
        "df.describe(include= 'all').round(2)"
      ]
    },
    {
      "cell_type": "markdown",
      "metadata": {
        "id": "u3PMJOP6ngxN"
      },
      "source": [
        "### Check Unique Values for each variable."
      ]
    },
    {
      "cell_type": "code",
      "execution_count": 32,
      "metadata": {
        "colab": {
          "base_uri": "https://localhost:8080/"
        },
        "id": "zms12Yq5n-jE",
        "outputId": "22463351-3e7c-48fb-d572-40a98cb14a78"
      },
      "outputs": [
        {
          "name": "stdout",
          "output_type": "stream",
          "text": [
            "No. of unique values in Id is 150\n",
            "No. of unique values in SepalLengthCm is 35\n",
            "No. of unique values in SepalWidthCm is 23\n",
            "No. of unique values in PetalLengthCm is 43\n",
            "No. of unique values in PetalWidthCm is 22\n",
            "No. of unique values in Species is 3\n"
          ]
        }
      ],
      "source": [
        "# Check Unique Values for each variable.\n",
        "for i in df.columns.tolist():\n",
        "  print(\"No. of unique values in\",i,\"is\",df[i].nunique())"
      ]
    },
    {
      "cell_type": "markdown",
      "metadata": {
        "id": "dauF4eBmngu3"
      },
      "source": [
        "## ***3. Data Wrangling***"
      ]
    },
    {
      "cell_type": "markdown",
      "metadata": {
        "id": "bKJF3rekwFvQ"
      },
      "source": [
        "### Data Wrangling Code"
      ]
    },
    {
      "cell_type": "code",
      "execution_count": 33,
      "metadata": {
        "id": "wk-9a2fpoLcV"
      },
      "outputs": [],
      "source": [
        "# We don't need the 1st column so let's drop that\n",
        "data=df.iloc[:,1:]"
      ]
    },
    {
      "cell_type": "code",
      "execution_count": 34,
      "metadata": {
        "colab": {
          "base_uri": "https://localhost:8080/"
        },
        "id": "LLjNXM30tBZT",
        "outputId": "05f4e197-bcff-4859-8469-21b7ebe06742"
      },
      "outputs": [
        {
          "data": {
            "text/html": [
              "<div>\n",
              "<style scoped>\n",
              "    .dataframe tbody tr th:only-of-type {\n",
              "        vertical-align: middle;\n",
              "    }\n",
              "\n",
              "    .dataframe tbody tr th {\n",
              "        vertical-align: top;\n",
              "    }\n",
              "\n",
              "    .dataframe thead th {\n",
              "        text-align: right;\n",
              "    }\n",
              "</style>\n",
              "<table border=\"1\" class=\"dataframe\">\n",
              "  <thead>\n",
              "    <tr style=\"text-align: right;\">\n",
              "      <th></th>\n",
              "      <th>SepalLengthCm</th>\n",
              "      <th>SepalWidthCm</th>\n",
              "      <th>PetalLengthCm</th>\n",
              "      <th>PetalWidthCm</th>\n",
              "      <th>Species</th>\n",
              "    </tr>\n",
              "  </thead>\n",
              "  <tbody>\n",
              "    <tr>\n",
              "      <th>0</th>\n",
              "      <td>5.1</td>\n",
              "      <td>3.5</td>\n",
              "      <td>1.4</td>\n",
              "      <td>0.2</td>\n",
              "      <td>Iris-setosa</td>\n",
              "    </tr>\n",
              "    <tr>\n",
              "      <th>1</th>\n",
              "      <td>4.9</td>\n",
              "      <td>3.0</td>\n",
              "      <td>1.4</td>\n",
              "      <td>0.2</td>\n",
              "      <td>Iris-setosa</td>\n",
              "    </tr>\n",
              "    <tr>\n",
              "      <th>2</th>\n",
              "      <td>4.7</td>\n",
              "      <td>3.2</td>\n",
              "      <td>1.3</td>\n",
              "      <td>0.2</td>\n",
              "      <td>Iris-setosa</td>\n",
              "    </tr>\n",
              "    <tr>\n",
              "      <th>3</th>\n",
              "      <td>4.6</td>\n",
              "      <td>3.1</td>\n",
              "      <td>1.5</td>\n",
              "      <td>0.2</td>\n",
              "      <td>Iris-setosa</td>\n",
              "    </tr>\n",
              "    <tr>\n",
              "      <th>4</th>\n",
              "      <td>5.0</td>\n",
              "      <td>3.6</td>\n",
              "      <td>1.4</td>\n",
              "      <td>0.2</td>\n",
              "      <td>Iris-setosa</td>\n",
              "    </tr>\n",
              "  </tbody>\n",
              "</table>\n",
              "</div>"
            ],
            "text/plain": [
              "   SepalLengthCm  SepalWidthCm  PetalLengthCm  PetalWidthCm      Species\n",
              "0            5.1           3.5            1.4           0.2  Iris-setosa\n",
              "1            4.9           3.0            1.4           0.2  Iris-setosa\n",
              "2            4.7           3.2            1.3           0.2  Iris-setosa\n",
              "3            4.6           3.1            1.5           0.2  Iris-setosa\n",
              "4            5.0           3.6            1.4           0.2  Iris-setosa"
            ]
          },
          "execution_count": 34,
          "metadata": {},
          "output_type": "execute_result"
        }
      ],
      "source": [
        "# New updated dataset\n",
        "data.head()"
      ]
    },
    {
      "cell_type": "markdown",
      "metadata": {
        "id": "MSa1f5Uengrz"
      },
      "source": [
        "### What all manipulations have i done?"
      ]
    },
    {
      "cell_type": "markdown",
      "metadata": {
        "id": "LbyXE7I1olp8"
      },
      "source": [
        "Only drop the first column of the dataset."
      ]
    },
    {
      "cell_type": "markdown",
      "metadata": {
        "id": "GF8Ens_Soomf"
      },
      "source": [
        "## ***4. Data Vizualization, Storytelling & Experimenting with charts : Understand the relationships between variables***"
      ]
    },
    {
      "cell_type": "markdown",
      "metadata": {
        "id": "0wOQAZs5pc--"
      },
      "source": [
        "#### Chart - 1 : Distribution of Numerical Variables"
      ]
    },
    {
      "cell_type": "code",
      "execution_count": 35,
      "metadata": {
        "colab": {
          "base_uri": "https://localhost:8080/"
        },
        "id": "7v_ESjsspbW7",
        "outputId": "5cd7e3f7-8be9-4be5-ed7d-e3d8ef4d8593"
      },
      "outputs": [
        {
          "data": {
            "image/png": "[encoded data removed]",
            "text/plain": [
              "<Figure size 800x600 with 4 Axes>"
            ]
          },
          "metadata": {},
          "output_type": "display_data"
        }
      ],
      "source": [
        "# Chart - 1 Histogram visualization code for distribution of numerical variables\n",
        "# Create a figure with subplots\n",
        "plt.figure(figsize=(8, 6))\n",
        "plt.suptitle('Distribution of Iris Flower Measurements', fontsize=14)\n",
        "\n",
        "# Create a 2x2 grid of subplots\n",
        "plt.subplot(2, 2, 1)  # Subplot 1 (Top-Left)\n",
        "plt.hist(data['SepalLengthCm'])\n",
        "plt.title('Sepal Length Distribution')\n",
        "\n",
        "plt.subplot(2, 2, 2)  # Subplot 2 (Top-Right)\n",
        "plt.hist(data['SepalWidthCm'])\n",
        "plt.title('Sepal Width Distribution')\n",
        "\n",
        "plt.subplot(2, 2, 3)  # Subplot 3 (Bottom-Left)\n",
        "plt.hist(data['PetalLengthCm'])\n",
        "plt.title('Petal Length Distribution')\n",
        "\n",
        "plt.subplot(2, 2, 4)  # Subplot 4 (Bottom-Right)\n",
        "plt.hist(data['PetalWidthCm'])\n",
        "plt.title('Petal Width Distribution')\n",
        "\n",
        "# Display the subplots\n",
        "plt.tight_layout()  # Helps in adjusting the layout\n",
        "plt.show()"
      ]
    },
    {
      "cell_type": "markdown",
      "metadata": {
        "id": "KSlN3yHqYklG"
      },
      "source": [
        "#### Chart - 2 : Sepal Length vs Sepal Width"
      ]
    },
    {
      "cell_type": "code",
      "execution_count": 36,
      "metadata": {
        "id": "pmeReNPIwpsS"
      },
      "outputs": [],
      "source": [
        "# Define colors for each species and the corresponding species labels.\n",
        "colors = ['red', 'yellow', 'green']\n",
        "species = ['Iris-setosa', 'Iris-versicolor', 'Iris-virginica']"
      ]
    },
    {
      "cell_type": "code",
      "execution_count": 37,
      "metadata": {
        "colab": {
          "base_uri": "https://localhost:8080/"
        },
        "id": "R4YgtaqtYklH",
        "outputId": "7c06f759-62bf-41da-cd55-11094d6d1eef"
      },
      "outputs": [
        {
          "data": {
            "image/png": "[encoded data removed]",
            "text/plain": [
              "<Figure size 640x480 with 1 Axes>"
            ]
          },
          "metadata": {},
          "output_type": "display_data"
        }
      ],
      "source": [
        "# Chart - 2 Scatter plot visualization code for Sepal Length vs Sepal Width.\n",
        "# Create a scatter plot for Sepal Length vs Sepal Width for each species.\n",
        "for i in range(3):\n",
        "    # Select data for the current species.\n",
        "    x = data[data['Species'] == species[i]]\n",
        "\n",
        "    # Create a scatter plot with the specified color and label for the current species.\n",
        "    plt.scatter(x['SepalLengthCm'], x['SepalWidthCm'], c=colors[i], label=species[i])\n",
        "\n",
        "# Add labels to the x and y axes.\n",
        "plt.xlabel('Sepal Length')\n",
        "plt.ylabel('Sepal Width')\n",
        "\n",
        "# Add a legend to identify species based on colors.\n",
        "plt.legend()\n",
        "\n",
        "# Display the scatter plot.\n",
        "plt.show()"
      ]
    },
    {
      "cell_type": "markdown",
      "metadata": {
        "id": "EM7whBJCYoAo"
      },
      "source": [
        "#### Chart - 3 : Petal Length vs Petal Width"
      ]
    },
    {
      "cell_type": "code",
      "execution_count": 38,
      "metadata": {
        "colab": {
          "base_uri": "https://localhost:8080/"
        },
        "id": "t6GMdE67YoAp",
        "outputId": "014af07b-c83d-4dad-b240-56ec30a608fa"
      },
      "outputs": [
        {
          "data": {
            "image/png": "[encoded data removed]",
            "text/plain": [
              "<Figure size 640x480 with 1 Axes>"
            ]
          },
          "metadata": {},
          "output_type": "display_data"
        }
      ],
      "source": [
        "# Chart - 3 Scatter plot visualization code for Petal Length vs Petal Width.\n",
        "# Create a scatter plot for Petal Length vs Petal Width for each species.\n",
        "for i in range(3):\n",
        "    # Select data for the current species.\n",
        "    x = data[data['Species'] == species[i]]\n",
        "\n",
        "    # Create a scatter plot with the specified color and label for the current species.\n",
        "    plt.scatter(x['PetalLengthCm'], x['PetalWidthCm'], c=colors[i], label=species[i])\n",
        "\n",
        "# Add labels to the x and y axes.\n",
        "plt.xlabel('Petal Length')\n",
        "plt.ylabel('Petal Width')\n",
        "\n",
        "# Add a legend to identify species based on colors.\n",
        "plt.legend()\n",
        "\n",
        "# Display the scatter plot.\n",
        "plt.show()"
      ]
    },
    {
      "cell_type": "markdown",
      "metadata": {
        "id": "4Of9eVA-YrdM"
      },
      "source": [
        "#### Chart - 4 : Sepal Length vs Petal Length"
      ]
    },
    {
      "cell_type": "code",
      "execution_count": 39,
      "metadata": {
        "colab": {
          "base_uri": "https://localhost:8080/"
        },
        "id": "irlUoxc8YrdO",
        "outputId": "2b034111-aa94-4539-aab7-24871e39de18"
      },
      "outputs": [
        {
          "data": {
            "image/png": "[encoded data removed]",
            "text/plain": [
              "<Figure size 640x480 with 1 Axes>"
            ]
          },
          "metadata": {},
          "output_type": "display_data"
        }
      ],
      "source": [
        "# Chart - 4 Scatter plot visualization code for Sepal Length vs Petal Length.\n",
        "# Create a scatter plot for Sepal Length vs Petal Length for each species.\n",
        "for i in range(3):\n",
        "    # Select data for the current species.\n",
        "    x = data[data['Species'] == species[i]]\n",
        "\n",
        "    # Create a scatter plot with the specified color and label for the current species.\n",
        "    plt.scatter(x['SepalLengthCm'], x['PetalLengthCm'], c=colors[i], label=species[i])\n",
        "\n",
        "# Add labels to the x and y axes.\n",
        "plt.xlabel('Sepal Length')\n",
        "plt.ylabel('Petal Length')\n",
        "\n",
        "# Add a legend to identify species based on colors.\n",
        "plt.legend()\n",
        "\n",
        "# Display the scatter plot.\n",
        "plt.show()"
      ]
    },
    {
      "cell_type": "markdown",
      "metadata": {
        "id": "bamQiAODYuh1"
      },
      "source": [
        "#### Chart - 5 : Sepal Width vs Petal Width"
      ]
    },
    {
      "cell_type": "code",
      "execution_count": 40,
      "metadata": {
        "colab": {
          "base_uri": "https://localhost:8080/"
        },
        "id": "TIJwrbroYuh3",
        "outputId": "73c2d3ad-4b6f-48ab-dbc6-14db330cbb69"
      },
      "outputs": [
        {
          "data": {
            "image/png": "[encoded data removed]",
            "text/plain": [
              "<Figure size 640x480 with 1 Axes>"
            ]
          },
          "metadata": {},
          "output_type": "display_data"
        }
      ],
      "source": [
        "# Chart - 5 Scatter plot visualization code for Sepal Width vs Petal Width.\n",
        "# Create a scatter plot for Sepal Width vs Petal Width for each species.\n",
        "for i in range(3):\n",
        "    # Select data for the current species.\n",
        "    x = data[data['Species'] == species[i]]\n",
        "\n",
        "    # Create a scatter plot with the specified color and label for the current species.\n",
        "    plt.scatter(x['SepalWidthCm'], x['PetalWidthCm'], c=colors[i], label=species[i])\n",
        "\n",
        "# Add labels to the x and y axes.\n",
        "plt.xlabel('Sepal Width')\n",
        "plt.ylabel('Petal Width')\n",
        "\n",
        "# Add a legend to identify species based on colors.\n",
        "plt.legend()\n",
        "\n",
        "# Display the scatter plot.\n",
        "plt.show()"
      ]
    },
    {
      "cell_type": "markdown",
      "metadata": {
        "id": "OH-pJp9IphqM"
      },
      "source": [
        "#### Chart - 6 : Correlation Heatmap"
      ]
    },
    {
      "cell_type": "code",
      "execution_count": 41,
      "metadata": {
        "colab": {
          "base_uri": "https://localhost:8080/"
        },
        "id": "kuRf4wtuphqN",
        "outputId": "8864cbac-cf76-448a-be25-93465368eec8"
      },
      "outputs": [
        {
          "data": {
            "image/png": "[encoded data removed]",
            "text/plain": [
              "<Figure size 800x400 with 2 Axes>"
            ]
          },
          "metadata": {},
          "output_type": "display_data"
        }
      ],
      "source": [
        "# Exclude non-numeric columns\n",
        "numeric_data = data.select_dtypes(include=[np.number])\n",
        "\n",
        "# Calculate the correlation matrix\n",
        "corr_matrix = numeric_data.corr()\n",
        "\n",
        "# Plot Heatmap\n",
        "plt.figure(figsize=(8, 4))\n",
        "sns.heatmap(corr_matrix, annot=True, cmap='Reds_r')\n",
        "\n",
        "# Setting Labels\n",
        "plt.title('Correlation Matrix heatmap')\n",
        "\n",
        "# Display Chart\n",
        "plt.show()\n"
      ]
    },
    {
      "cell_type": "markdown",
      "metadata": {
        "id": "yLjJCtPM0KBk"
      },
      "source": [
        "## ***5. Feature Engineering & Data Pre-processing***"
      ]
    },
    {
      "cell_type": "markdown",
      "metadata": {
        "id": "89xtkJwZ18nB"
      },
      "source": [
        "### 1. Categorical Encoding"
      ]
    },
    {
      "cell_type": "code",
      "execution_count": 42,
      "metadata": {
        "colab": {
          "base_uri": "https://localhost:8080/"
        },
        "id": "21JmIYMG2hEo",
        "outputId": "ec7dd55b-f93a-4294-f1a9-428e8d2338a3"
      },
      "outputs": [
        {
          "name": "stdout",
          "output_type": "stream",
          "text": [
            "Encoded Species Values:\n",
            "[0 1 2]\n"
          ]
        }
      ],
      "source": [
        "# Encode the categorical columns\n",
        "# Create a LabelEncoder object\n",
        "le = LabelEncoder()\n",
        "\n",
        "# Encode the 'Species' column to convert the species names to numerical labels\n",
        "data['Species'] = le.fit_transform(data['Species'])\n",
        "\n",
        "# Check the unique values in the 'Species' column after encoding\n",
        "unique_species = data['Species'].unique()\n",
        "\n",
        "# Display the unique encoded values\n",
        "print(\"Encoded Species Values:\")\n",
        "print(unique_species) # 'Iris-setosa' == 0, 'Iris-versicolor' == 1, 'Iris-virginica' == 2"
      ]
    },
    {
      "cell_type": "markdown",
      "metadata": {
        "id": "rMDnDkt2B6du"
      },
      "source": [
        "### 2. Data Scaling"
      ]
    },
    {
      "cell_type": "code",
      "execution_count": 43,
      "metadata": {
        "id": "dL9LWpySC6x_"
      },
      "outputs": [],
      "source": [
        "# Defining the X and y\n",
        "x=data.drop(columns=['Species'], axis=1)\n",
        "y=data['Species']"
      ]
    },
    {
      "cell_type": "markdown",
      "metadata": {
        "id": "BhH2vgX9EjGr"
      },
      "source": [
        "### 3. Data Splitting"
      ]
    },
    {
      "cell_type": "code",
      "execution_count": 44,
      "metadata": {
        "id": "0CTyd2UwEyNM"
      },
      "outputs": [],
      "source": [
        "# Splitting the data to train and test\n",
        "x_train,x_test,y_train,y_test=train_test_split(x,y, test_size=0.3)"
      ]
    },
    {
      "cell_type": "code",
      "execution_count": 45,
      "metadata": {
        "colab": {
          "base_uri": "https://localhost:8080/"
        },
        "id": "-fRxg3Xr9g_R",
        "outputId": "97c67228-3a22-48fe-f5a0-ecc1d4e024a4"
      },
      "outputs": [
        {
          "data": {
            "text/plain": [
              "Species\n",
              "2    35\n",
              "1    35\n",
              "0    35\n",
              "Name: count, dtype: int64"
            ]
          },
          "execution_count": 45,
          "metadata": {},
          "output_type": "execute_result"
        }
      ],
      "source": [
        "# Checking the train distribution of dependent variable\n",
        "y_train.value_counts()"
      ]
    },
    {
      "cell_type": "markdown",
      "metadata": {
        "id": "VfCC591jGiD4"
      },
      "source": [
        "## ***6. ML Model Implementation***"
      ]
    },
    {
      "cell_type": "code",
      "execution_count": 46,
      "metadata": {
        "id": "PPTAGKKZkMyV"
      },
      "outputs": [],
      "source": [
        "def evaluate_model(model, x_train, x_test, y_train, y_test):\n",
        "    '''The function will take model, x train, x test, y train, y test\n",
        "    and then it will fit the model, then make predictions on the trained model,\n",
        "    it will then print roc-auc score of train and test, then plot the roc, auc curve,\n",
        "    print confusion matrix for train and test, then print classification report for train and test,\n",
        "    then plot the feature importances if the model has feature importances,\n",
        "    and finally it will return the following scores as a list:\n",
        "    recall_train, recall_test, acc_train, acc_test, F1_train, F1_test\n",
        "    '''\n",
        "\n",
        "    # Fit the model to the training data.\n",
        "    model.fit(x_train, y_train)\n",
        "\n",
        "    # make predictions on the test data\n",
        "    y_pred_train = model.predict(x_train)\n",
        "    y_pred_test = model.predict(x_test)\n",
        "\n",
        "    # calculate confusion matrix\n",
        "    cm_train = confusion_matrix(y_train, y_pred_train)\n",
        "    cm_test = confusion_matrix(y_test, y_pred_test)\n",
        "\n",
        "    fig, ax = plt.subplots(1, 2, figsize=(11,4))\n",
        "\n",
        "    print(\"\\nConfusion Matrix:\")\n",
        "    sns.heatmap(cm_train, annot=True, xticklabels=['Negative', 'Positive'], yticklabels=['Negative', 'Positive'], cmap=\"Oranges\", fmt='.4g', ax=ax[0])\n",
        "    ax[0].set_xlabel(\"Predicted Label\")\n",
        "    ax[0].set_ylabel(\"True Label\")\n",
        "    ax[0].set_title(\"Train Confusion Matrix\")\n",
        "\n",
        "    sns.heatmap(cm_test, annot=True, xticklabels=['Negative', 'Positive'], yticklabels=['Negative', 'Positive'], cmap=\"Oranges\", fmt='.4g', ax=ax[1])\n",
        "    ax[1].set_xlabel(\"Predicted Label\")\n",
        "    ax[1].set_ylabel(\"True Label\")\n",
        "    ax[1].set_title(\"Test Confusion Matrix\")\n",
        "\n",
        "    plt.tight_layout()\n",
        "    plt.show()\n",
        "\n",
        "\n",
        "    # calculate classification report\n",
        "    cr_train = classification_report(y_train, y_pred_train, output_dict=True)\n",
        "    cr_test = classification_report(y_test, y_pred_test, output_dict=True)\n",
        "    print(\"\\nTrain Classification Report:\")\n",
        "    crt = pd.DataFrame(cr_train).T\n",
        "    print(crt.to_markdown())\n",
        "    # sns.heatmap(pd.DataFrame(cr_train).T.iloc[:, :-1], annot=True, cmap=\"Blues\")\n",
        "    print(\"\\nTest Classification Report:\")\n",
        "    crt2 = pd.DataFrame(cr_test).T\n",
        "    print(crt2.to_markdown())\n",
        "    # sns.heatmap(pd.DataFrame(cr_test).T.iloc[:, :-1], annot=True, cmap=\"Blues\")\n",
        "\n",
        "    precision_train = cr_train['weighted avg']['precision']\n",
        "    precision_test = cr_test['weighted avg']['precision']\n",
        "\n",
        "    recall_train = cr_train['weighted avg']['recall']\n",
        "    recall_test = cr_test['weighted avg']['recall']\n",
        "\n",
        "    acc_train = accuracy_score(y_true = y_train, y_pred = y_pred_train)\n",
        "    acc_test = accuracy_score(y_true = y_test, y_pred = y_pred_test)\n",
        "\n",
        "    F1_train = cr_train['weighted avg']['f1-score']\n",
        "    F1_test = cr_test['weighted avg']['f1-score']\n",
        "\n",
        "    model_score = [precision_train, precision_test, recall_train, recall_test, acc_train, acc_test, F1_train, F1_test ]\n",
        "    return model_score"
      ]
    },
    {
      "cell_type": "code",
      "execution_count": 47,
      "metadata": {
        "id": "SisvUGuimFkW"
      },
      "outputs": [],
      "source": [
        "# Create a score dataframe\n",
        "score = pd.DataFrame(index = ['Precision Train', 'Precision Test','Recall Train','Recall Test','Accuracy Train', 'Accuracy Test', 'F1 macro Train', 'F1 macro Test'])"
      ]
    },
    {
      "cell_type": "markdown",
      "metadata": {
        "id": "mWppNeqWwA-M"
      },
      "source": [
        "### ML Model - 1 : Logistic regression"
      ]
    },
    {
      "cell_type": "code",
      "execution_count": 48,
      "metadata": {
        "id": "pjY8lKMfwA-V"
      },
      "outputs": [],
      "source": [
        "# ML Model - 1 Implementation\n",
        "lr_model = LogisticRegression(fit_intercept=True, max_iter=10000)\n",
        "\n",
        "# Model is trained (fit) and predicted in the evaluate model"
      ]
    },
    {
      "cell_type": "markdown",
      "metadata": {
        "id": "pTi0g55fwA-W"
      },
      "source": [
        "#### 1. Explain the ML Model used and it's performance using Evaluation metric Score Chart."
      ]
    },
    {
      "cell_type": "code",
      "execution_count": 49,
      "metadata": {
        "colab": {
          "base_uri": "https://localhost:8080/"
        },
        "id": "e7haAzk4wA-W",
        "outputId": "837c550d-7810-4bd2-d8e3-5ce66e860e6c"
      },
      "outputs": [
        {
          "name": "stdout",
          "output_type": "stream",
          "text": [
            "\n",
            "Confusion Matrix:\n"
          ]
        },
        {
          "data": {
            "image/png": "[encoded data removed]",
            "text/plain": [
              "<Figure size 1100x400 with 4 Axes>"
            ]
          },
          "metadata": {},
          "output_type": "display_data"
        },
        {
          "name": "stdout",
          "output_type": "stream",
          "text": [
            "\n",
            "Train Classification Report:\n",
            "|              |   precision |   recall |   f1-score |    support |\n",
            "|:-------------|------------:|---------:|-----------:|-----------:|\n",
            "| 0            |    1        | 1        |   1        |  35        |\n",
            "| 1            |    1        | 0.971429 |   0.985507 |  35        |\n",
            "| 2            |    0.972222 | 1        |   0.985915 |  35        |\n",
            "| accuracy     |    0.990476 | 0.990476 |   0.990476 |   0.990476 |\n",
            "| macro avg    |    0.990741 | 0.990476 |   0.990474 | 105        |\n",
            "| weighted avg |    0.990741 | 0.990476 |   0.990474 | 105        |\n",
            "\n",
            "Test Classification Report:\n",
            "|              |   precision |   recall |   f1-score |   support |\n",
            "|:-------------|------------:|---------:|-----------:|----------:|\n",
            "| 0            |    1        | 1        |   1        | 15        |\n",
            "| 1            |    0.928571 | 0.866667 |   0.896552 | 15        |\n",
            "| 2            |    0.875    | 0.933333 |   0.903226 | 15        |\n",
            "| accuracy     |    0.933333 | 0.933333 |   0.933333 |  0.933333 |\n",
            "| macro avg    |    0.934524 | 0.933333 |   0.933259 | 45        |\n",
            "| weighted avg |    0.934524 | 0.933333 |   0.933259 | 45        |\n"
          ]
        }
      ],
      "source": [
        "# Visualizing evaluation Metric Score chart\n",
        "lr_score = evaluate_model(lr_model, x_train, x_test, y_train, y_test)"
      ]
    },
    {
      "cell_type": "code",
      "execution_count": 50,
      "metadata": {
        "colab": {
          "base_uri": "https://localhost:8080/"
        },
        "id": "uBbjg5rNUzlz",
        "outputId": "e613b4ec-0acc-4abc-d32c-7221fa0dfc51"
      },
      "outputs": [
        {
          "data": {
            "text/html": [
              "<div>\n",
              "<style scoped>\n",
              "    .dataframe tbody tr th:only-of-type {\n",
              "        vertical-align: middle;\n",
              "    }\n",
              "\n",
              "    .dataframe tbody tr th {\n",
              "        vertical-align: top;\n",
              "    }\n",
              "\n",
              "    .dataframe thead th {\n",
              "        text-align: right;\n",
              "    }\n",
              "</style>\n",
              "<table border=\"1\" class=\"dataframe\">\n",
              "  <thead>\n",
              "    <tr style=\"text-align: right;\">\n",
              "      <th></th>\n",
              "      <th>Logistic regression</th>\n",
              "    </tr>\n",
              "  </thead>\n",
              "  <tbody>\n",
              "    <tr>\n",
              "      <th>Precision Train</th>\n",
              "      <td>0.990741</td>\n",
              "    </tr>\n",
              "    <tr>\n",
              "      <th>Precision Test</th>\n",
              "      <td>0.934524</td>\n",
              "    </tr>\n",
              "    <tr>\n",
              "      <th>Recall Train</th>\n",
              "      <td>0.990476</td>\n",
              "    </tr>\n",
              "    <tr>\n",
              "      <th>Recall Test</th>\n",
              "      <td>0.933333</td>\n",
              "    </tr>\n",
              "    <tr>\n",
              "      <th>Accuracy Train</th>\n",
              "      <td>0.990476</td>\n",
              "    </tr>\n",
              "    <tr>\n",
              "      <th>Accuracy Test</th>\n",
              "      <td>0.933333</td>\n",
              "    </tr>\n",
              "    <tr>\n",
              "      <th>F1 macro Train</th>\n",
              "      <td>0.990474</td>\n",
              "    </tr>\n",
              "    <tr>\n",
              "      <th>F1 macro Test</th>\n",
              "      <td>0.933259</td>\n",
              "    </tr>\n",
              "  </tbody>\n",
              "</table>\n",
              "</div>"
            ],
            "text/plain": [
              "                 Logistic regression\n",
              "Precision Train             0.990741\n",
              "Precision Test              0.934524\n",
              "Recall Train                0.990476\n",
              "Recall Test                 0.933333\n",
              "Accuracy Train              0.990476\n",
              "Accuracy Test               0.933333\n",
              "F1 macro Train              0.990474\n",
              "F1 macro Test               0.933259"
            ]
          },
          "execution_count": 50,
          "metadata": {},
          "output_type": "execute_result"
        }
      ],
      "source": [
        "# Updated Evaluation metric Score Chart\n",
        "score['Logistic regression'] = lr_score\n",
        "score"
      ]
    },
    {
      "cell_type": "markdown",
      "metadata": {
        "id": "iv0m-lDQwA-W"
      },
      "source": [
        "#### 2. Cross- Validation & Hyperparameter Tuning"
      ]
    },
    {
      "cell_type": "code",
      "execution_count": 51,
      "metadata": {
        "colab": {
          "base_uri": "https://localhost:8080/"
        },
        "id": "jqkHZjt7wA-X",
        "outputId": "dc5754f9-4774-442e-df45-776f0470b4e8"
      },
      "outputs": [
        {
          "name": "stdout",
          "output_type": "stream",
          "text": [
            "Best hyperparameters:  {'C': 10, 'penalty': 'l2', 'solver': 'newton-cg'}\n"
          ]
        }
      ],
      "source": [
        "# ML Model - 1 Implementation with hyperparameter optimization techniques (i.e., GridSearch CV, RandomSearch CV, Bayesian Optimization etc.)\n",
        "# Define the hyperparameter grid\n",
        "param_grid = {'C': [100,10,1,0.1,0.01,0.001,0.0001],\n",
        "              'penalty': ['l1', 'l2'],\n",
        "              'solver':['newton-cg', 'lbfgs', 'liblinear', 'sag', 'saga']}\n",
        "\n",
        "# Initializing the logistic regression model\n",
        "logreg = LogisticRegression(fit_intercept=True, max_iter=10000, random_state=0)\n",
        "\n",
        "# Repeated stratified kfold\n",
        "rskf = RepeatedStratifiedKFold(n_splits=3, n_repeats=4, random_state=0)\n",
        "\n",
        "# Using GridSearchCV to tune the hyperparameters using cross-validation\n",
        "grid = GridSearchCV(logreg, param_grid, cv=rskf)\n",
        "grid.fit(x_train, y_train)\n",
        "\n",
        "# Select the best hyperparameters found by GridSearchCV\n",
        "best_params = grid.best_params_\n",
        "print(\"Best hyperparameters: \", best_params)"
      ]
    },
    {
      "cell_type": "code",
      "execution_count": 52,
      "metadata": {
        "id": "bfWwIMtCVUf-"
      },
      "outputs": [],
      "source": [
        "# Initiate model with best parameters\n",
        "lr_model2 = LogisticRegression(C=best_params['C'],\n",
        "                                  penalty=best_params['penalty'],\n",
        "                                  solver=best_params['solver'],\n",
        "                                  max_iter=10000, random_state=0)"
      ]
    },
    {
      "cell_type": "code",
      "execution_count": 53,
      "metadata": {
        "colab": {
          "base_uri": "https://localhost:8080/",
          "height": 789
        },
        "id": "b9VFl9UaVWMy",
        "outputId": "40d6b5b4-6db4-4b5b-8bd2-653f934c4261"
      },
      "outputs": [
        {
          "name": "stdout",
          "output_type": "stream",
          "text": [
            "\n",
            "Confusion Matrix:\n"
          ]
        },
        {
          "data": {
            "image/png": "[encoded data removed]",
            "text/plain": [
              "<Figure size 1100x400 with 4 Axes>"
            ]
          },
          "metadata": {},
          "output_type": "display_data"
        },
        {
          "name": "stdout",
          "output_type": "stream",
          "text": [
            "\n",
            "Train Classification Report:\n",
            "|              |   precision |   recall |   f1-score |    support |\n",
            "|:-------------|------------:|---------:|-----------:|-----------:|\n",
            "| 0            |    1        | 1        |   1        |  35        |\n",
            "| 1            |    1        | 0.971429 |   0.985507 |  35        |\n",
            "| 2            |    0.972222 | 1        |   0.985915 |  35        |\n",
            "| accuracy     |    0.990476 | 0.990476 |   0.990476 |   0.990476 |\n",
            "| macro avg    |    0.990741 | 0.990476 |   0.990474 | 105        |\n",
            "| weighted avg |    0.990741 | 0.990476 |   0.990474 | 105        |\n",
            "\n",
            "Test Classification Report:\n",
            "|              |   precision |   recall |   f1-score |   support |\n",
            "|:-------------|------------:|---------:|-----------:|----------:|\n",
            "| 0            |    1        | 1        |   1        | 15        |\n",
            "| 1            |    1        | 0.866667 |   0.928571 | 15        |\n",
            "| 2            |    0.882353 | 1        |   0.9375   | 15        |\n",
            "| accuracy     |    0.955556 | 0.955556 |   0.955556 |  0.955556 |\n",
            "| macro avg    |    0.960784 | 0.955556 |   0.955357 | 45        |\n",
            "| weighted avg |    0.960784 | 0.955556 |   0.955357 | 45        |\n"
          ]
        }
      ],
      "source": [
        "# Visualizing evaluation Metric Score chart\n",
        "lr_score2 = evaluate_model(lr_model2, x_train, x_test, y_train, y_test)"
      ]
    },
    {
      "cell_type": "code",
      "execution_count": 54,
      "metadata": {
        "id": "TsqnpQW4Vnxx"
      },
      "outputs": [],
      "source": [
        "score['Logistic regression tuned'] = lr_score2"
      ]
    },
    {
      "cell_type": "markdown",
      "metadata": {
        "id": "mwnxeO7jwA-X"
      },
      "source": [
        "##### Which hyperparameter optimization technique have i used and why?"
      ]
    },
    {
      "cell_type": "markdown",
      "metadata": {
        "id": "qJdahr6QwA-X"
      },
      "source": [
        "The hyperparameter optimization technique used is GridSearchCV. GridSearchCV is a method that performs an exhaustive search over a specified parameter grid to find the best hyperparameters for a model. It is a popular method for hyperparameter tuning because it is simple to implement and can be effective in finding good hyperparameters for a model.\n",
        "\n",
        "The choice of hyperparameter optimization technique depends on various factors such as the size of the parameter space, the computational resources available, and the time constraints. GridSearchCV can be a good choice when the parameter space is relatively small and computational resources are not a major concern."
      ]
    },
    {
      "cell_type": "markdown",
      "metadata": {
        "id": "huCCA590wA-X"
      },
      "source": [
        "##### Have i seen any improvement? Note down the improvement with updates Evaluation metric Score Chart."
      ]
    },
    {
      "cell_type": "code",
      "execution_count": 55,
      "metadata": {
        "colab": {
          "base_uri": "https://localhost:8080/",
          "height": 300
        },
        "id": "haB7fCvRWIdx",
        "outputId": "5405cc19-4a06-4151-8ddf-a7364fe8a268"
      },
      "outputs": [
        {
          "data": {
            "text/html": [
              "<div>\n",
              "<style scoped>\n",
              "    .dataframe tbody tr th:only-of-type {\n",
              "        vertical-align: middle;\n",
              "    }\n",
              "\n",
              "    .dataframe tbody tr th {\n",
              "        vertical-align: top;\n",
              "    }\n",
              "\n",
              "    .dataframe thead th {\n",
              "        text-align: right;\n",
              "    }\n",
              "</style>\n",
              "<table border=\"1\" class=\"dataframe\">\n",
              "  <thead>\n",
              "    <tr style=\"text-align: right;\">\n",
              "      <th></th>\n",
              "      <th>Logistic regression</th>\n",
              "      <th>Logistic regression tuned</th>\n",
              "    </tr>\n",
              "  </thead>\n",
              "  <tbody>\n",
              "    <tr>\n",
              "      <th>Precision Train</th>\n",
              "      <td>0.990741</td>\n",
              "      <td>0.990741</td>\n",
              "    </tr>\n",
              "    <tr>\n",
              "      <th>Precision Test</th>\n",
              "      <td>0.934524</td>\n",
              "      <td>0.960784</td>\n",
              "    </tr>\n",
              "    <tr>\n",
              "      <th>Recall Train</th>\n",
              "      <td>0.990476</td>\n",
              "      <td>0.990476</td>\n",
              "    </tr>\n",
              "    <tr>\n",
              "      <th>Recall Test</th>\n",
              "      <td>0.933333</td>\n",
              "      <td>0.955556</td>\n",
              "    </tr>\n",
              "    <tr>\n",
              "      <th>Accuracy Train</th>\n",
              "      <td>0.990476</td>\n",
              "      <td>0.990476</td>\n",
              "    </tr>\n",
              "    <tr>\n",
              "      <th>Accuracy Test</th>\n",
              "      <td>0.933333</td>\n",
              "      <td>0.955556</td>\n",
              "    </tr>\n",
              "    <tr>\n",
              "      <th>F1 macro Train</th>\n",
              "      <td>0.990474</td>\n",
              "      <td>0.990474</td>\n",
              "    </tr>\n",
              "    <tr>\n",
              "      <th>F1 macro Test</th>\n",
              "      <td>0.933259</td>\n",
              "      <td>0.955357</td>\n",
              "    </tr>\n",
              "  </tbody>\n",
              "</table>\n",
              "</div>"
            ],
            "text/plain": [
              "                 Logistic regression  Logistic regression tuned\n",
              "Precision Train             0.990741                   0.990741\n",
              "Precision Test              0.934524                   0.960784\n",
              "Recall Train                0.990476                   0.990476\n",
              "Recall Test                 0.933333                   0.955556\n",
              "Accuracy Train              0.990476                   0.990476\n",
              "Accuracy Test               0.933333                   0.955556\n",
              "F1 macro Train              0.990474                   0.990474\n",
              "F1 macro Test               0.933259                   0.955357"
            ]
          },
          "execution_count": 55,
          "metadata": {},
          "output_type": "execute_result"
        }
      ],
      "source": [
        "# Updated Evaluation metric Score Chart\n",
        "score"
      ]
    },
    {
      "cell_type": "markdown",
      "metadata": {
        "id": "SmvtmJuQwA-Y"
      },
      "source": [
        "It appears that hyperparameter tuning did not improve the performance of the Logistic Regression model on the test set. The precision, recall, accuracy and F1 scores on the test set are same for both tuned and untuned Logistic Regression models."
      ]
    },
    {
      "cell_type": "markdown",
      "metadata": {
        "id": "VzKNBLqiwA-Y"
      },
      "source": [
        "### ML Model - 2 : Decision Tree"
      ]
    },
    {
      "cell_type": "code",
      "execution_count": 56,
      "metadata": {
        "id": "EOs5hr_k8M5L"
      },
      "outputs": [],
      "source": [
        "# ML Model - 2 Implementation\n",
        "dt_model = DecisionTreeClassifier(random_state=20)\n",
        "\n",
        "# Model is trained (fit) and predicted in the evaluate model"
      ]
    },
    {
      "cell_type": "markdown",
      "metadata": {
        "id": "1GL-36pywA-Y"
      },
      "source": [
        "#### 1. Explain the ML Model used and it's performance using Evaluation metric Score Chart."
      ]
    },
    {
      "cell_type": "code",
      "execution_count": 57,
      "metadata": {
        "colab": {
          "base_uri": "https://localhost:8080/"
        },
        "id": "fz_4QHj2wA-Y",
        "outputId": "6ee6eea3-1527-4200-a730-9bf4fc0842bf"
      },
      "outputs": [
        {
          "name": "stdout",
          "output_type": "stream",
          "text": [
            "\n",
            "Confusion Matrix:\n"
          ]
        },
        {
          "data": {
            "image/png": "[encoded data removed]",
            "text/plain": [
              "<Figure size 1100x400 with 4 Axes>"
            ]
          },
          "metadata": {},
          "output_type": "display_data"
        },
        {
          "name": "stdout",
          "output_type": "stream",
          "text": [
            "\n",
            "Train Classification Report:\n",
            "|              |   precision |   recall |   f1-score |   support |\n",
            "|:-------------|------------:|---------:|-----------:|----------:|\n",
            "| 0            |           1 |        1 |          1 |        35 |\n",
            "| 1            |           1 |        1 |          1 |        35 |\n",
            "| 2            |           1 |        1 |          1 |        35 |\n",
            "| accuracy     |           1 |        1 |          1 |         1 |\n",
            "| macro avg    |           1 |        1 |          1 |       105 |\n",
            "| weighted avg |           1 |        1 |          1 |       105 |\n",
            "\n",
            "Test Classification Report:\n",
            "|              |   precision |   recall |   f1-score |   support |\n",
            "|:-------------|------------:|---------:|-----------:|----------:|\n",
            "| 0            |    1        | 1        |   1        | 15        |\n",
            "| 1            |    0.866667 | 0.866667 |   0.866667 | 15        |\n",
            "| 2            |    0.866667 | 0.866667 |   0.866667 | 15        |\n",
            "| accuracy     |    0.911111 | 0.911111 |   0.911111 |  0.911111 |\n",
            "| macro avg    |    0.911111 | 0.911111 |   0.911111 | 45        |\n",
            "| weighted avg |    0.911111 | 0.911111 |   0.911111 | 45        |\n"
          ]
        }
      ],
      "source": [
        "# Visualizing evaluation Metric Score chart\n",
        "dt_score = evaluate_model(dt_model, x_train, x_test, y_train, y_test)"
      ]
    },
    {
      "cell_type": "code",
      "execution_count": 58,
      "metadata": {
        "colab": {
          "base_uri": "https://localhost:8080/"
        },
        "id": "tlG_TPuZB9vc",
        "outputId": "21d62567-e74e-44ed-a0d8-385771dfb37f"
      },
      "outputs": [
        {
          "data": {
            "text/html": [
              "<div>\n",
              "<style scoped>\n",
              "    .dataframe tbody tr th:only-of-type {\n",
              "        vertical-align: middle;\n",
              "    }\n",
              "\n",
              "    .dataframe tbody tr th {\n",
              "        vertical-align: top;\n",
              "    }\n",
              "\n",
              "    .dataframe thead th {\n",
              "        text-align: right;\n",
              "    }\n",
              "</style>\n",
              "<table border=\"1\" class=\"dataframe\">\n",
              "  <thead>\n",
              "    <tr style=\"text-align: right;\">\n",
              "      <th></th>\n",
              "      <th>Logistic regression</th>\n",
              "      <th>Logistic regression tuned</th>\n",
              "      <th>Decision Tree</th>\n",
              "    </tr>\n",
              "  </thead>\n",
              "  <tbody>\n",
              "    <tr>\n",
              "      <th>Precision Train</th>\n",
              "      <td>0.990741</td>\n",
              "      <td>0.990741</td>\n",
              "      <td>1.000000</td>\n",
              "    </tr>\n",
              "    <tr>\n",
              "      <th>Precision Test</th>\n",
              "      <td>0.934524</td>\n",
              "      <td>0.960784</td>\n",
              "      <td>0.911111</td>\n",
              "    </tr>\n",
              "    <tr>\n",
              "      <th>Recall Train</th>\n",
              "      <td>0.990476</td>\n",
              "      <td>0.990476</td>\n",
              "      <td>1.000000</td>\n",
              "    </tr>\n",
              "    <tr>\n",
              "      <th>Recall Test</th>\n",
              "      <td>0.933333</td>\n",
              "      <td>0.955556</td>\n",
              "      <td>0.911111</td>\n",
              "    </tr>\n",
              "    <tr>\n",
              "      <th>Accuracy Train</th>\n",
              "      <td>0.990476</td>\n",
              "      <td>0.990476</td>\n",
              "      <td>1.000000</td>\n",
              "    </tr>\n",
              "    <tr>\n",
              "      <th>Accuracy Test</th>\n",
              "      <td>0.933333</td>\n",
              "      <td>0.955556</td>\n",
              "      <td>0.911111</td>\n",
              "    </tr>\n",
              "    <tr>\n",
              "      <th>F1 macro Train</th>\n",
              "      <td>0.990474</td>\n",
              "      <td>0.990474</td>\n",
              "      <td>1.000000</td>\n",
              "    </tr>\n",
              "    <tr>\n",
              "      <th>F1 macro Test</th>\n",
              "      <td>0.933259</td>\n",
              "      <td>0.955357</td>\n",
              "      <td>0.911111</td>\n",
              "    </tr>\n",
              "  </tbody>\n",
              "</table>\n",
              "</div>"
            ],
            "text/plain": [
              "                 Logistic regression  Logistic regression tuned  Decision Tree\n",
              "Precision Train             0.990741                   0.990741       1.000000\n",
              "Precision Test              0.934524                   0.960784       0.911111\n",
              "Recall Train                0.990476                   0.990476       1.000000\n",
              "Recall Test                 0.933333                   0.955556       0.911111\n",
              "Accuracy Train              0.990476                   0.990476       1.000000\n",
              "Accuracy Test               0.933333                   0.955556       0.911111\n",
              "F1 macro Train              0.990474                   0.990474       1.000000\n",
              "F1 macro Test               0.933259                   0.955357       0.911111"
            ]
          },
          "execution_count": 58,
          "metadata": {},
          "output_type": "execute_result"
        }
      ],
      "source": [
        "# Updated Evaluation metric Score Chart\n",
        "score['Decision Tree'] = dt_score\n",
        "score"
      ]
    },
    {
      "cell_type": "markdown",
      "metadata": {
        "id": "nWFgbYYVwA-Z"
      },
      "source": [
        "#### 2. Cross- Validation & Hyperparameter Tuning"
      ]
    },
    {
      "cell_type": "code",
      "execution_count": 59,
      "metadata": {
        "colab": {
          "base_uri": "https://localhost:8080/"
        },
        "id": "FPAxyd04wA-Z",
        "outputId": "481fec13-aec1-40f8-fe87-946a56106711"
      },
      "outputs": [
        {
          "name": "stdout",
          "output_type": "stream",
          "text": [
            "Best hyperparameters:  {'max_depth': 3, 'min_samples_leaf': 10, 'min_samples_split': 6}\n"
          ]
        }
      ],
      "source": [
        "# ML Model - 2 Implementation with hyperparameter optimization techniques (i.e., GridSearch CV, RandomSearch CV, Bayesian Optimization etc.)\n",
        "# Define the hyperparameter grid\n",
        "grid = {'max_depth' : [3,4,5,6,7,8],\n",
        "        'min_samples_split' : np.arange(2,8),\n",
        "        'min_samples_leaf' : np.arange(10,20)}\n",
        "\n",
        "# Initialize the model\n",
        "model = DecisionTreeClassifier()\n",
        "\n",
        "# repeated stratified kfold\n",
        "rskf = RepeatedStratifiedKFold(n_splits=3, n_repeats=3, random_state=0)\n",
        "\n",
        "# Initialize GridSearchCV\n",
        "grid_search = GridSearchCV(model, grid, cv=rskf)\n",
        "\n",
        "# Fit the GridSearchCV to the training data\n",
        "grid_search.fit(x_train, y_train)\n",
        "\n",
        "# Select the best hyperparameters\n",
        "best_params = grid_search.best_params_\n",
        "print(\"Best hyperparameters: \", best_params)"
      ]
    },
    {
      "cell_type": "code",
      "execution_count": 60,
      "metadata": {
        "id": "lFPV0F66Doc_"
      },
      "outputs": [],
      "source": [
        "# Train a new model with the best hyperparameters\n",
        "dt_model2 = DecisionTreeClassifier(max_depth=best_params['max_depth'],\n",
        "                                 min_samples_leaf=best_params['min_samples_leaf'],\n",
        "                                 min_samples_split=best_params['min_samples_split'],\n",
        "                                 random_state=20)"
      ]
    },
    {
      "cell_type": "code",
      "execution_count": 61,
      "metadata": {
        "colab": {
          "base_uri": "https://localhost:8080/",
          "height": 789
        },
        "id": "M4htWLUADvI8",
        "outputId": "6e08bf2b-f9d9-4710-db6b-68ccb912715a"
      },
      "outputs": [
        {
          "name": "stdout",
          "output_type": "stream",
          "text": [
            "\n",
            "Confusion Matrix:\n"
          ]
        },
        {
          "data": {
            "image/png": "[encoded data removed]",
            "text/plain": [
              "<Figure size 1100x400 with 4 Axes>"
            ]
          },
          "metadata": {},
          "output_type": "display_data"
        },
        {
          "name": "stdout",
          "output_type": "stream",
          "text": [
            "\n",
            "Train Classification Report:\n",
            "|              |   precision |   recall |   f1-score |    support |\n",
            "|:-------------|------------:|---------:|-----------:|-----------:|\n",
            "| 0            |    1        | 1        |   1        |  35        |\n",
            "| 1            |    1        | 0.942857 |   0.970588 |  35        |\n",
            "| 2            |    0.945946 | 1        |   0.972222 |  35        |\n",
            "| accuracy     |    0.980952 | 0.980952 |   0.980952 |   0.980952 |\n",
            "| macro avg    |    0.981982 | 0.980952 |   0.980937 | 105        |\n",
            "| weighted avg |    0.981982 | 0.980952 |   0.980937 | 105        |\n",
            "\n",
            "Test Classification Report:\n",
            "|              |   precision |   recall |   f1-score |   support |\n",
            "|:-------------|------------:|---------:|-----------:|----------:|\n",
            "| 0            |    1        | 1        |   1        | 15        |\n",
            "| 1            |    0.916667 | 0.733333 |   0.814815 | 15        |\n",
            "| 2            |    0.777778 | 0.933333 |   0.848485 | 15        |\n",
            "| accuracy     |    0.888889 | 0.888889 |   0.888889 |  0.888889 |\n",
            "| macro avg    |    0.898148 | 0.888889 |   0.887767 | 45        |\n",
            "| weighted avg |    0.898148 | 0.888889 |   0.887767 | 45        |\n"
          ]
        }
      ],
      "source": [
        "# Visualizing evaluation Metric Score chart\n",
        "dt2_score = evaluate_model(dt_model2, x_train, x_test, y_train, y_test)"
      ]
    },
    {
      "cell_type": "code",
      "execution_count": 62,
      "metadata": {
        "id": "MPa2P97oEFVh"
      },
      "outputs": [],
      "source": [
        "score['Decision Tree tuned'] = dt2_score"
      ]
    },
    {
      "cell_type": "markdown",
      "metadata": {
        "id": "841njF38wA-Z"
      },
      "source": [
        "##### Which hyperparameter optimization technique have i used and why?"
      ]
    },
    {
      "cell_type": "markdown",
      "metadata": {
        "id": "3Z1OoVu4wA-Z"
      },
      "source": [
        "The hyperparameter optimization technique used is GridSearchCV. GridSearchCV is a method that performs an exhaustive search over a specified parameter grid to find the best hyperparameters for a model. It is a popular method for hyperparameter tuning because it is simple to implement and can be effective in finding good hyperparameters for a model.\n",
        "\n",
        "The choice of hyperparameter optimization technique depends on various factors such as the size of the parameter space, the computational resources available, and the time constraints. GridSearchCV can be a good choice when the parameter space is relatively small and computational resources are not a major concern."
      ]
    },
    {
      "cell_type": "markdown",
      "metadata": {
        "id": "AkBX0MHbwA-a"
      },
      "source": [
        "##### Have i seen any improvement? Note down the improvement with updates Evaluation metric Score Chart."
      ]
    },
    {
      "cell_type": "code",
      "execution_count": 63,
      "metadata": {
        "colab": {
          "base_uri": "https://localhost:8080/",
          "height": 300
        },
        "id": "VknJyN6FEdc6",
        "outputId": "19629310-6899-4755-f81e-2c8b7de46fcd"
      },
      "outputs": [
        {
          "data": {
            "text/html": [
              "<div>\n",
              "<style scoped>\n",
              "    .dataframe tbody tr th:only-of-type {\n",
              "        vertical-align: middle;\n",
              "    }\n",
              "\n",
              "    .dataframe tbody tr th {\n",
              "        vertical-align: top;\n",
              "    }\n",
              "\n",
              "    .dataframe thead th {\n",
              "        text-align: right;\n",
              "    }\n",
              "</style>\n",
              "<table border=\"1\" class=\"dataframe\">\n",
              "  <thead>\n",
              "    <tr style=\"text-align: right;\">\n",
              "      <th></th>\n",
              "      <th>Logistic regression</th>\n",
              "      <th>Logistic regression tuned</th>\n",
              "      <th>Decision Tree</th>\n",
              "      <th>Decision Tree tuned</th>\n",
              "    </tr>\n",
              "  </thead>\n",
              "  <tbody>\n",
              "    <tr>\n",
              "      <th>Precision Train</th>\n",
              "      <td>0.990741</td>\n",
              "      <td>0.990741</td>\n",
              "      <td>1.000000</td>\n",
              "      <td>0.981982</td>\n",
              "    </tr>\n",
              "    <tr>\n",
              "      <th>Precision Test</th>\n",
              "      <td>0.934524</td>\n",
              "      <td>0.960784</td>\n",
              "      <td>0.911111</td>\n",
              "      <td>0.898148</td>\n",
              "    </tr>\n",
              "    <tr>\n",
              "      <th>Recall Train</th>\n",
              "      <td>0.990476</td>\n",
              "      <td>0.990476</td>\n",
              "      <td>1.000000</td>\n",
              "      <td>0.980952</td>\n",
              "    </tr>\n",
              "    <tr>\n",
              "      <th>Recall Test</th>\n",
              "      <td>0.933333</td>\n",
              "      <td>0.955556</td>\n",
              "      <td>0.911111</td>\n",
              "      <td>0.888889</td>\n",
              "    </tr>\n",
              "    <tr>\n",
              "      <th>Accuracy Train</th>\n",
              "      <td>0.990476</td>\n",
              "      <td>0.990476</td>\n",
              "      <td>1.000000</td>\n",
              "      <td>0.980952</td>\n",
              "    </tr>\n",
              "    <tr>\n",
              "      <th>Accuracy Test</th>\n",
              "      <td>0.933333</td>\n",
              "      <td>0.955556</td>\n",
              "      <td>0.911111</td>\n",
              "      <td>0.888889</td>\n",
              "    </tr>\n",
              "    <tr>\n",
              "      <th>F1 macro Train</th>\n",
              "      <td>0.990474</td>\n",
              "      <td>0.990474</td>\n",
              "      <td>1.000000</td>\n",
              "      <td>0.980937</td>\n",
              "    </tr>\n",
              "    <tr>\n",
              "      <th>F1 macro Test</th>\n",
              "      <td>0.933259</td>\n",
              "      <td>0.955357</td>\n",
              "      <td>0.911111</td>\n",
              "      <td>0.887767</td>\n",
              "    </tr>\n",
              "  </tbody>\n",
              "</table>\n",
              "</div>"
            ],
            "text/plain": [
              "                 Logistic regression  Logistic regression tuned  \\\n",
              "Precision Train             0.990741                   0.990741   \n",
              "Precision Test              0.934524                   0.960784   \n",
              "Recall Train                0.990476                   0.990476   \n",
              "Recall Test                 0.933333                   0.955556   \n",
              "Accuracy Train              0.990476                   0.990476   \n",
              "Accuracy Test               0.933333                   0.955556   \n",
              "F1 macro Train              0.990474                   0.990474   \n",
              "F1 macro Test               0.933259                   0.955357   \n",
              "\n",
              "                 Decision Tree  Decision Tree tuned  \n",
              "Precision Train       1.000000             0.981982  \n",
              "Precision Test        0.911111             0.898148  \n",
              "Recall Train          1.000000             0.980952  \n",
              "Recall Test           0.911111             0.888889  \n",
              "Accuracy Train        1.000000             0.980952  \n",
              "Accuracy Test         0.911111             0.888889  \n",
              "F1 macro Train        1.000000             0.980937  \n",
              "F1 macro Test         0.911111             0.887767  "
            ]
          },
          "execution_count": 63,
          "metadata": {},
          "output_type": "execute_result"
        }
      ],
      "source": [
        "# Updated Evaluation metric Score Chart\n",
        "score"
      ]
    },
    {
      "cell_type": "markdown",
      "metadata": {
        "id": "XzZDDTLWwA-a"
      },
      "source": [
        "It appears that hyperparameter tuning didn't improved the performance of the Decision Tree model on the test set. The precision, recall, accuracy and F1 scores on the test set are less for the tuned Decision Tree model compare to the untuned Decision Tree model.\n",
        "\n",
        "The tuned model is not overfitting like the untuned model."
      ]
    },
    {
      "cell_type": "markdown",
      "metadata": {
        "id": "Bgen1cFIwA-a"
      },
      "source": [
        "### ML Model - 3 : Random Forest"
      ]
    },
    {
      "cell_type": "code",
      "execution_count": 64,
      "metadata": {
        "id": "6ihFy_gjwA-a"
      },
      "outputs": [],
      "source": [
        "# ML Model - 3 Implementation\n",
        "rf_model = RandomForestClassifier(random_state=0)\n",
        "\n",
        "# Model is trained (fit) and predicted in the evaluate model"
      ]
    },
    {
      "cell_type": "markdown",
      "metadata": {
        "id": "JPT_4dYWwA-a"
      },
      "source": [
        "#### 1. Explain the ML Model used and it's performance using Evaluation metric Score Chart."
      ]
    },
    {
      "cell_type": "code",
      "execution_count": 65,
      "metadata": {
        "colab": {
          "base_uri": "https://localhost:8080/"
        },
        "id": "o5z7_5MxwA-a",
        "outputId": "67f25f22-733b-4119-db36-9f96bb445f0f"
      },
      "outputs": [
        {
          "name": "stdout",
          "output_type": "stream",
          "text": [
            "\n",
            "Confusion Matrix:\n"
          ]
        },
        {
          "data": {
            "image/png": "[encoded data removed]",
            "text/plain": [
              "<Figure size 1100x400 with 4 Axes>"
            ]
          },
          "metadata": {},
          "output_type": "display_data"
        },
        {
          "name": "stdout",
          "output_type": "stream",
          "text": [
            "\n",
            "Train Classification Report:\n",
            "|              |   precision |   recall |   f1-score |   support |\n",
            "|:-------------|------------:|---------:|-----------:|----------:|\n",
            "| 0            |           1 |        1 |          1 |        35 |\n",
            "| 1            |           1 |        1 |          1 |        35 |\n",
            "| 2            |           1 |        1 |          1 |        35 |\n",
            "| accuracy     |           1 |        1 |          1 |         1 |\n",
            "| macro avg    |           1 |        1 |          1 |       105 |\n",
            "| weighted avg |           1 |        1 |          1 |       105 |\n",
            "\n",
            "Test Classification Report:\n",
            "|              |   precision |   recall |   f1-score |   support |\n",
            "|:-------------|------------:|---------:|-----------:|----------:|\n",
            "| 0            |    1        | 1        |   1        | 15        |\n",
            "| 1            |    0.928571 | 0.866667 |   0.896552 | 15        |\n",
            "| 2            |    0.875    | 0.933333 |   0.903226 | 15        |\n",
            "| accuracy     |    0.933333 | 0.933333 |   0.933333 |  0.933333 |\n",
            "| macro avg    |    0.934524 | 0.933333 |   0.933259 | 45        |\n",
            "| weighted avg |    0.934524 | 0.933333 |   0.933259 | 45        |\n"
          ]
        }
      ],
      "source": [
        "# Visualizing evaluation Metric Score chart\n",
        "rf_score = evaluate_model(rf_model, x_train, x_test, y_train, y_test)"
      ]
    },
    {
      "cell_type": "code",
      "execution_count": 66,
      "metadata": {
        "colab": {
          "base_uri": "https://localhost:8080/"
        },
        "id": "YRaqdO4jumXX",
        "outputId": "b96eed79-aeb7-433e-ea7c-8b90b2065a02"
      },
      "outputs": [
        {
          "data": {
            "text/html": [
              "<div>\n",
              "<style scoped>\n",
              "    .dataframe tbody tr th:only-of-type {\n",
              "        vertical-align: middle;\n",
              "    }\n",
              "\n",
              "    .dataframe tbody tr th {\n",
              "        vertical-align: top;\n",
              "    }\n",
              "\n",
              "    .dataframe thead th {\n",
              "        text-align: right;\n",
              "    }\n",
              "</style>\n",
              "<table border=\"1\" class=\"dataframe\">\n",
              "  <thead>\n",
              "    <tr style=\"text-align: right;\">\n",
              "      <th></th>\n",
              "      <th>Logistic regression</th>\n",
              "      <th>Logistic regression tuned</th>\n",
              "      <th>Decision Tree</th>\n",
              "      <th>Decision Tree tuned</th>\n",
              "      <th>Random Forest</th>\n",
              "    </tr>\n",
              "  </thead>\n",
              "  <tbody>\n",
              "    <tr>\n",
              "      <th>Precision Train</th>\n",
              "      <td>0.990741</td>\n",
              "      <td>0.990741</td>\n",
              "      <td>1.000000</td>\n",
              "      <td>0.981982</td>\n",
              "      <td>1.000000</td>\n",
              "    </tr>\n",
              "    <tr>\n",
              "      <th>Precision Test</th>\n",
              "      <td>0.934524</td>\n",
              "      <td>0.960784</td>\n",
              "      <td>0.911111</td>\n",
              "      <td>0.898148</td>\n",
              "      <td>0.934524</td>\n",
              "    </tr>\n",
              "    <tr>\n",
              "      <th>Recall Train</th>\n",
              "      <td>0.990476</td>\n",
              "      <td>0.990476</td>\n",
              "      <td>1.000000</td>\n",
              "      <td>0.980952</td>\n",
              "      <td>1.000000</td>\n",
              "    </tr>\n",
              "    <tr>\n",
              "      <th>Recall Test</th>\n",
              "      <td>0.933333</td>\n",
              "      <td>0.955556</td>\n",
              "      <td>0.911111</td>\n",
              "      <td>0.888889</td>\n",
              "      <td>0.933333</td>\n",
              "    </tr>\n",
              "    <tr>\n",
              "      <th>Accuracy Train</th>\n",
              "      <td>0.990476</td>\n",
              "      <td>0.990476</td>\n",
              "      <td>1.000000</td>\n",
              "      <td>0.980952</td>\n",
              "      <td>1.000000</td>\n",
              "    </tr>\n",
              "    <tr>\n",
              "      <th>Accuracy Test</th>\n",
              "      <td>0.933333</td>\n",
              "      <td>0.955556</td>\n",
              "      <td>0.911111</td>\n",
              "      <td>0.888889</td>\n",
              "      <td>0.933333</td>\n",
              "    </tr>\n",
              "    <tr>\n",
              "      <th>F1 macro Train</th>\n",
              "      <td>0.990474</td>\n",
              "      <td>0.990474</td>\n",
              "      <td>1.000000</td>\n",
              "      <td>0.980937</td>\n",
              "      <td>1.000000</td>\n",
              "    </tr>\n",
              "    <tr>\n",
              "      <th>F1 macro Test</th>\n",
              "      <td>0.933259</td>\n",
              "      <td>0.955357</td>\n",
              "      <td>0.911111</td>\n",
              "      <td>0.887767</td>\n",
              "      <td>0.933259</td>\n",
              "    </tr>\n",
              "  </tbody>\n",
              "</table>\n",
              "</div>"
            ],
            "text/plain": [
              "                 Logistic regression  Logistic regression tuned  \\\n",
              "Precision Train             0.990741                   0.990741   \n",
              "Precision Test              0.934524                   0.960784   \n",
              "Recall Train                0.990476                   0.990476   \n",
              "Recall Test                 0.933333                   0.955556   \n",
              "Accuracy Train              0.990476                   0.990476   \n",
              "Accuracy Test               0.933333                   0.955556   \n",
              "F1 macro Train              0.990474                   0.990474   \n",
              "F1 macro Test               0.933259                   0.955357   \n",
              "\n",
              "                 Decision Tree  Decision Tree tuned  Random Forest  \n",
              "Precision Train       1.000000             0.981982       1.000000  \n",
              "Precision Test        0.911111             0.898148       0.934524  \n",
              "Recall Train          1.000000             0.980952       1.000000  \n",
              "Recall Test           0.911111             0.888889       0.933333  \n",
              "Accuracy Train        1.000000             0.980952       1.000000  \n",
              "Accuracy Test         0.911111             0.888889       0.933333  \n",
              "F1 macro Train        1.000000             0.980937       1.000000  \n",
              "F1 macro Test         0.911111             0.887767       0.933259  "
            ]
          },
          "execution_count": 66,
          "metadata": {},
          "output_type": "execute_result"
        }
      ],
      "source": [
        "# Updated Evaluation metric Score Chart\n",
        "score['Random Forest'] = rf_score\n",
        "score"
      ]
    },
    {
      "cell_type": "markdown",
      "metadata": {
        "id": "LRvyaI9BwA-b"
      },
      "source": [
        "#### 2. Cross- Validation & Hyperparameter Tuning"
      ]
    },
    {
      "cell_type": "code",
      "execution_count": 67,
      "metadata": {
        "colab": {
          "base_uri": "https://localhost:8080/"
        },
        "id": "dPxstoI0wA-b",
        "outputId": "225732dd-c6bb-4df6-e494-46dfdfecb0c5"
      },
      "outputs": [
        {
          "name": "stdout",
          "output_type": "stream",
          "text": [
            "Best hyperparameters:  {'n_estimators': 200, 'min_samples_split': 4, 'max_depth': 13}\n"
          ]
        }
      ],
      "source": [
        "# ML Model - 3 Implementation with hyperparameter optimization techniques (i.e., GridSearch CV, RandomSearch CV, Bayesian Optimization etc.)\n",
        "# Define the hyperparameter grid\n",
        "grid = {'n_estimators': [10, 50, 100, 200],\n",
        "              'max_depth': [8, 9, 10, 11, 12,13, 14, 15],\n",
        "              'min_samples_split': [2, 3, 4, 5]}\n",
        "\n",
        "# Initialize the model\n",
        "rf = RandomForestClassifier(random_state=0)\n",
        "\n",
        "# Repeated stratified kfold\n",
        "rskf = RepeatedStratifiedKFold(n_splits=3, n_repeats=3, random_state=0)\n",
        "\n",
        "# Initialize RandomSearchCV\n",
        "random_search = RandomizedSearchCV(rf, grid,cv=rskf, n_iter=10, n_jobs=-1)\n",
        "\n",
        "# Fit the RandomSearchCV to the training data\n",
        "random_search.fit(x_train, y_train)\n",
        "\n",
        "# Select the best hyperparameters\n",
        "best_params = random_search.best_params_\n",
        "print(\"Best hyperparameters: \", best_params)"
      ]
    },
    {
      "cell_type": "code",
      "execution_count": 68,
      "metadata": {
        "id": "_kQLZcUVwHwv"
      },
      "outputs": [],
      "source": [
        "# Initialize model with best parameters\n",
        "rf_model2 = RandomForestClassifier(n_estimators = best_params['n_estimators'],\n",
        "                                 min_samples_leaf= best_params['min_samples_split'],\n",
        "                                 max_depth = best_params['max_depth'],\n",
        "                                 random_state=0)"
      ]
    },
    {
      "cell_type": "code",
      "execution_count": 69,
      "metadata": {
        "colab": {
          "base_uri": "https://localhost:8080/",
          "height": 789
        },
        "id": "Jl8uTrpRwPAj",
        "outputId": "5d71f140-1c6d-4ad6-f394-d0f6fc637a8b"
      },
      "outputs": [
        {
          "name": "stdout",
          "output_type": "stream",
          "text": [
            "\n",
            "Confusion Matrix:\n"
          ]
        },
        {
          "data": {
            "image/png": "[encoded data removed]",
            "text/plain": [
              "<Figure size 1100x400 with 4 Axes>"
            ]
          },
          "metadata": {},
          "output_type": "display_data"
        },
        {
          "name": "stdout",
          "output_type": "stream",
          "text": [
            "\n",
            "Train Classification Report:\n",
            "|              |   precision |   recall |   f1-score |    support |\n",
            "|:-------------|------------:|---------:|-----------:|-----------:|\n",
            "| 0            |    1        | 1        |   1        |  35        |\n",
            "| 1            |    1        | 0.942857 |   0.970588 |  35        |\n",
            "| 2            |    0.945946 | 1        |   0.972222 |  35        |\n",
            "| accuracy     |    0.980952 | 0.980952 |   0.980952 |   0.980952 |\n",
            "| macro avg    |    0.981982 | 0.980952 |   0.980937 | 105        |\n",
            "| weighted avg |    0.981982 | 0.980952 |   0.980937 | 105        |\n",
            "\n",
            "Test Classification Report:\n",
            "|              |   precision |   recall |   f1-score |   support |\n",
            "|:-------------|------------:|---------:|-----------:|----------:|\n",
            "| 0            |    1        | 1        |   1        | 15        |\n",
            "| 1            |    0.923077 | 0.8      |   0.857143 | 15        |\n",
            "| 2            |    0.823529 | 0.933333 |   0.875    | 15        |\n",
            "| accuracy     |    0.911111 | 0.911111 |   0.911111 |  0.911111 |\n",
            "| macro avg    |    0.915535 | 0.911111 |   0.910714 | 45        |\n",
            "| weighted avg |    0.915535 | 0.911111 |   0.910714 | 45        |\n"
          ]
        }
      ],
      "source": [
        "# Visualizing evaluation Metric Score chart\n",
        "rf2_score = evaluate_model(rf_model2, x_train, x_test, y_train, y_test)"
      ]
    },
    {
      "cell_type": "code",
      "execution_count": 70,
      "metadata": {
        "id": "AmhUFwxdwbSF"
      },
      "outputs": [],
      "source": [
        "score['Random Forest tuned'] = rf2_score"
      ]
    },
    {
      "cell_type": "markdown",
      "metadata": {
        "id": "c-26ctgmwA-c"
      },
      "source": [
        "##### Which hyperparameter optimization technique have i used and why?"
      ]
    },
    {
      "cell_type": "markdown",
      "metadata": {
        "id": "IpCC2mf0wA-c"
      },
      "source": [
        "The hyperparameter optimization technique i used is RandomizedSearchCV. RandomizedSearchCV is a method that performs a random search over a specified parameter grid to find the best hyperparameters for a model. It is a popular method for hyperparameter tuning because it can be more efficient than exhaustive search methods like GridSearchCV when the parameter space is large.\n",
        "\n",
        "The choice of hyperparameter optimization technique depends on various factors such as the size of the parameter space, the computational resources available, and the time constraints. RandomizedSearchCV can be a good choice when the parameter space is large and computational resources are limited."
      ]
    },
    {
      "cell_type": "markdown",
      "metadata": {
        "id": "HO3sJ66GwA-c"
      },
      "source": [
        "##### Have i seen any improvement? Note down the improvement with updates Evaluation metric Score Chart."
      ]
    },
    {
      "cell_type": "code",
      "execution_count": 71,
      "metadata": {
        "colab": {
          "base_uri": "https://localhost:8080/",
          "height": 300
        },
        "id": "os_VXzbzxdX7",
        "outputId": "5fbaf009-7ac0-42d2-a894-88a1ad08eee6"
      },
      "outputs": [
        {
          "data": {
            "text/html": [
              "<div>\n",
              "<style scoped>\n",
              "    .dataframe tbody tr th:only-of-type {\n",
              "        vertical-align: middle;\n",
              "    }\n",
              "\n",
              "    .dataframe tbody tr th {\n",
              "        vertical-align: top;\n",
              "    }\n",
              "\n",
              "    .dataframe thead th {\n",
              "        text-align: right;\n",
              "    }\n",
              "</style>\n",
              "<table border=\"1\" class=\"dataframe\">\n",
              "  <thead>\n",
              "    <tr style=\"text-align: right;\">\n",
              "      <th></th>\n",
              "      <th>Logistic regression</th>\n",
              "      <th>Logistic regression tuned</th>\n",
              "      <th>Decision Tree</th>\n",
              "      <th>Decision Tree tuned</th>\n",
              "      <th>Random Forest</th>\n",
              "      <th>Random Forest tuned</th>\n",
              "    </tr>\n",
              "  </thead>\n",
              "  <tbody>\n",
              "    <tr>\n",
              "      <th>Precision Train</th>\n",
              "      <td>0.990741</td>\n",
              "      <td>0.990741</td>\n",
              "      <td>1.000000</td>\n",
              "      <td>0.981982</td>\n",
              "      <td>1.000000</td>\n",
              "      <td>0.981982</td>\n",
              "    </tr>\n",
              "    <tr>\n",
              "      <th>Precision Test</th>\n",
              "      <td>0.934524</td>\n",
              "      <td>0.960784</td>\n",
              "      <td>0.911111</td>\n",
              "      <td>0.898148</td>\n",
              "      <td>0.934524</td>\n",
              "      <td>0.915535</td>\n",
              "    </tr>\n",
              "    <tr>\n",
              "      <th>Recall Train</th>\n",
              "      <td>0.990476</td>\n",
              "      <td>0.990476</td>\n",
              "      <td>1.000000</td>\n",
              "      <td>0.980952</td>\n",
              "      <td>1.000000</td>\n",
              "      <td>0.980952</td>\n",
              "    </tr>\n",
              "    <tr>\n",
              "      <th>Recall Test</th>\n",
              "      <td>0.933333</td>\n",
              "      <td>0.955556</td>\n",
              "      <td>0.911111</td>\n",
              "      <td>0.888889</td>\n",
              "      <td>0.933333</td>\n",
              "      <td>0.911111</td>\n",
              "    </tr>\n",
              "    <tr>\n",
              "      <th>Accuracy Train</th>\n",
              "      <td>0.990476</td>\n",
              "      <td>0.990476</td>\n",
              "      <td>1.000000</td>\n",
              "      <td>0.980952</td>\n",
              "      <td>1.000000</td>\n",
              "      <td>0.980952</td>\n",
              "    </tr>\n",
              "    <tr>\n",
              "      <th>Accuracy Test</th>\n",
              "      <td>0.933333</td>\n",
              "      <td>0.955556</td>\n",
              "      <td>0.911111</td>\n",
              "      <td>0.888889</td>\n",
              "      <td>0.933333</td>\n",
              "      <td>0.911111</td>\n",
              "    </tr>\n",
              "    <tr>\n",
              "      <th>F1 macro Train</th>\n",
              "      <td>0.990474</td>\n",
              "      <td>0.990474</td>\n",
              "      <td>1.000000</td>\n",
              "      <td>0.980937</td>\n",
              "      <td>1.000000</td>\n",
              "      <td>0.980937</td>\n",
              "    </tr>\n",
              "    <tr>\n",
              "      <th>F1 macro Test</th>\n",
              "      <td>0.933259</td>\n",
              "      <td>0.955357</td>\n",
              "      <td>0.911111</td>\n",
              "      <td>0.887767</td>\n",
              "      <td>0.933259</td>\n",
              "      <td>0.910714</td>\n",
              "    </tr>\n",
              "  </tbody>\n",
              "</table>\n",
              "</div>"
            ],
            "text/plain": [
              "                 Logistic regression  Logistic regression tuned  \\\n",
              "Precision Train             0.990741                   0.990741   \n",
              "Precision Test              0.934524                   0.960784   \n",
              "Recall Train                0.990476                   0.990476   \n",
              "Recall Test                 0.933333                   0.955556   \n",
              "Accuracy Train              0.990476                   0.990476   \n",
              "Accuracy Test               0.933333                   0.955556   \n",
              "F1 macro Train              0.990474                   0.990474   \n",
              "F1 macro Test               0.933259                   0.955357   \n",
              "\n",
              "                 Decision Tree  Decision Tree tuned  Random Forest  \\\n",
              "Precision Train       1.000000             0.981982       1.000000   \n",
              "Precision Test        0.911111             0.898148       0.934524   \n",
              "Recall Train          1.000000             0.980952       1.000000   \n",
              "Recall Test           0.911111             0.888889       0.933333   \n",
              "Accuracy Train        1.000000             0.980952       1.000000   \n",
              "Accuracy Test         0.911111             0.888889       0.933333   \n",
              "F1 macro Train        1.000000             0.980937       1.000000   \n",
              "F1 macro Test         0.911111             0.887767       0.933259   \n",
              "\n",
              "                 Random Forest tuned  \n",
              "Precision Train             0.981982  \n",
              "Precision Test              0.915535  \n",
              "Recall Train                0.980952  \n",
              "Recall Test                 0.911111  \n",
              "Accuracy Train              0.980952  \n",
              "Accuracy Test               0.911111  \n",
              "F1 macro Train              0.980937  \n",
              "F1 macro Test               0.910714  "
            ]
          },
          "execution_count": 71,
          "metadata": {},
          "output_type": "execute_result"
        }
      ],
      "source": [
        "# Updated Evaluation metric Score Chart\n",
        "score"
      ]
    },
    {
      "cell_type": "markdown",
      "metadata": {
        "id": "ta9Xk3xfwA-c"
      },
      "source": [
        "It appears that hyperparameter tuning improved the performance of the Random Forest model on the train set. But the precision, recall, accuracy and F1 scores on the test set are same for both tuned and untuned Random Forest models."
      ]
    },
    {
      "cell_type": "markdown",
      "metadata": {
        "id": "lHIyvCjC_4_G"
      },
      "source": [
        "### ML Model - 4 : SVM (Support Vector Machine)"
      ]
    },
    {
      "cell_type": "code",
      "execution_count": 72,
      "metadata": {
        "id": "e1TNdgXg_4_G"
      },
      "outputs": [],
      "source": [
        "# ML Model - 4 Implementation\n",
        "svm_model = SVC(kernel='linear', random_state=0, probability=True)\n",
        "\n",
        "# Model is trained (fit) and predicted in the evaluate model"
      ]
    },
    {
      "cell_type": "markdown",
      "metadata": {
        "id": "zlBiexnN_4_G"
      },
      "source": [
        "#### 1. Explain the ML Model used and it's performance using Evaluation metric Score Chart."
      ]
    },
    {
      "cell_type": "code",
      "execution_count": 73,
      "metadata": {
        "colab": {
          "base_uri": "https://localhost:8080/"
        },
        "id": "l3Ic0Y-m_4_G",
        "outputId": "3dbc4d5f-6794-45a3-94dd-d7f395d27504"
      },
      "outputs": [
        {
          "name": "stdout",
          "output_type": "stream",
          "text": [
            "\n",
            "Confusion Matrix:\n"
          ]
        },
        {
          "data": {
            "image/png": "[encoded data removed]",
            "text/plain": [
              "<Figure size 1100x400 with 4 Axes>"
            ]
          },
          "metadata": {},
          "output_type": "display_data"
        },
        {
          "name": "stdout",
          "output_type": "stream",
          "text": [
            "\n",
            "Train Classification Report:\n",
            "|              |   precision |   recall |   f1-score |   support |\n",
            "|:-------------|------------:|---------:|-----------:|----------:|\n",
            "| 0            |           1 |        1 |          1 |        35 |\n",
            "| 1            |           1 |        1 |          1 |        35 |\n",
            "| 2            |           1 |        1 |          1 |        35 |\n",
            "| accuracy     |           1 |        1 |          1 |         1 |\n",
            "| macro avg    |           1 |        1 |          1 |       105 |\n",
            "| weighted avg |           1 |        1 |          1 |       105 |\n",
            "\n",
            "Test Classification Report:\n",
            "|              |   precision |   recall |   f1-score |   support |\n",
            "|:-------------|------------:|---------:|-----------:|----------:|\n",
            "| 0            |    1        | 1        |   1        | 15        |\n",
            "| 1            |    0.933333 | 0.933333 |   0.933333 | 15        |\n",
            "| 2            |    0.933333 | 0.933333 |   0.933333 | 15        |\n",
            "| accuracy     |    0.955556 | 0.955556 |   0.955556 |  0.955556 |\n",
            "| macro avg    |    0.955556 | 0.955556 |   0.955556 | 45        |\n",
            "| weighted avg |    0.955556 | 0.955556 |   0.955556 | 45        |\n"
          ]
        }
      ],
      "source": [
        "# Visualizing evaluation Metric Score chart\n",
        "svm_score = evaluate_model(svm_model, x_train, x_test, y_train, y_test)"
      ]
    },
    {
      "cell_type": "code",
      "execution_count": 74,
      "metadata": {
        "colab": {
          "base_uri": "https://localhost:8080/"
        },
        "id": "hah2ym_FI9YW",
        "outputId": "75083ae9-e9ab-47b9-f307-bb4cdb75cf06"
      },
      "outputs": [
        {
          "data": {
            "text/html": [
              "<div>\n",
              "<style scoped>\n",
              "    .dataframe tbody tr th:only-of-type {\n",
              "        vertical-align: middle;\n",
              "    }\n",
              "\n",
              "    .dataframe tbody tr th {\n",
              "        vertical-align: top;\n",
              "    }\n",
              "\n",
              "    .dataframe thead th {\n",
              "        text-align: right;\n",
              "    }\n",
              "</style>\n",
              "<table border=\"1\" class=\"dataframe\">\n",
              "  <thead>\n",
              "    <tr style=\"text-align: right;\">\n",
              "      <th></th>\n",
              "      <th>Logistic regression</th>\n",
              "      <th>Logistic regression tuned</th>\n",
              "      <th>Decision Tree</th>\n",
              "      <th>Decision Tree tuned</th>\n",
              "      <th>Random Forest</th>\n",
              "      <th>Random Forest tuned</th>\n",
              "      <th>SVM</th>\n",
              "    </tr>\n",
              "  </thead>\n",
              "  <tbody>\n",
              "    <tr>\n",
              "      <th>Precision Train</th>\n",
              "      <td>0.990741</td>\n",
              "      <td>0.990741</td>\n",
              "      <td>1.000000</td>\n",
              "      <td>0.981982</td>\n",
              "      <td>1.000000</td>\n",
              "      <td>0.981982</td>\n",
              "      <td>1.000000</td>\n",
              "    </tr>\n",
              "    <tr>\n",
              "      <th>Precision Test</th>\n",
              "      <td>0.934524</td>\n",
              "      <td>0.960784</td>\n",
              "      <td>0.911111</td>\n",
              "      <td>0.898148</td>\n",
              "      <td>0.934524</td>\n",
              "      <td>0.915535</td>\n",
              "      <td>0.955556</td>\n",
              "    </tr>\n",
              "    <tr>\n",
              "      <th>Recall Train</th>\n",
              "      <td>0.990476</td>\n",
              "      <td>0.990476</td>\n",
              "      <td>1.000000</td>\n",
              "      <td>0.980952</td>\n",
              "      <td>1.000000</td>\n",
              "      <td>0.980952</td>\n",
              "      <td>1.000000</td>\n",
              "    </tr>\n",
              "    <tr>\n",
              "      <th>Recall Test</th>\n",
              "      <td>0.933333</td>\n",
              "      <td>0.955556</td>\n",
              "      <td>0.911111</td>\n",
              "      <td>0.888889</td>\n",
              "      <td>0.933333</td>\n",
              "      <td>0.911111</td>\n",
              "      <td>0.955556</td>\n",
              "    </tr>\n",
              "    <tr>\n",
              "      <th>Accuracy Train</th>\n",
              "      <td>0.990476</td>\n",
              "      <td>0.990476</td>\n",
              "      <td>1.000000</td>\n",
              "      <td>0.980952</td>\n",
              "      <td>1.000000</td>\n",
              "      <td>0.980952</td>\n",
              "      <td>1.000000</td>\n",
              "    </tr>\n",
              "    <tr>\n",
              "      <th>Accuracy Test</th>\n",
              "      <td>0.933333</td>\n",
              "      <td>0.955556</td>\n",
              "      <td>0.911111</td>\n",
              "      <td>0.888889</td>\n",
              "      <td>0.933333</td>\n",
              "      <td>0.911111</td>\n",
              "      <td>0.955556</td>\n",
              "    </tr>\n",
              "    <tr>\n",
              "      <th>F1 macro Train</th>\n",
              "      <td>0.990474</td>\n",
              "      <td>0.990474</td>\n",
              "      <td>1.000000</td>\n",
              "      <td>0.980937</td>\n",
              "      <td>1.000000</td>\n",
              "      <td>0.980937</td>\n",
              "      <td>1.000000</td>\n",
              "    </tr>\n",
              "    <tr>\n",
              "      <th>F1 macro Test</th>\n",
              "      <td>0.933259</td>\n",
              "      <td>0.955357</td>\n",
              "      <td>0.911111</td>\n",
              "      <td>0.887767</td>\n",
              "      <td>0.933259</td>\n",
              "      <td>0.910714</td>\n",
              "      <td>0.955556</td>\n",
              "    </tr>\n",
              "  </tbody>\n",
              "</table>\n",
              "</div>"
            ],
            "text/plain": [
              "                 Logistic regression  Logistic regression tuned  \\\n",
              "Precision Train             0.990741                   0.990741   \n",
              "Precision Test              0.934524                   0.960784   \n",
              "Recall Train                0.990476                   0.990476   \n",
              "Recall Test                 0.933333                   0.955556   \n",
              "Accuracy Train              0.990476                   0.990476   \n",
              "Accuracy Test               0.933333                   0.955556   \n",
              "F1 macro Train              0.990474                   0.990474   \n",
              "F1 macro Test               0.933259                   0.955357   \n",
              "\n",
              "                 Decision Tree  Decision Tree tuned  Random Forest  \\\n",
              "Precision Train       1.000000             0.981982       1.000000   \n",
              "Precision Test        0.911111             0.898148       0.934524   \n",
              "Recall Train          1.000000             0.980952       1.000000   \n",
              "Recall Test           0.911111             0.888889       0.933333   \n",
              "Accuracy Train        1.000000             0.980952       1.000000   \n",
              "Accuracy Test         0.911111             0.888889       0.933333   \n",
              "F1 macro Train        1.000000             0.980937       1.000000   \n",
              "F1 macro Test         0.911111             0.887767       0.933259   \n",
              "\n",
              "                 Random Forest tuned       SVM  \n",
              "Precision Train             0.981982  1.000000  \n",
              "Precision Test              0.915535  0.955556  \n",
              "Recall Train                0.980952  1.000000  \n",
              "Recall Test                 0.911111  0.955556  \n",
              "Accuracy Train              0.980952  1.000000  \n",
              "Accuracy Test               0.911111  0.955556  \n",
              "F1 macro Train              0.980937  1.000000  \n",
              "F1 macro Test               0.910714  0.955556  "
            ]
          },
          "execution_count": 74,
          "metadata": {},
          "output_type": "execute_result"
        }
      ],
      "source": [
        "# Updated Evaluation metric Score Chart\n",
        "score['SVM'] = svm_score\n",
        "score"
      ]
    },
    {
      "cell_type": "markdown",
      "metadata": {
        "id": "ffEiQ19I_4_H"
      },
      "source": [
        "#### 2. Cross- Validation & Hyperparameter Tuning"
      ]
    },
    {
      "cell_type": "code",
      "execution_count": 75,
      "metadata": {
        "colab": {
          "base_uri": "https://localhost:8080/"
        },
        "id": "AU8Saxiv_4_H",
        "outputId": "364e107c-60e6-4687-c043-e2dee24268e0"
      },
      "outputs": [
        {
          "name": "stdout",
          "output_type": "stream",
          "text": [
            "Best hyperparameters:  {'kernel': 'rbf', 'degree': 2, 'C': 3.8000000000000003}\n"
          ]
        }
      ],
      "source": [
        "# ML Model - 4 Implementation with hyperparameter optimization techniques (i.e., GridSearch CV, RandomSearch CV, Bayesian Optimization etc.)\n",
        "# Define the hyperparameter grid\n",
        "param_grid = {'C': np.arange(0.1, 10, 0.1),\n",
        "              'kernel': ['linear', 'poly', 'rbf', 'sigmoid'],\n",
        "              'degree': np.arange(2, 6, 1)}\n",
        "\n",
        "# Initialize the model\n",
        "svm = SVC(random_state=0, probability=True)\n",
        "\n",
        "# Repeated stratified kfold\n",
        "rskf = RepeatedStratifiedKFold(n_splits=3, n_repeats=3, random_state=0)\n",
        "\n",
        "# Initialize RandomizedSearchCV with kfold cross-validation\n",
        "random_search = RandomizedSearchCV(svm, param_grid, n_iter=10, cv=rskf, n_jobs=-1)\n",
        "\n",
        "# Fit the RandomizedSearchCV to the training data\n",
        "random_search.fit(x_train, y_train)\n",
        "\n",
        "# Select the best hyperparameters\n",
        "best_params = random_search.best_params_\n",
        "print(\"Best hyperparameters: \", best_params)"
      ]
    },
    {
      "cell_type": "code",
      "execution_count": 76,
      "metadata": {
        "id": "VytDm6E-JP-m"
      },
      "outputs": [],
      "source": [
        "# Initialize model with best parameters\n",
        "svm_model2 = SVC(C = best_params['C'],\n",
        "           kernel = best_params['kernel'],\n",
        "           degree = best_params['degree'],\n",
        "           random_state=0, probability=True)"
      ]
    },
    {
      "cell_type": "code",
      "execution_count": 77,
      "metadata": {
        "colab": {
          "base_uri": "https://localhost:8080/",
          "height": 789
        },
        "id": "DiLNfk1RJGXv",
        "outputId": "c83cc630-9d46-4f21-a4f4-c072bd592efc"
      },
      "outputs": [
        {
          "name": "stdout",
          "output_type": "stream",
          "text": [
            "\n",
            "Confusion Matrix:\n"
          ]
        },
        {
          "data": {
            "image/png": "[encoded data removed]",
            "text/plain": [
              "<Figure size 1100x400 with 4 Axes>"
            ]
          },
          "metadata": {},
          "output_type": "display_data"
        },
        {
          "name": "stdout",
          "output_type": "stream",
          "text": [
            "\n",
            "Train Classification Report:\n",
            "|              |   precision |   recall |   f1-score |   support |\n",
            "|:-------------|------------:|---------:|-----------:|----------:|\n",
            "| 0            |           1 |        1 |          1 |        35 |\n",
            "| 1            |           1 |        1 |          1 |        35 |\n",
            "| 2            |           1 |        1 |          1 |        35 |\n",
            "| accuracy     |           1 |        1 |          1 |         1 |\n",
            "| macro avg    |           1 |        1 |          1 |       105 |\n",
            "| weighted avg |           1 |        1 |          1 |       105 |\n",
            "\n",
            "Test Classification Report:\n",
            "|              |   precision |   recall |   f1-score |   support |\n",
            "|:-------------|------------:|---------:|-----------:|----------:|\n",
            "| 0            |    1        | 1        |   1        | 15        |\n",
            "| 1            |    0.933333 | 0.933333 |   0.933333 | 15        |\n",
            "| 2            |    0.933333 | 0.933333 |   0.933333 | 15        |\n",
            "| accuracy     |    0.955556 | 0.955556 |   0.955556 |  0.955556 |\n",
            "| macro avg    |    0.955556 | 0.955556 |   0.955556 | 45        |\n",
            "| weighted avg |    0.955556 | 0.955556 |   0.955556 | 45        |\n"
          ]
        }
      ],
      "source": [
        "# Visualizing evaluation Metric Score chart\n",
        "svm2_score = evaluate_model(svm_model2, x_train, x_test, y_train, y_test)"
      ]
    },
    {
      "cell_type": "code",
      "execution_count": 78,
      "metadata": {
        "id": "5jhEgQWyJG3P"
      },
      "outputs": [],
      "source": [
        "score['SVM tuned'] = svm2_score"
      ]
    },
    {
      "cell_type": "markdown",
      "metadata": {
        "id": "Bbpe4TaP_4_H"
      },
      "source": [
        "##### Which hyperparameter optimization technique have i used and why?"
      ]
    },
    {
      "cell_type": "markdown",
      "metadata": {
        "id": "2NSc4Rh__4_H"
      },
      "source": [
        " Here Randomized search is used as a hyperparameter optimization technique.\n",
        " Randomized search is a popular technique because it can be more efficient than exhaustive search methods like grid search. Instead of trying all possible combinations of hyperparameters, randomized search samples a random subset of the hyperparameter space. This can save time and computational resources while still finding good hyperparameters for the model."
      ]
    },
    {
      "cell_type": "markdown",
      "metadata": {
        "id": "ifZ_nK19_4_H"
      },
      "source": [
        "##### Have i seen any improvement? Note down the improvement with updates Evaluation metric Score Chart."
      ]
    },
    {
      "cell_type": "code",
      "execution_count": 79,
      "metadata": {
        "colab": {
          "base_uri": "https://localhost:8080/",
          "height": 300
        },
        "id": "9Ei0SAaAKd6I",
        "outputId": "222405fd-8dee-4d81-f52e-5635d57d5901"
      },
      "outputs": [
        {
          "data": {
            "text/html": [
              "<div>\n",
              "<style scoped>\n",
              "    .dataframe tbody tr th:only-of-type {\n",
              "        vertical-align: middle;\n",
              "    }\n",
              "\n",
              "    .dataframe tbody tr th {\n",
              "        vertical-align: top;\n",
              "    }\n",
              "\n",
              "    .dataframe thead th {\n",
              "        text-align: right;\n",
              "    }\n",
              "</style>\n",
              "<table border=\"1\" class=\"dataframe\">\n",
              "  <thead>\n",
              "    <tr style=\"text-align: right;\">\n",
              "      <th></th>\n",
              "      <th>Logistic regression</th>\n",
              "      <th>Logistic regression tuned</th>\n",
              "      <th>Decision Tree</th>\n",
              "      <th>Decision Tree tuned</th>\n",
              "      <th>Random Forest</th>\n",
              "      <th>Random Forest tuned</th>\n",
              "      <th>SVM</th>\n",
              "      <th>SVM tuned</th>\n",
              "    </tr>\n",
              "  </thead>\n",
              "  <tbody>\n",
              "    <tr>\n",
              "      <th>Precision Train</th>\n",
              "      <td>0.990741</td>\n",
              "      <td>0.990741</td>\n",
              "      <td>1.000000</td>\n",
              "      <td>0.981982</td>\n",
              "      <td>1.000000</td>\n",
              "      <td>0.981982</td>\n",
              "      <td>1.000000</td>\n",
              "      <td>1.000000</td>\n",
              "    </tr>\n",
              "    <tr>\n",
              "      <th>Precision Test</th>\n",
              "      <td>0.934524</td>\n",
              "      <td>0.960784</td>\n",
              "      <td>0.911111</td>\n",
              "      <td>0.898148</td>\n",
              "      <td>0.934524</td>\n",
              "      <td>0.915535</td>\n",
              "      <td>0.955556</td>\n",
              "      <td>0.955556</td>\n",
              "    </tr>\n",
              "    <tr>\n",
              "      <th>Recall Train</th>\n",
              "      <td>0.990476</td>\n",
              "      <td>0.990476</td>\n",
              "      <td>1.000000</td>\n",
              "      <td>0.980952</td>\n",
              "      <td>1.000000</td>\n",
              "      <td>0.980952</td>\n",
              "      <td>1.000000</td>\n",
              "      <td>1.000000</td>\n",
              "    </tr>\n",
              "    <tr>\n",
              "      <th>Recall Test</th>\n",
              "      <td>0.933333</td>\n",
              "      <td>0.955556</td>\n",
              "      <td>0.911111</td>\n",
              "      <td>0.888889</td>\n",
              "      <td>0.933333</td>\n",
              "      <td>0.911111</td>\n",
              "      <td>0.955556</td>\n",
              "      <td>0.955556</td>\n",
              "    </tr>\n",
              "    <tr>\n",
              "      <th>Accuracy Train</th>\n",
              "      <td>0.990476</td>\n",
              "      <td>0.990476</td>\n",
              "      <td>1.000000</td>\n",
              "      <td>0.980952</td>\n",
              "      <td>1.000000</td>\n",
              "      <td>0.980952</td>\n",
              "      <td>1.000000</td>\n",
              "      <td>1.000000</td>\n",
              "    </tr>\n",
              "    <tr>\n",
              "      <th>Accuracy Test</th>\n",
              "      <td>0.933333</td>\n",
              "      <td>0.955556</td>\n",
              "      <td>0.911111</td>\n",
              "      <td>0.888889</td>\n",
              "      <td>0.933333</td>\n",
              "      <td>0.911111</td>\n",
              "      <td>0.955556</td>\n",
              "      <td>0.955556</td>\n",
              "    </tr>\n",
              "    <tr>\n",
              "      <th>F1 macro Train</th>\n",
              "      <td>0.990474</td>\n",
              "      <td>0.990474</td>\n",
              "      <td>1.000000</td>\n",
              "      <td>0.980937</td>\n",
              "      <td>1.000000</td>\n",
              "      <td>0.980937</td>\n",
              "      <td>1.000000</td>\n",
              "      <td>1.000000</td>\n",
              "    </tr>\n",
              "    <tr>\n",
              "      <th>F1 macro Test</th>\n",
              "      <td>0.933259</td>\n",
              "      <td>0.955357</td>\n",
              "      <td>0.911111</td>\n",
              "      <td>0.887767</td>\n",
              "      <td>0.933259</td>\n",
              "      <td>0.910714</td>\n",
              "      <td>0.955556</td>\n",
              "      <td>0.955556</td>\n",
              "    </tr>\n",
              "  </tbody>\n",
              "</table>\n",
              "</div>"
            ],
            "text/plain": [
              "                 Logistic regression  Logistic regression tuned  \\\n",
              "Precision Train             0.990741                   0.990741   \n",
              "Precision Test              0.934524                   0.960784   \n",
              "Recall Train                0.990476                   0.990476   \n",
              "Recall Test                 0.933333                   0.955556   \n",
              "Accuracy Train              0.990476                   0.990476   \n",
              "Accuracy Test               0.933333                   0.955556   \n",
              "F1 macro Train              0.990474                   0.990474   \n",
              "F1 macro Test               0.933259                   0.955357   \n",
              "\n",
              "                 Decision Tree  Decision Tree tuned  Random Forest  \\\n",
              "Precision Train       1.000000             0.981982       1.000000   \n",
              "Precision Test        0.911111             0.898148       0.934524   \n",
              "Recall Train          1.000000             0.980952       1.000000   \n",
              "Recall Test           0.911111             0.888889       0.933333   \n",
              "Accuracy Train        1.000000             0.980952       1.000000   \n",
              "Accuracy Test         0.911111             0.888889       0.933333   \n",
              "F1 macro Train        1.000000             0.980937       1.000000   \n",
              "F1 macro Test         0.911111             0.887767       0.933259   \n",
              "\n",
              "                 Random Forest tuned       SVM  SVM tuned  \n",
              "Precision Train             0.981982  1.000000   1.000000  \n",
              "Precision Test              0.915535  0.955556   0.955556  \n",
              "Recall Train                0.980952  1.000000   1.000000  \n",
              "Recall Test                 0.911111  0.955556   0.955556  \n",
              "Accuracy Train              0.980952  1.000000   1.000000  \n",
              "Accuracy Test               0.911111  0.955556   0.955556  \n",
              "F1 macro Train              0.980937  1.000000   1.000000  \n",
              "F1 macro Test               0.910714  0.955556   0.955556  "
            ]
          },
          "execution_count": 79,
          "metadata": {},
          "output_type": "execute_result"
        }
      ],
      "source": [
        "# Updated Evaluation metric Score Chart\n",
        "score"
      ]
    },
    {
      "cell_type": "markdown",
      "metadata": {
        "id": "EvDgB1uo_4_H"
      },
      "source": [
        "It appears that hyperparameter tuning did not improve the performance of the SVM model on the test set. The precision, recall, accuracy and F1 scores on the test set are same for both tuned and untuned SVM models."
      ]
    },
    {
      "cell_type": "markdown",
      "metadata": {
        "id": "2CnsMkMiM-8g"
      },
      "source": [
        "### ML Model - 5 : Xtreme Gradient Boosting"
      ]
    },
    {
      "cell_type": "code",
      "execution_count": 80,
      "metadata": {
        "id": "ENIrhtBEM-8g"
      },
      "outputs": [],
      "source": [
        "# ML Model - 5 Implementation\n",
        "xgb_model = xgb.XGBClassifier()\n",
        "\n",
        "# Model is trained (fit) and predicted in the evaluate model"
      ]
    },
    {
      "cell_type": "markdown",
      "metadata": {
        "id": "axoYmkZZM-8g"
      },
      "source": [
        "#### 1. Explain the ML Model used and it's performance using Evaluation metric Score Chart."
      ]
    },
    {
      "cell_type": "code",
      "execution_count": 81,
      "metadata": {
        "colab": {
          "base_uri": "https://localhost:8080/"
        },
        "id": "guHO5uEVM-8g",
        "outputId": "d33b3eac-7bcd-43e4-9e90-3f3a9b8d0283"
      },
      "outputs": [
        {
          "name": "stdout",
          "output_type": "stream",
          "text": [
            "\n",
            "Confusion Matrix:\n"
          ]
        },
        {
          "data": {
            "image/png": "[encoded data removed]",
            "text/plain": [
              "<Figure size 1100x400 with 4 Axes>"
            ]
          },
          "metadata": {},
          "output_type": "display_data"
        },
        {
          "name": "stdout",
          "output_type": "stream",
          "text": [
            "\n",
            "Train Classification Report:\n",
            "|              |   precision |   recall |   f1-score |   support |\n",
            "|:-------------|------------:|---------:|-----------:|----------:|\n",
            "| 0            |           1 |        1 |          1 |        35 |\n",
            "| 1            |           1 |        1 |          1 |        35 |\n",
            "| 2            |           1 |        1 |          1 |        35 |\n",
            "| accuracy     |           1 |        1 |          1 |         1 |\n",
            "| macro avg    |           1 |        1 |          1 |       105 |\n",
            "| weighted avg |           1 |        1 |          1 |       105 |\n",
            "\n",
            "Test Classification Report:\n",
            "|              |   precision |   recall |   f1-score |   support |\n",
            "|:-------------|------------:|---------:|-----------:|----------:|\n",
            "| 0            |    1        | 1        |   1        | 15        |\n",
            "| 1            |    0.928571 | 0.866667 |   0.896552 | 15        |\n",
            "| 2            |    0.875    | 0.933333 |   0.903226 | 15        |\n",
            "| accuracy     |    0.933333 | 0.933333 |   0.933333 |  0.933333 |\n",
            "| macro avg    |    0.934524 | 0.933333 |   0.933259 | 45        |\n",
            "| weighted avg |    0.934524 | 0.933333 |   0.933259 | 45        |\n"
          ]
        }
      ],
      "source": [
        "# Visualizing evaluation Metric Score chart\n",
        "xgb_score = evaluate_model(xgb_model, x_train, x_test, y_train, y_test)"
      ]
    },
    {
      "cell_type": "code",
      "execution_count": 82,
      "metadata": {
        "colab": {
          "base_uri": "https://localhost:8080/"
        },
        "id": "VhxqIfx0M-8h",
        "outputId": "7563b06e-d68b-45cd-8a99-101b42c1abdc"
      },
      "outputs": [
        {
          "data": {
            "text/html": [
              "<div>\n",
              "<style scoped>\n",
              "    .dataframe tbody tr th:only-of-type {\n",
              "        vertical-align: middle;\n",
              "    }\n",
              "\n",
              "    .dataframe tbody tr th {\n",
              "        vertical-align: top;\n",
              "    }\n",
              "\n",
              "    .dataframe thead th {\n",
              "        text-align: right;\n",
              "    }\n",
              "</style>\n",
              "<table border=\"1\" class=\"dataframe\">\n",
              "  <thead>\n",
              "    <tr style=\"text-align: right;\">\n",
              "      <th></th>\n",
              "      <th>Logistic regression</th>\n",
              "      <th>Logistic regression tuned</th>\n",
              "      <th>Decision Tree</th>\n",
              "      <th>Decision Tree tuned</th>\n",
              "      <th>Random Forest</th>\n",
              "      <th>Random Forest tuned</th>\n",
              "      <th>SVM</th>\n",
              "      <th>SVM tuned</th>\n",
              "      <th>XGB</th>\n",
              "    </tr>\n",
              "  </thead>\n",
              "  <tbody>\n",
              "    <tr>\n",
              "      <th>Precision Train</th>\n",
              "      <td>0.990741</td>\n",
              "      <td>0.990741</td>\n",
              "      <td>1.000000</td>\n",
              "      <td>0.981982</td>\n",
              "      <td>1.000000</td>\n",
              "      <td>0.981982</td>\n",
              "      <td>1.000000</td>\n",
              "      <td>1.000000</td>\n",
              "      <td>1.000000</td>\n",
              "    </tr>\n",
              "    <tr>\n",
              "      <th>Precision Test</th>\n",
              "      <td>0.934524</td>\n",
              "      <td>0.960784</td>\n",
              "      <td>0.911111</td>\n",
              "      <td>0.898148</td>\n",
              "      <td>0.934524</td>\n",
              "      <td>0.915535</td>\n",
              "      <td>0.955556</td>\n",
              "      <td>0.955556</td>\n",
              "      <td>0.934524</td>\n",
              "    </tr>\n",
              "    <tr>\n",
              "      <th>Recall Train</th>\n",
              "      <td>0.990476</td>\n",
              "      <td>0.990476</td>\n",
              "      <td>1.000000</td>\n",
              "      <td>0.980952</td>\n",
              "      <td>1.000000</td>\n",
              "      <td>0.980952</td>\n",
              "      <td>1.000000</td>\n",
              "      <td>1.000000</td>\n",
              "      <td>1.000000</td>\n",
              "    </tr>\n",
              "    <tr>\n",
              "      <th>Recall Test</th>\n",
              "      <td>0.933333</td>\n",
              "      <td>0.955556</td>\n",
              "      <td>0.911111</td>\n",
              "      <td>0.888889</td>\n",
              "      <td>0.933333</td>\n",
              "      <td>0.911111</td>\n",
              "      <td>0.955556</td>\n",
              "      <td>0.955556</td>\n",
              "      <td>0.933333</td>\n",
              "    </tr>\n",
              "    <tr>\n",
              "      <th>Accuracy Train</th>\n",
              "      <td>0.990476</td>\n",
              "      <td>0.990476</td>\n",
              "      <td>1.000000</td>\n",
              "      <td>0.980952</td>\n",
              "      <td>1.000000</td>\n",
              "      <td>0.980952</td>\n",
              "      <td>1.000000</td>\n",
              "      <td>1.000000</td>\n",
              "      <td>1.000000</td>\n",
              "    </tr>\n",
              "    <tr>\n",
              "      <th>Accuracy Test</th>\n",
              "      <td>0.933333</td>\n",
              "      <td>0.955556</td>\n",
              "      <td>0.911111</td>\n",
              "      <td>0.888889</td>\n",
              "      <td>0.933333</td>\n",
              "      <td>0.911111</td>\n",
              "      <td>0.955556</td>\n",
              "      <td>0.955556</td>\n",
              "      <td>0.933333</td>\n",
              "    </tr>\n",
              "    <tr>\n",
              "      <th>F1 macro Train</th>\n",
              "      <td>0.990474</td>\n",
              "      <td>0.990474</td>\n",
              "      <td>1.000000</td>\n",
              "      <td>0.980937</td>\n",
              "      <td>1.000000</td>\n",
              "      <td>0.980937</td>\n",
              "      <td>1.000000</td>\n",
              "      <td>1.000000</td>\n",
              "      <td>1.000000</td>\n",
              "    </tr>\n",
              "    <tr>\n",
              "      <th>F1 macro Test</th>\n",
              "      <td>0.933259</td>\n",
              "      <td>0.955357</td>\n",
              "      <td>0.911111</td>\n",
              "      <td>0.887767</td>\n",
              "      <td>0.933259</td>\n",
              "      <td>0.910714</td>\n",
              "      <td>0.955556</td>\n",
              "      <td>0.955556</td>\n",
              "      <td>0.933259</td>\n",
              "    </tr>\n",
              "  </tbody>\n",
              "</table>\n",
              "</div>"
            ],
            "text/plain": [
              "                 Logistic regression  Logistic regression tuned  \\\n",
              "Precision Train             0.990741                   0.990741   \n",
              "Precision Test              0.934524                   0.960784   \n",
              "Recall Train                0.990476                   0.990476   \n",
              "Recall Test                 0.933333                   0.955556   \n",
              "Accuracy Train              0.990476                   0.990476   \n",
              "Accuracy Test               0.933333                   0.955556   \n",
              "F1 macro Train              0.990474                   0.990474   \n",
              "F1 macro Test               0.933259                   0.955357   \n",
              "\n",
              "                 Decision Tree  Decision Tree tuned  Random Forest  \\\n",
              "Precision Train       1.000000             0.981982       1.000000   \n",
              "Precision Test        0.911111             0.898148       0.934524   \n",
              "Recall Train          1.000000             0.980952       1.000000   \n",
              "Recall Test           0.911111             0.888889       0.933333   \n",
              "Accuracy Train        1.000000             0.980952       1.000000   \n",
              "Accuracy Test         0.911111             0.888889       0.933333   \n",
              "F1 macro Train        1.000000             0.980937       1.000000   \n",
              "F1 macro Test         0.911111             0.887767       0.933259   \n",
              "\n",
              "                 Random Forest tuned       SVM  SVM tuned       XGB  \n",
              "Precision Train             0.981982  1.000000   1.000000  1.000000  \n",
              "Precision Test              0.915535  0.955556   0.955556  0.934524  \n",
              "Recall Train                0.980952  1.000000   1.000000  1.000000  \n",
              "Recall Test                 0.911111  0.955556   0.955556  0.933333  \n",
              "Accuracy Train              0.980952  1.000000   1.000000  1.000000  \n",
              "Accuracy Test               0.911111  0.955556   0.955556  0.933333  \n",
              "F1 macro Train              0.980937  1.000000   1.000000  1.000000  \n",
              "F1 macro Test               0.910714  0.955556   0.955556  0.933259  "
            ]
          },
          "execution_count": 82,
          "metadata": {},
          "output_type": "execute_result"
        }
      ],
      "source": [
        "# Updated Evaluation metric Score Chart\n",
        "score['XGB'] = xgb_score\n",
        "score"
      ]
    },
    {
      "cell_type": "markdown",
      "metadata": {
        "id": "YcglZXVVM-8h"
      },
      "source": [
        "#### 2. Cross- Validation & Hyperparameter Tuning"
      ]
    },
    {
      "cell_type": "code",
      "execution_count": 83,
      "metadata": {
        "colab": {
          "base_uri": "https://localhost:8080/"
        },
        "id": "h4epH9LEM-8h",
        "outputId": "8020c46c-901b-4482-f685-2649fe912791"
      },
      "outputs": [
        {
          "name": "stdout",
          "output_type": "stream",
          "text": [
            "Best hyperparameters:  {'n_estimators': 160, 'max_depth': 12, 'learning_rate': 0.22}\n"
          ]
        }
      ],
      "source": [
        "# ML Model - 5 Implementation with hyperparameter optimization techniques (i.e., GridSearch CV, RandomSearch CV, Bayesian Optimization etc.)\n",
        "# Define the hyperparameter grid\n",
        "param_grid = {'learning_rate': np.arange(0.01, 0.3, 0.01),\n",
        "              'max_depth': np.arange(3, 15, 1),\n",
        "              'n_estimators': np.arange(100, 200, 10)}\n",
        "\n",
        "# Initialize the model\n",
        "xgb2 = xgb.XGBClassifier(random_state=0)\n",
        "\n",
        "# Repeated stratified kfold\n",
        "rskf = RepeatedStratifiedKFold(n_splits=3, n_repeats=3, random_state=0)\n",
        "\n",
        "# Initialize RandomizedSearchCV\n",
        "random_search = RandomizedSearchCV(xgb2, param_grid, n_iter=10, cv=rskf)\n",
        "\n",
        "# Fit the RandomizedSearchCV to the training data\n",
        "random_search.fit(x_train, y_train)\n",
        "\n",
        "# Select the best hyperparameters\n",
        "best_params = random_search.best_params_\n",
        "print(\"Best hyperparameters: \", best_params)"
      ]
    },
    {
      "cell_type": "code",
      "execution_count": 84,
      "metadata": {
        "id": "EtNHi1dxM-8h"
      },
      "outputs": [],
      "source": [
        "# Initialize model with best parameters\n",
        "xgb_model2 = xgb.XGBClassifier(learning_rate = best_params['learning_rate'],\n",
        "                                 max_depth = best_params['max_depth'],\n",
        "                               n_estimators = best_params['n_estimators'],\n",
        "                                 random_state=0)"
      ]
    },
    {
      "cell_type": "code",
      "execution_count": 85,
      "metadata": {
        "colab": {
          "base_uri": "https://localhost:8080/",
          "height": 789
        },
        "id": "0XR-RyTbM-8i",
        "outputId": "f0e21bd6-81a2-4398-9515-2e48bf647232"
      },
      "outputs": [
        {
          "name": "stdout",
          "output_type": "stream",
          "text": [
            "\n",
            "Confusion Matrix:\n"
          ]
        },
        {
          "data": {
            "image/png": "[encoded data removed]",
            "text/plain": [
              "<Figure size 1100x400 with 4 Axes>"
            ]
          },
          "metadata": {},
          "output_type": "display_data"
        },
        {
          "name": "stdout",
          "output_type": "stream",
          "text": [
            "\n",
            "Train Classification Report:\n",
            "|              |   precision |   recall |   f1-score |   support |\n",
            "|:-------------|------------:|---------:|-----------:|----------:|\n",
            "| 0            |           1 |        1 |          1 |        35 |\n",
            "| 1            |           1 |        1 |          1 |        35 |\n",
            "| 2            |           1 |        1 |          1 |        35 |\n",
            "| accuracy     |           1 |        1 |          1 |         1 |\n",
            "| macro avg    |           1 |        1 |          1 |       105 |\n",
            "| weighted avg |           1 |        1 |          1 |       105 |\n",
            "\n",
            "Test Classification Report:\n",
            "|              |   precision |   recall |   f1-score |   support |\n",
            "|:-------------|------------:|---------:|-----------:|----------:|\n",
            "| 0            |    1        | 1        |   1        | 15        |\n",
            "| 1            |    0.928571 | 0.866667 |   0.896552 | 15        |\n",
            "| 2            |    0.875    | 0.933333 |   0.903226 | 15        |\n",
            "| accuracy     |    0.933333 | 0.933333 |   0.933333 |  0.933333 |\n",
            "| macro avg    |    0.934524 | 0.933333 |   0.933259 | 45        |\n",
            "| weighted avg |    0.934524 | 0.933333 |   0.933259 | 45        |\n"
          ]
        }
      ],
      "source": [
        "# Visualizing evaluation Metric Score chart\n",
        "xgb2_score = evaluate_model(xgb_model2, x_train, x_test, y_train, y_test)"
      ]
    },
    {
      "cell_type": "code",
      "execution_count": 86,
      "metadata": {
        "id": "szQtnydCM-8i"
      },
      "outputs": [],
      "source": [
        "score['XGB tuned'] = xgb2_score"
      ]
    },
    {
      "cell_type": "markdown",
      "metadata": {
        "id": "dOuC2Vx2M-8i"
      },
      "source": [
        "##### Which hyperparameter optimization technique have i used and why?"
      ]
    },
    {
      "cell_type": "markdown",
      "metadata": {
        "id": "83SC9H7KM-8i"
      },
      "source": [
        "Here we have used Randomized search to tune the XGB model.\n",
        "\n",
        "Randomized search is a popular technique because it can be more efficient than exhaustive search methods like grid search. Instead of trying all possible combinations of hyperparameters, randomized search samples a random subset of the hyperparameter space. This can save time and computational resources while still finding good hyperparameters for the model."
      ]
    },
    {
      "cell_type": "markdown",
      "metadata": {
        "id": "N5YXAPbAM-8i"
      },
      "source": [
        "##### Have i seen any improvement? Note down the improvement with updates Evaluation metric Score Chart."
      ]
    },
    {
      "cell_type": "code",
      "execution_count": 87,
      "metadata": {
        "colab": {
          "base_uri": "https://localhost:8080/",
          "height": 422
        },
        "id": "aMKspbXUM-8i",
        "outputId": "a9b48f9d-988d-4225-e711-e515b03aa066"
      },
      "outputs": [
        {
          "data": {
            "text/html": [
              "<div>\n",
              "<style scoped>\n",
              "    .dataframe tbody tr th:only-of-type {\n",
              "        vertical-align: middle;\n",
              "    }\n",
              "\n",
              "    .dataframe tbody tr th {\n",
              "        vertical-align: top;\n",
              "    }\n",
              "\n",
              "    .dataframe thead th {\n",
              "        text-align: right;\n",
              "    }\n",
              "</style>\n",
              "<table border=\"1\" class=\"dataframe\">\n",
              "  <thead>\n",
              "    <tr style=\"text-align: right;\">\n",
              "      <th></th>\n",
              "      <th>Logistic regression</th>\n",
              "      <th>Logistic regression tuned</th>\n",
              "      <th>Decision Tree</th>\n",
              "      <th>Decision Tree tuned</th>\n",
              "      <th>Random Forest</th>\n",
              "      <th>Random Forest tuned</th>\n",
              "      <th>SVM</th>\n",
              "      <th>SVM tuned</th>\n",
              "      <th>XGB</th>\n",
              "      <th>XGB tuned</th>\n",
              "    </tr>\n",
              "  </thead>\n",
              "  <tbody>\n",
              "    <tr>\n",
              "      <th>Precision Train</th>\n",
              "      <td>0.990741</td>\n",
              "      <td>0.990741</td>\n",
              "      <td>1.000000</td>\n",
              "      <td>0.981982</td>\n",
              "      <td>1.000000</td>\n",
              "      <td>0.981982</td>\n",
              "      <td>1.000000</td>\n",
              "      <td>1.000000</td>\n",
              "      <td>1.000000</td>\n",
              "      <td>1.000000</td>\n",
              "    </tr>\n",
              "    <tr>\n",
              "      <th>Precision Test</th>\n",
              "      <td>0.934524</td>\n",
              "      <td>0.960784</td>\n",
              "      <td>0.911111</td>\n",
              "      <td>0.898148</td>\n",
              "      <td>0.934524</td>\n",
              "      <td>0.915535</td>\n",
              "      <td>0.955556</td>\n",
              "      <td>0.955556</td>\n",
              "      <td>0.934524</td>\n",
              "      <td>0.934524</td>\n",
              "    </tr>\n",
              "    <tr>\n",
              "      <th>Recall Train</th>\n",
              "      <td>0.990476</td>\n",
              "      <td>0.990476</td>\n",
              "      <td>1.000000</td>\n",
              "      <td>0.980952</td>\n",
              "      <td>1.000000</td>\n",
              "      <td>0.980952</td>\n",
              "      <td>1.000000</td>\n",
              "      <td>1.000000</td>\n",
              "      <td>1.000000</td>\n",
              "      <td>1.000000</td>\n",
              "    </tr>\n",
              "    <tr>\n",
              "      <th>Recall Test</th>\n",
              "      <td>0.933333</td>\n",
              "      <td>0.955556</td>\n",
              "      <td>0.911111</td>\n",
              "      <td>0.888889</td>\n",
              "      <td>0.933333</td>\n",
              "      <td>0.911111</td>\n",
              "      <td>0.955556</td>\n",
              "      <td>0.955556</td>\n",
              "      <td>0.933333</td>\n",
              "      <td>0.933333</td>\n",
              "    </tr>\n",
              "    <tr>\n",
              "      <th>Accuracy Train</th>\n",
              "      <td>0.990476</td>\n",
              "      <td>0.990476</td>\n",
              "      <td>1.000000</td>\n",
              "      <td>0.980952</td>\n",
              "      <td>1.000000</td>\n",
              "      <td>0.980952</td>\n",
              "      <td>1.000000</td>\n",
              "      <td>1.000000</td>\n",
              "      <td>1.000000</td>\n",
              "      <td>1.000000</td>\n",
              "    </tr>\n",
              "    <tr>\n",
              "      <th>Accuracy Test</th>\n",
              "      <td>0.933333</td>\n",
              "      <td>0.955556</td>\n",
              "      <td>0.911111</td>\n",
              "      <td>0.888889</td>\n",
              "      <td>0.933333</td>\n",
              "      <td>0.911111</td>\n",
              "      <td>0.955556</td>\n",
              "      <td>0.955556</td>\n",
              "      <td>0.933333</td>\n",
              "      <td>0.933333</td>\n",
              "    </tr>\n",
              "    <tr>\n",
              "      <th>F1 macro Train</th>\n",
              "      <td>0.990474</td>\n",
              "      <td>0.990474</td>\n",
              "      <td>1.000000</td>\n",
              "      <td>0.980937</td>\n",
              "      <td>1.000000</td>\n",
              "      <td>0.980937</td>\n",
              "      <td>1.000000</td>\n",
              "      <td>1.000000</td>\n",
              "      <td>1.000000</td>\n",
              "      <td>1.000000</td>\n",
              "    </tr>\n",
              "    <tr>\n",
              "      <th>F1 macro Test</th>\n",
              "      <td>0.933259</td>\n",
              "      <td>0.955357</td>\n",
              "      <td>0.911111</td>\n",
              "      <td>0.887767</td>\n",
              "      <td>0.933259</td>\n",
              "      <td>0.910714</td>\n",
              "      <td>0.955556</td>\n",
              "      <td>0.955556</td>\n",
              "      <td>0.933259</td>\n",
              "      <td>0.933259</td>\n",
              "    </tr>\n",
              "  </tbody>\n",
              "</table>\n",
              "</div>"
            ],
            "text/plain": [
              "                 Logistic regression  Logistic regression tuned  \\\n",
              "Precision Train             0.990741                   0.990741   \n",
              "Precision Test              0.934524                   0.960784   \n",
              "Recall Train                0.990476                   0.990476   \n",
              "Recall Test                 0.933333                   0.955556   \n",
              "Accuracy Train              0.990476                   0.990476   \n",
              "Accuracy Test               0.933333                   0.955556   \n",
              "F1 macro Train              0.990474                   0.990474   \n",
              "F1 macro Test               0.933259                   0.955357   \n",
              "\n",
              "                 Decision Tree  Decision Tree tuned  Random Forest  \\\n",
              "Precision Train       1.000000             0.981982       1.000000   \n",
              "Precision Test        0.911111             0.898148       0.934524   \n",
              "Recall Train          1.000000             0.980952       1.000000   \n",
              "Recall Test           0.911111             0.888889       0.933333   \n",
              "Accuracy Train        1.000000             0.980952       1.000000   \n",
              "Accuracy Test         0.911111             0.888889       0.933333   \n",
              "F1 macro Train        1.000000             0.980937       1.000000   \n",
              "F1 macro Test         0.911111             0.887767       0.933259   \n",
              "\n",
              "                 Random Forest tuned       SVM  SVM tuned       XGB  XGB tuned  \n",
              "Precision Train             0.981982  1.000000   1.000000  1.000000   1.000000  \n",
              "Precision Test              0.915535  0.955556   0.955556  0.934524   0.934524  \n",
              "Recall Train                0.980952  1.000000   1.000000  1.000000   1.000000  \n",
              "Recall Test                 0.911111  0.955556   0.955556  0.933333   0.933333  \n",
              "Accuracy Train              0.980952  1.000000   1.000000  1.000000   1.000000  \n",
              "Accuracy Test               0.911111  0.955556   0.955556  0.933333   0.933333  \n",
              "F1 macro Train              0.980937  1.000000   1.000000  1.000000   1.000000  \n",
              "F1 macro Test               0.910714  0.955556   0.955556  0.933259   0.933259  "
            ]
          },
          "execution_count": 87,
          "metadata": {},
          "output_type": "execute_result"
        }
      ],
      "source": [
        "# Updated Evaluation metric Score Chart\n",
        "score"
      ]
    },
    {
      "cell_type": "markdown",
      "metadata": {
        "id": "w9AmUMHmM-8j"
      },
      "source": [
        "It appears that hyperparameter tuning did not improve the performance of the XGBoost model on the test set. The precision, recall, accuracy and F1 scores on the test set are same for both the untuned and tuned XGBoost models."
      ]
    },
    {
      "cell_type": "markdown",
      "metadata": {
        "id": "pVXGvXVb_6FF"
      },
      "source": [
        "### ML Model - 6 : Naive Bayes"
      ]
    },
    {
      "cell_type": "code",
      "execution_count": 88,
      "metadata": {
        "id": "aQ1kznd1_6FF"
      },
      "outputs": [],
      "source": [
        "# ML Model - 6 Implementation\n",
        "nb_model = GaussianNB()\n",
        "\n",
        "# Model is trained (fit) and predicted in the evaluate model"
      ]
    },
    {
      "cell_type": "markdown",
      "metadata": {
        "id": "1R6e5Trb_6FF"
      },
      "source": [
        "#### 1. Explain the ML Model used and it's performance using Evaluation metric Score Chart."
      ]
    },
    {
      "cell_type": "code",
      "execution_count": 89,
      "metadata": {
        "colab": {
          "base_uri": "https://localhost:8080/"
        },
        "id": "A7FEfxhp_6FF",
        "outputId": "7c5ed08f-ef69-400d-b3c8-9934d8b811a5"
      },
      "outputs": [
        {
          "name": "stdout",
          "output_type": "stream",
          "text": [
            "\n",
            "Confusion Matrix:\n"
          ]
        },
        {
          "data": {
            "image/png": "[encoded data removed]",
            "text/plain": [
              "<Figure size 1100x400 with 4 Axes>"
            ]
          },
          "metadata": {},
          "output_type": "display_data"
        },
        {
          "name": "stdout",
          "output_type": "stream",
          "text": [
            "\n",
            "Train Classification Report:\n",
            "|              |   precision |   recall |   f1-score |    support |\n",
            "|:-------------|------------:|---------:|-----------:|-----------:|\n",
            "| 0            |    1        | 1        |   1        |  35        |\n",
            "| 1            |    0.971429 | 0.971429 |   0.971429 |  35        |\n",
            "| 2            |    0.971429 | 0.971429 |   0.971429 |  35        |\n",
            "| accuracy     |    0.980952 | 0.980952 |   0.980952 |   0.980952 |\n",
            "| macro avg    |    0.980952 | 0.980952 |   0.980952 | 105        |\n",
            "| weighted avg |    0.980952 | 0.980952 |   0.980952 | 105        |\n",
            "\n",
            "Test Classification Report:\n",
            "|              |   precision |   recall |   f1-score |   support |\n",
            "|:-------------|------------:|---------:|-----------:|----------:|\n",
            "| 0            |    1        | 1        |   1        | 15        |\n",
            "| 1            |    0.866667 | 0.866667 |   0.866667 | 15        |\n",
            "| 2            |    0.866667 | 0.866667 |   0.866667 | 15        |\n",
            "| accuracy     |    0.911111 | 0.911111 |   0.911111 |  0.911111 |\n",
            "| macro avg    |    0.911111 | 0.911111 |   0.911111 | 45        |\n",
            "| weighted avg |    0.911111 | 0.911111 |   0.911111 | 45        |\n"
          ]
        }
      ],
      "source": [
        "# Visualizing evaluation Metric Score chart\n",
        "nb_score = evaluate_model(nb_model, x_train, x_test, y_train, y_test)"
      ]
    },
    {
      "cell_type": "code",
      "execution_count": 90,
      "metadata": {
        "colab": {
          "base_uri": "https://localhost:8080/"
        },
        "id": "Ck9Gav7DLYre",
        "outputId": "ed619d69-7d3a-498f-a468-7a5bdaf71543"
      },
      "outputs": [
        {
          "data": {
            "text/html": [
              "<div>\n",
              "<style scoped>\n",
              "    .dataframe tbody tr th:only-of-type {\n",
              "        vertical-align: middle;\n",
              "    }\n",
              "\n",
              "    .dataframe tbody tr th {\n",
              "        vertical-align: top;\n",
              "    }\n",
              "\n",
              "    .dataframe thead th {\n",
              "        text-align: right;\n",
              "    }\n",
              "</style>\n",
              "<table border=\"1\" class=\"dataframe\">\n",
              "  <thead>\n",
              "    <tr style=\"text-align: right;\">\n",
              "      <th></th>\n",
              "      <th>Logistic regression</th>\n",
              "      <th>Logistic regression tuned</th>\n",
              "      <th>Decision Tree</th>\n",
              "      <th>Decision Tree tuned</th>\n",
              "      <th>Random Forest</th>\n",
              "      <th>Random Forest tuned</th>\n",
              "      <th>SVM</th>\n",
              "      <th>SVM tuned</th>\n",
              "      <th>XGB</th>\n",
              "      <th>XGB tuned</th>\n",
              "      <th>Naive Bayes</th>\n",
              "    </tr>\n",
              "  </thead>\n",
              "  <tbody>\n",
              "    <tr>\n",
              "      <th>Precision Train</th>\n",
              "      <td>0.990741</td>\n",
              "      <td>0.990741</td>\n",
              "      <td>1.000000</td>\n",
              "      <td>0.981982</td>\n",
              "      <td>1.000000</td>\n",
              "      <td>0.981982</td>\n",
              "      <td>1.000000</td>\n",
              "      <td>1.000000</td>\n",
              "      <td>1.000000</td>\n",
              "      <td>1.000000</td>\n",
              "      <td>0.980952</td>\n",
              "    </tr>\n",
              "    <tr>\n",
              "      <th>Precision Test</th>\n",
              "      <td>0.934524</td>\n",
              "      <td>0.960784</td>\n",
              "      <td>0.911111</td>\n",
              "      <td>0.898148</td>\n",
              "      <td>0.934524</td>\n",
              "      <td>0.915535</td>\n",
              "      <td>0.955556</td>\n",
              "      <td>0.955556</td>\n",
              "      <td>0.934524</td>\n",
              "      <td>0.934524</td>\n",
              "      <td>0.911111</td>\n",
              "    </tr>\n",
              "    <tr>\n",
              "      <th>Recall Train</th>\n",
              "      <td>0.990476</td>\n",
              "      <td>0.990476</td>\n",
              "      <td>1.000000</td>\n",
              "      <td>0.980952</td>\n",
              "      <td>1.000000</td>\n",
              "      <td>0.980952</td>\n",
              "      <td>1.000000</td>\n",
              "      <td>1.000000</td>\n",
              "      <td>1.000000</td>\n",
              "      <td>1.000000</td>\n",
              "      <td>0.980952</td>\n",
              "    </tr>\n",
              "    <tr>\n",
              "      <th>Recall Test</th>\n",
              "      <td>0.933333</td>\n",
              "      <td>0.955556</td>\n",
              "      <td>0.911111</td>\n",
              "      <td>0.888889</td>\n",
              "      <td>0.933333</td>\n",
              "      <td>0.911111</td>\n",
              "      <td>0.955556</td>\n",
              "      <td>0.955556</td>\n",
              "      <td>0.933333</td>\n",
              "      <td>0.933333</td>\n",
              "      <td>0.911111</td>\n",
              "    </tr>\n",
              "    <tr>\n",
              "      <th>Accuracy Train</th>\n",
              "      <td>0.990476</td>\n",
              "      <td>0.990476</td>\n",
              "      <td>1.000000</td>\n",
              "      <td>0.980952</td>\n",
              "      <td>1.000000</td>\n",
              "      <td>0.980952</td>\n",
              "      <td>1.000000</td>\n",
              "      <td>1.000000</td>\n",
              "      <td>1.000000</td>\n",
              "      <td>1.000000</td>\n",
              "      <td>0.980952</td>\n",
              "    </tr>\n",
              "    <tr>\n",
              "      <th>Accuracy Test</th>\n",
              "      <td>0.933333</td>\n",
              "      <td>0.955556</td>\n",
              "      <td>0.911111</td>\n",
              "      <td>0.888889</td>\n",
              "      <td>0.933333</td>\n",
              "      <td>0.911111</td>\n",
              "      <td>0.955556</td>\n",
              "      <td>0.955556</td>\n",
              "      <td>0.933333</td>\n",
              "      <td>0.933333</td>\n",
              "      <td>0.911111</td>\n",
              "    </tr>\n",
              "    <tr>\n",
              "      <th>F1 macro Train</th>\n",
              "      <td>0.990474</td>\n",
              "      <td>0.990474</td>\n",
              "      <td>1.000000</td>\n",
              "      <td>0.980937</td>\n",
              "      <td>1.000000</td>\n",
              "      <td>0.980937</td>\n",
              "      <td>1.000000</td>\n",
              "      <td>1.000000</td>\n",
              "      <td>1.000000</td>\n",
              "      <td>1.000000</td>\n",
              "      <td>0.980952</td>\n",
              "    </tr>\n",
              "    <tr>\n",
              "      <th>F1 macro Test</th>\n",
              "      <td>0.933259</td>\n",
              "      <td>0.955357</td>\n",
              "      <td>0.911111</td>\n",
              "      <td>0.887767</td>\n",
              "      <td>0.933259</td>\n",
              "      <td>0.910714</td>\n",
              "      <td>0.955556</td>\n",
              "      <td>0.955556</td>\n",
              "      <td>0.933259</td>\n",
              "      <td>0.933259</td>\n",
              "      <td>0.911111</td>\n",
              "    </tr>\n",
              "  </tbody>\n",
              "</table>\n",
              "</div>"
            ],
            "text/plain": [
              "                 Logistic regression  Logistic regression tuned  \\\n",
              "Precision Train             0.990741                   0.990741   \n",
              "Precision Test              0.934524                   0.960784   \n",
              "Recall Train                0.990476                   0.990476   \n",
              "Recall Test                 0.933333                   0.955556   \n",
              "Accuracy Train              0.990476                   0.990476   \n",
              "Accuracy Test               0.933333                   0.955556   \n",
              "F1 macro Train              0.990474                   0.990474   \n",
              "F1 macro Test               0.933259                   0.955357   \n",
              "\n",
              "                 Decision Tree  Decision Tree tuned  Random Forest  \\\n",
              "Precision Train       1.000000             0.981982       1.000000   \n",
              "Precision Test        0.911111             0.898148       0.934524   \n",
              "Recall Train          1.000000             0.980952       1.000000   \n",
              "Recall Test           0.911111             0.888889       0.933333   \n",
              "Accuracy Train        1.000000             0.980952       1.000000   \n",
              "Accuracy Test         0.911111             0.888889       0.933333   \n",
              "F1 macro Train        1.000000             0.980937       1.000000   \n",
              "F1 macro Test         0.911111             0.887767       0.933259   \n",
              "\n",
              "                 Random Forest tuned       SVM  SVM tuned       XGB  \\\n",
              "Precision Train             0.981982  1.000000   1.000000  1.000000   \n",
              "Precision Test              0.915535  0.955556   0.955556  0.934524   \n",
              "Recall Train                0.980952  1.000000   1.000000  1.000000   \n",
              "Recall Test                 0.911111  0.955556   0.955556  0.933333   \n",
              "Accuracy Train              0.980952  1.000000   1.000000  1.000000   \n",
              "Accuracy Test               0.911111  0.955556   0.955556  0.933333   \n",
              "F1 macro Train              0.980937  1.000000   1.000000  1.000000   \n",
              "F1 macro Test               0.910714  0.955556   0.955556  0.933259   \n",
              "\n",
              "                 XGB tuned  Naive Bayes  \n",
              "Precision Train   1.000000     0.980952  \n",
              "Precision Test    0.934524     0.911111  \n",
              "Recall Train      1.000000     0.980952  \n",
              "Recall Test       0.933333     0.911111  \n",
              "Accuracy Train    1.000000     0.980952  \n",
              "Accuracy Test     0.933333     0.911111  \n",
              "F1 macro Train    1.000000     0.980952  \n",
              "F1 macro Test     0.933259     0.911111  "
            ]
          },
          "execution_count": 90,
          "metadata": {},
          "output_type": "execute_result"
        }
      ],
      "source": [
        "# Updated Evaluation metric Score Chart\n",
        "score['Naive Bayes'] = nb_score\n",
        "score"
      ]
    },
    {
      "cell_type": "markdown",
      "metadata": {
        "id": "zhaPpYXo_6FF"
      },
      "source": [
        "#### 2. Cross- Validation & Hyperparameter Tuning"
      ]
    },
    {
      "cell_type": "code",
      "execution_count": 91,
      "metadata": {
        "colab": {
          "base_uri": "https://localhost:8080/"
        },
        "id": "VTUMYNH3_6FG",
        "outputId": "0c6961a6-e8cc-40c0-fa62-5e51afd163bd"
      },
      "outputs": [
        {
          "name": "stdout",
          "output_type": "stream",
          "text": [
            "Best hyperparameters:  {'var_smoothing': 0.002848035868435802}\n"
          ]
        }
      ],
      "source": [
        "# ML Model - 6 Implementation with hyperparameter optimization techniques (i.e., GridSearch CV, RandomSearch CV, Bayesian Optimization etc.)\n",
        "# Define the hyperparameter grid\n",
        "param_grid = {'var_smoothing': np.logspace(0,-9, num=100)}\n",
        "\n",
        "# Initialize the model\n",
        "naive = GaussianNB()\n",
        "\n",
        "# repeated stratified kfold\n",
        "rskf = RepeatedStratifiedKFold(n_splits=4, n_repeats=4, random_state=0)\n",
        "\n",
        "# Initialize GridSearchCV\n",
        "GridSearch = GridSearchCV(naive, param_grid, cv=rskf, n_jobs=-1)\n",
        "\n",
        "# Fit the GridSearchCV to the training data\n",
        "GridSearch.fit(x_train, y_train)\n",
        "\n",
        "# Select the best hyperparameters\n",
        "best_params = GridSearch.best_params_\n",
        "print(\"Best hyperparameters: \", best_params)"
      ]
    },
    {
      "cell_type": "code",
      "execution_count": 92,
      "metadata": {
        "id": "A0qQ_EXBMKi6"
      },
      "outputs": [],
      "source": [
        "# Initiate model with best parameters\n",
        "nb_model2 = GaussianNB(var_smoothing = best_params['var_smoothing'])"
      ]
    },
    {
      "cell_type": "code",
      "execution_count": 93,
      "metadata": {
        "colab": {
          "base_uri": "https://localhost:8080/",
          "height": 789
        },
        "id": "2hSfSTH8Mnb-",
        "outputId": "9b325178-a7f9-4b3c-a1c8-4aea75143ab4"
      },
      "outputs": [
        {
          "name": "stdout",
          "output_type": "stream",
          "text": [
            "\n",
            "Confusion Matrix:\n"
          ]
        },
        {
          "data": {
            "image/png": "[encoded data removed]",
            "text/plain": [
              "<Figure size 1100x400 with 4 Axes>"
            ]
          },
          "metadata": {},
          "output_type": "display_data"
        },
        {
          "name": "stdout",
          "output_type": "stream",
          "text": [
            "\n",
            "Train Classification Report:\n",
            "|              |   precision |   recall |   f1-score |    support |\n",
            "|:-------------|------------:|---------:|-----------:|-----------:|\n",
            "| 0            |    1        | 1        |   1        |  35        |\n",
            "| 1            |    0.971429 | 0.971429 |   0.971429 |  35        |\n",
            "| 2            |    0.971429 | 0.971429 |   0.971429 |  35        |\n",
            "| accuracy     |    0.980952 | 0.980952 |   0.980952 |   0.980952 |\n",
            "| macro avg    |    0.980952 | 0.980952 |   0.980952 | 105        |\n",
            "| weighted avg |    0.980952 | 0.980952 |   0.980952 | 105        |\n",
            "\n",
            "Test Classification Report:\n",
            "|              |   precision |   recall |   f1-score |   support |\n",
            "|:-------------|------------:|---------:|-----------:|----------:|\n",
            "| 0            |    1        | 1        |   1        | 15        |\n",
            "| 1            |    0.866667 | 0.866667 |   0.866667 | 15        |\n",
            "| 2            |    0.866667 | 0.866667 |   0.866667 | 15        |\n",
            "| accuracy     |    0.911111 | 0.911111 |   0.911111 |  0.911111 |\n",
            "| macro avg    |    0.911111 | 0.911111 |   0.911111 | 45        |\n",
            "| weighted avg |    0.911111 | 0.911111 |   0.911111 | 45        |\n"
          ]
        }
      ],
      "source": [
        "# Visualizing evaluation Metric Score chart\n",
        "nb2_score = evaluate_model(nb_model2, x_train, x_test, y_train, y_test)"
      ]
    },
    {
      "cell_type": "code",
      "execution_count": 94,
      "metadata": {
        "id": "Ns2M_He3MtzO"
      },
      "outputs": [],
      "source": [
        "score['Naive Bayes tuned']= nb2_score"
      ]
    },
    {
      "cell_type": "markdown",
      "metadata": {
        "id": "ZYFMyHqX_6FG"
      },
      "source": [
        "##### Which hyperparameter optimization technique have i used and why?"
      ]
    },
    {
      "cell_type": "markdown",
      "metadata": {
        "id": "WZ26Qw2d_6FG"
      },
      "source": [
        "Here we have used the GridSearchCV for optimization of the Naive Bayes model.\n",
        "\n",
        "GridSearchCV is an exhaustive search method that tries all possible combinations of hyperparameters specified in the hyperparameter grid. This technique can be useful when the number of hyperparameters to tune is small and the range of possible values for each hyperparameter is limited. GridSearchCV can find the best combination of hyperparameters, but it can be computationally expensive for large hyperparameter grids."
      ]
    },
    {
      "cell_type": "markdown",
      "metadata": {
        "id": "t4hU8F0I_6FG"
      },
      "source": [
        "##### Have i seen any improvement? Note down the improvement with updates Evaluation metric Score Chart."
      ]
    },
    {
      "cell_type": "code",
      "execution_count": 95,
      "metadata": {
        "colab": {
          "base_uri": "https://localhost:8080/",
          "height": 456
        },
        "id": "nZaUzFFkM2AO",
        "outputId": "5d048eb0-5588-4b9f-f6d6-cdd77bb472bd"
      },
      "outputs": [
        {
          "data": {
            "text/html": [
              "<div>\n",
              "<style scoped>\n",
              "    .dataframe tbody tr th:only-of-type {\n",
              "        vertical-align: middle;\n",
              "    }\n",
              "\n",
              "    .dataframe tbody tr th {\n",
              "        vertical-align: top;\n",
              "    }\n",
              "\n",
              "    .dataframe thead th {\n",
              "        text-align: right;\n",
              "    }\n",
              "</style>\n",
              "<table border=\"1\" class=\"dataframe\">\n",
              "  <thead>\n",
              "    <tr style=\"text-align: right;\">\n",
              "      <th></th>\n",
              "      <th>Logistic regression</th>\n",
              "      <th>Logistic regression tuned</th>\n",
              "      <th>Decision Tree</th>\n",
              "      <th>Decision Tree tuned</th>\n",
              "      <th>Random Forest</th>\n",
              "      <th>Random Forest tuned</th>\n",
              "      <th>SVM</th>\n",
              "      <th>SVM tuned</th>\n",
              "      <th>XGB</th>\n",
              "      <th>XGB tuned</th>\n",
              "      <th>Naive Bayes</th>\n",
              "      <th>Naive Bayes tuned</th>\n",
              "    </tr>\n",
              "  </thead>\n",
              "  <tbody>\n",
              "    <tr>\n",
              "      <th>Precision Train</th>\n",
              "      <td>0.990741</td>\n",
              "      <td>0.990741</td>\n",
              "      <td>1.000000</td>\n",
              "      <td>0.981982</td>\n",
              "      <td>1.000000</td>\n",
              "      <td>0.981982</td>\n",
              "      <td>1.000000</td>\n",
              "      <td>1.000000</td>\n",
              "      <td>1.000000</td>\n",
              "      <td>1.000000</td>\n",
              "      <td>0.980952</td>\n",
              "      <td>0.980952</td>\n",
              "    </tr>\n",
              "    <tr>\n",
              "      <th>Precision Test</th>\n",
              "      <td>0.934524</td>\n",
              "      <td>0.960784</td>\n",
              "      <td>0.911111</td>\n",
              "      <td>0.898148</td>\n",
              "      <td>0.934524</td>\n",
              "      <td>0.915535</td>\n",
              "      <td>0.955556</td>\n",
              "      <td>0.955556</td>\n",
              "      <td>0.934524</td>\n",
              "      <td>0.934524</td>\n",
              "      <td>0.911111</td>\n",
              "      <td>0.911111</td>\n",
              "    </tr>\n",
              "    <tr>\n",
              "      <th>Recall Train</th>\n",
              "      <td>0.990476</td>\n",
              "      <td>0.990476</td>\n",
              "      <td>1.000000</td>\n",
              "      <td>0.980952</td>\n",
              "      <td>1.000000</td>\n",
              "      <td>0.980952</td>\n",
              "      <td>1.000000</td>\n",
              "      <td>1.000000</td>\n",
              "      <td>1.000000</td>\n",
              "      <td>1.000000</td>\n",
              "      <td>0.980952</td>\n",
              "      <td>0.980952</td>\n",
              "    </tr>\n",
              "    <tr>\n",
              "      <th>Recall Test</th>\n",
              "      <td>0.933333</td>\n",
              "      <td>0.955556</td>\n",
              "      <td>0.911111</td>\n",
              "      <td>0.888889</td>\n",
              "      <td>0.933333</td>\n",
              "      <td>0.911111</td>\n",
              "      <td>0.955556</td>\n",
              "      <td>0.955556</td>\n",
              "      <td>0.933333</td>\n",
              "      <td>0.933333</td>\n",
              "      <td>0.911111</td>\n",
              "      <td>0.911111</td>\n",
              "    </tr>\n",
              "    <tr>\n",
              "      <th>Accuracy Train</th>\n",
              "      <td>0.990476</td>\n",
              "      <td>0.990476</td>\n",
              "      <td>1.000000</td>\n",
              "      <td>0.980952</td>\n",
              "      <td>1.000000</td>\n",
              "      <td>0.980952</td>\n",
              "      <td>1.000000</td>\n",
              "      <td>1.000000</td>\n",
              "      <td>1.000000</td>\n",
              "      <td>1.000000</td>\n",
              "      <td>0.980952</td>\n",
              "      <td>0.980952</td>\n",
              "    </tr>\n",
              "    <tr>\n",
              "      <th>Accuracy Test</th>\n",
              "      <td>0.933333</td>\n",
              "      <td>0.955556</td>\n",
              "      <td>0.911111</td>\n",
              "      <td>0.888889</td>\n",
              "      <td>0.933333</td>\n",
              "      <td>0.911111</td>\n",
              "      <td>0.955556</td>\n",
              "      <td>0.955556</td>\n",
              "      <td>0.933333</td>\n",
              "      <td>0.933333</td>\n",
              "      <td>0.911111</td>\n",
              "      <td>0.911111</td>\n",
              "    </tr>\n",
              "    <tr>\n",
              "      <th>F1 macro Train</th>\n",
              "      <td>0.990474</td>\n",
              "      <td>0.990474</td>\n",
              "      <td>1.000000</td>\n",
              "      <td>0.980937</td>\n",
              "      <td>1.000000</td>\n",
              "      <td>0.980937</td>\n",
              "      <td>1.000000</td>\n",
              "      <td>1.000000</td>\n",
              "      <td>1.000000</td>\n",
              "      <td>1.000000</td>\n",
              "      <td>0.980952</td>\n",
              "      <td>0.980952</td>\n",
              "    </tr>\n",
              "    <tr>\n",
              "      <th>F1 macro Test</th>\n",
              "      <td>0.933259</td>\n",
              "      <td>0.955357</td>\n",
              "      <td>0.911111</td>\n",
              "      <td>0.887767</td>\n",
              "      <td>0.933259</td>\n",
              "      <td>0.910714</td>\n",
              "      <td>0.955556</td>\n",
              "      <td>0.955556</td>\n",
              "      <td>0.933259</td>\n",
              "      <td>0.933259</td>\n",
              "      <td>0.911111</td>\n",
              "      <td>0.911111</td>\n",
              "    </tr>\n",
              "  </tbody>\n",
              "</table>\n",
              "</div>"
            ],
            "text/plain": [
              "                 Logistic regression  Logistic regression tuned  \\\n",
              "Precision Train             0.990741                   0.990741   \n",
              "Precision Test              0.934524                   0.960784   \n",
              "Recall Train                0.990476                   0.990476   \n",
              "Recall Test                 0.933333                   0.955556   \n",
              "Accuracy Train              0.990476                   0.990476   \n",
              "Accuracy Test               0.933333                   0.955556   \n",
              "F1 macro Train              0.990474                   0.990474   \n",
              "F1 macro Test               0.933259                   0.955357   \n",
              "\n",
              "                 Decision Tree  Decision Tree tuned  Random Forest  \\\n",
              "Precision Train       1.000000             0.981982       1.000000   \n",
              "Precision Test        0.911111             0.898148       0.934524   \n",
              "Recall Train          1.000000             0.980952       1.000000   \n",
              "Recall Test           0.911111             0.888889       0.933333   \n",
              "Accuracy Train        1.000000             0.980952       1.000000   \n",
              "Accuracy Test         0.911111             0.888889       0.933333   \n",
              "F1 macro Train        1.000000             0.980937       1.000000   \n",
              "F1 macro Test         0.911111             0.887767       0.933259   \n",
              "\n",
              "                 Random Forest tuned       SVM  SVM tuned       XGB  \\\n",
              "Precision Train             0.981982  1.000000   1.000000  1.000000   \n",
              "Precision Test              0.915535  0.955556   0.955556  0.934524   \n",
              "Recall Train                0.980952  1.000000   1.000000  1.000000   \n",
              "Recall Test                 0.911111  0.955556   0.955556  0.933333   \n",
              "Accuracy Train              0.980952  1.000000   1.000000  1.000000   \n",
              "Accuracy Test               0.911111  0.955556   0.955556  0.933333   \n",
              "F1 macro Train              0.980937  1.000000   1.000000  1.000000   \n",
              "F1 macro Test               0.910714  0.955556   0.955556  0.933259   \n",
              "\n",
              "                 XGB tuned  Naive Bayes  Naive Bayes tuned  \n",
              "Precision Train   1.000000     0.980952           0.980952  \n",
              "Precision Test    0.934524     0.911111           0.911111  \n",
              "Recall Train      1.000000     0.980952           0.980952  \n",
              "Recall Test       0.933333     0.911111           0.911111  \n",
              "Accuracy Train    1.000000     0.980952           0.980952  \n",
              "Accuracy Test     0.933333     0.911111           0.911111  \n",
              "F1 macro Train    1.000000     0.980952           0.980952  \n",
              "F1 macro Test     0.933259     0.911111           0.911111  "
            ]
          },
          "execution_count": 95,
          "metadata": {},
          "output_type": "execute_result"
        }
      ],
      "source": [
        "# Updated Evaluation metric Score Chart\n",
        "score"
      ]
    },
    {
      "cell_type": "markdown",
      "metadata": {
        "id": "hSpzVU16_6FG"
      },
      "source": [
        "It appears that hyperparameter tuning did not improved the performance of the Naive Bayes model on the test set. The tuned Naive Bayes model has precision, recall, accuracy and F1 score on the test set as same as in the untuned Naive Bayes model."
      ]
    },
    {
      "cell_type": "markdown",
      "metadata": {
        "id": "1NNpISRdaSng"
      },
      "source": [
        "### ML Model - 7 : Neural Network"
      ]
    },
    {
      "cell_type": "code",
      "execution_count": 96,
      "metadata": {
        "id": "zmPQ4B8CaSng"
      },
      "outputs": [],
      "source": [
        "# ML Model - 7 Implementation\n",
        "nn_model = MLPClassifier(random_state=0)\n",
        "\n",
        "# Model is trained (fit) and predicted in the evaluate model"
      ]
    },
    {
      "cell_type": "markdown",
      "metadata": {
        "id": "6IvVWbfDaSnh"
      },
      "source": [
        "#### 1. Explain the ML Model used and it's performance using Evaluation metric Score Chart."
      ]
    },
    {
      "cell_type": "code",
      "execution_count": 97,
      "metadata": {
        "colab": {
          "base_uri": "https://localhost:8080/"
        },
        "id": "r_he51ZUaSnh",
        "outputId": "a8f92095-f52b-426f-c9c0-0ee1b0c19b97"
      },
      "outputs": [
        {
          "name": "stdout",
          "output_type": "stream",
          "text": [
            "\n",
            "Confusion Matrix:\n"
          ]
        },
        {
          "data": {
            "image/png": "[encoded data removed]",
            "text/plain": [
              "<Figure size 1100x400 with 4 Axes>"
            ]
          },
          "metadata": {},
          "output_type": "display_data"
        },
        {
          "name": "stdout",
          "output_type": "stream",
          "text": [
            "\n",
            "Train Classification Report:\n",
            "|              |   precision |   recall |   f1-score |    support |\n",
            "|:-------------|------------:|---------:|-----------:|-----------:|\n",
            "| 0            |    1        | 1        |   1        |  35        |\n",
            "| 1            |    1        | 0.914286 |   0.955224 |  35        |\n",
            "| 2            |    0.921053 | 1        |   0.958904 |  35        |\n",
            "| accuracy     |    0.971429 | 0.971429 |   0.971429 |   0.971429 |\n",
            "| macro avg    |    0.973684 | 0.971429 |   0.971376 | 105        |\n",
            "| weighted avg |    0.973684 | 0.971429 |   0.971376 | 105        |\n",
            "\n",
            "Test Classification Report:\n",
            "|              |   precision |   recall |   f1-score |   support |\n",
            "|:-------------|------------:|---------:|-----------:|----------:|\n",
            "| 0            |    1        | 1        |   1        | 15        |\n",
            "| 1            |    1        | 0.933333 |   0.965517 | 15        |\n",
            "| 2            |    0.9375   | 1        |   0.967742 | 15        |\n",
            "| accuracy     |    0.977778 | 0.977778 |   0.977778 |  0.977778 |\n",
            "| macro avg    |    0.979167 | 0.977778 |   0.977753 | 45        |\n",
            "| weighted avg |    0.979167 | 0.977778 |   0.977753 | 45        |\n"
          ]
        }
      ],
      "source": [
        "# Visualizing evaluation Metric Score chart\n",
        "neural_score = evaluate_model(nn_model, x_train, x_test, y_train, y_test)"
      ]
    },
    {
      "cell_type": "code",
      "execution_count": 98,
      "metadata": {
        "colab": {
          "base_uri": "https://localhost:8080/"
        },
        "id": "tULE2aTOaSnh",
        "outputId": "c896e414-5889-4ba4-8ff8-e1f52452be74"
      },
      "outputs": [
        {
          "data": {
            "text/html": [
              "<div>\n",
              "<style scoped>\n",
              "    .dataframe tbody tr th:only-of-type {\n",
              "        vertical-align: middle;\n",
              "    }\n",
              "\n",
              "    .dataframe tbody tr th {\n",
              "        vertical-align: top;\n",
              "    }\n",
              "\n",
              "    .dataframe thead th {\n",
              "        text-align: right;\n",
              "    }\n",
              "</style>\n",
              "<table border=\"1\" class=\"dataframe\">\n",
              "  <thead>\n",
              "    <tr style=\"text-align: right;\">\n",
              "      <th></th>\n",
              "      <th>Logistic regression</th>\n",
              "      <th>Logistic regression tuned</th>\n",
              "      <th>Decision Tree</th>\n",
              "      <th>Decision Tree tuned</th>\n",
              "      <th>Random Forest</th>\n",
              "      <th>Random Forest tuned</th>\n",
              "      <th>SVM</th>\n",
              "      <th>SVM tuned</th>\n",
              "      <th>XGB</th>\n",
              "      <th>XGB tuned</th>\n",
              "      <th>Naive Bayes</th>\n",
              "      <th>Naive Bayes tuned</th>\n",
              "      <th>Neural Network</th>\n",
              "    </tr>\n",
              "  </thead>\n",
              "  <tbody>\n",
              "    <tr>\n",
              "      <th>Precision Train</th>\n",
              "      <td>0.990741</td>\n",
              "      <td>0.990741</td>\n",
              "      <td>1.000000</td>\n",
              "      <td>0.981982</td>\n",
              "      <td>1.000000</td>\n",
              "      <td>0.981982</td>\n",
              "      <td>1.000000</td>\n",
              "      <td>1.000000</td>\n",
              "      <td>1.000000</td>\n",
              "      <td>1.000000</td>\n",
              "      <td>0.980952</td>\n",
              "      <td>0.980952</td>\n",
              "      <td>0.973684</td>\n",
              "    </tr>\n",
              "    <tr>\n",
              "      <th>Precision Test</th>\n",
              "      <td>0.934524</td>\n",
              "      <td>0.960784</td>\n",
              "      <td>0.911111</td>\n",
              "      <td>0.898148</td>\n",
              "      <td>0.934524</td>\n",
              "      <td>0.915535</td>\n",
              "      <td>0.955556</td>\n",
              "      <td>0.955556</td>\n",
              "      <td>0.934524</td>\n",
              "      <td>0.934524</td>\n",
              "      <td>0.911111</td>\n",
              "      <td>0.911111</td>\n",
              "      <td>0.979167</td>\n",
              "    </tr>\n",
              "    <tr>\n",
              "      <th>Recall Train</th>\n",
              "      <td>0.990476</td>\n",
              "      <td>0.990476</td>\n",
              "      <td>1.000000</td>\n",
              "      <td>0.980952</td>\n",
              "      <td>1.000000</td>\n",
              "      <td>0.980952</td>\n",
              "      <td>1.000000</td>\n",
              "      <td>1.000000</td>\n",
              "      <td>1.000000</td>\n",
              "      <td>1.000000</td>\n",
              "      <td>0.980952</td>\n",
              "      <td>0.980952</td>\n",
              "      <td>0.971429</td>\n",
              "    </tr>\n",
              "    <tr>\n",
              "      <th>Recall Test</th>\n",
              "      <td>0.933333</td>\n",
              "      <td>0.955556</td>\n",
              "      <td>0.911111</td>\n",
              "      <td>0.888889</td>\n",
              "      <td>0.933333</td>\n",
              "      <td>0.911111</td>\n",
              "      <td>0.955556</td>\n",
              "      <td>0.955556</td>\n",
              "      <td>0.933333</td>\n",
              "      <td>0.933333</td>\n",
              "      <td>0.911111</td>\n",
              "      <td>0.911111</td>\n",
              "      <td>0.977778</td>\n",
              "    </tr>\n",
              "    <tr>\n",
              "      <th>Accuracy Train</th>\n",
              "      <td>0.990476</td>\n",
              "      <td>0.990476</td>\n",
              "      <td>1.000000</td>\n",
              "      <td>0.980952</td>\n",
              "      <td>1.000000</td>\n",
              "      <td>0.980952</td>\n",
              "      <td>1.000000</td>\n",
              "      <td>1.000000</td>\n",
              "      <td>1.000000</td>\n",
              "      <td>1.000000</td>\n",
              "      <td>0.980952</td>\n",
              "      <td>0.980952</td>\n",
              "      <td>0.971429</td>\n",
              "    </tr>\n",
              "    <tr>\n",
              "      <th>Accuracy Test</th>\n",
              "      <td>0.933333</td>\n",
              "      <td>0.955556</td>\n",
              "      <td>0.911111</td>\n",
              "      <td>0.888889</td>\n",
              "      <td>0.933333</td>\n",
              "      <td>0.911111</td>\n",
              "      <td>0.955556</td>\n",
              "      <td>0.955556</td>\n",
              "      <td>0.933333</td>\n",
              "      <td>0.933333</td>\n",
              "      <td>0.911111</td>\n",
              "      <td>0.911111</td>\n",
              "      <td>0.977778</td>\n",
              "    </tr>\n",
              "    <tr>\n",
              "      <th>F1 macro Train</th>\n",
              "      <td>0.990474</td>\n",
              "      <td>0.990474</td>\n",
              "      <td>1.000000</td>\n",
              "      <td>0.980937</td>\n",
              "      <td>1.000000</td>\n",
              "      <td>0.980937</td>\n",
              "      <td>1.000000</td>\n",
              "      <td>1.000000</td>\n",
              "      <td>1.000000</td>\n",
              "      <td>1.000000</td>\n",
              "      <td>0.980952</td>\n",
              "      <td>0.980952</td>\n",
              "      <td>0.971376</td>\n",
              "    </tr>\n",
              "    <tr>\n",
              "      <th>F1 macro Test</th>\n",
              "      <td>0.933259</td>\n",
              "      <td>0.955357</td>\n",
              "      <td>0.911111</td>\n",
              "      <td>0.887767</td>\n",
              "      <td>0.933259</td>\n",
              "      <td>0.910714</td>\n",
              "      <td>0.955556</td>\n",
              "      <td>0.955556</td>\n",
              "      <td>0.933259</td>\n",
              "      <td>0.933259</td>\n",
              "      <td>0.911111</td>\n",
              "      <td>0.911111</td>\n",
              "      <td>0.977753</td>\n",
              "    </tr>\n",
              "  </tbody>\n",
              "</table>\n",
              "</div>"
            ],
            "text/plain": [
              "                 Logistic regression  Logistic regression tuned  \\\n",
              "Precision Train             0.990741                   0.990741   \n",
              "Precision Test              0.934524                   0.960784   \n",
              "Recall Train                0.990476                   0.990476   \n",
              "Recall Test                 0.933333                   0.955556   \n",
              "Accuracy Train              0.990476                   0.990476   \n",
              "Accuracy Test               0.933333                   0.955556   \n",
              "F1 macro Train              0.990474                   0.990474   \n",
              "F1 macro Test               0.933259                   0.955357   \n",
              "\n",
              "                 Decision Tree  Decision Tree tuned  Random Forest  \\\n",
              "Precision Train       1.000000             0.981982       1.000000   \n",
              "Precision Test        0.911111             0.898148       0.934524   \n",
              "Recall Train          1.000000             0.980952       1.000000   \n",
              "Recall Test           0.911111             0.888889       0.933333   \n",
              "Accuracy Train        1.000000             0.980952       1.000000   \n",
              "Accuracy Test         0.911111             0.888889       0.933333   \n",
              "F1 macro Train        1.000000             0.980937       1.000000   \n",
              "F1 macro Test         0.911111             0.887767       0.933259   \n",
              "\n",
              "                 Random Forest tuned       SVM  SVM tuned       XGB  \\\n",
              "Precision Train             0.981982  1.000000   1.000000  1.000000   \n",
              "Precision Test              0.915535  0.955556   0.955556  0.934524   \n",
              "Recall Train                0.980952  1.000000   1.000000  1.000000   \n",
              "Recall Test                 0.911111  0.955556   0.955556  0.933333   \n",
              "Accuracy Train              0.980952  1.000000   1.000000  1.000000   \n",
              "Accuracy Test               0.911111  0.955556   0.955556  0.933333   \n",
              "F1 macro Train              0.980937  1.000000   1.000000  1.000000   \n",
              "F1 macro Test               0.910714  0.955556   0.955556  0.933259   \n",
              "\n",
              "                 XGB tuned  Naive Bayes  Naive Bayes tuned  Neural Network  \n",
              "Precision Train   1.000000     0.980952           0.980952        0.973684  \n",
              "Precision Test    0.934524     0.911111           0.911111        0.979167  \n",
              "Recall Train      1.000000     0.980952           0.980952        0.971429  \n",
              "Recall Test       0.933333     0.911111           0.911111        0.977778  \n",
              "Accuracy Train    1.000000     0.980952           0.980952        0.971429  \n",
              "Accuracy Test     0.933333     0.911111           0.911111        0.977778  \n",
              "F1 macro Train    1.000000     0.980952           0.980952        0.971376  \n",
              "F1 macro Test     0.933259     0.911111           0.911111        0.977753  "
            ]
          },
          "execution_count": 98,
          "metadata": {},
          "output_type": "execute_result"
        }
      ],
      "source": [
        "# Updated Evaluation metric Score Chart\n",
        "score['Neural Network'] = neural_score\n",
        "score"
      ]
    },
    {
      "cell_type": "markdown",
      "metadata": {
        "id": "0bSwMgKcaSnh"
      },
      "source": [
        "#### 2. Cross- Validation & Hyperparameter Tuning"
      ]
    },
    {
      "cell_type": "code",
      "execution_count": 99,
      "metadata": {
        "colab": {
          "base_uri": "https://localhost:8080/"
        },
        "id": "ffpQHwZaaSni",
        "outputId": "5ddbba47-0b4c-42a8-d9e6-87e88c684960"
      },
      "outputs": [
        {
          "name": "stdout",
          "output_type": "stream",
          "text": [
            "Best hyperparameters:  {'hidden_layer_sizes': 90, 'alpha': 0.004300000000000001}\n"
          ]
        }
      ],
      "source": [
        "# ML Model - 7 Implementation with hyperparameter optimization techniques (i.e., GridSearch CV, RandomSearch CV, Bayesian Optimization etc.)\n",
        "# Define the hyperparameter grid\n",
        "param_grid = {'hidden_layer_sizes': np.arange(10, 100, 10),\n",
        "              'alpha': np.arange(0.0001, 0.01, 0.0001)}\n",
        "\n",
        "# Initialize the model\n",
        "neural = MLPClassifier(random_state=0)\n",
        "\n",
        "# Repeated stratified kfold\n",
        "rskf = RepeatedStratifiedKFold(n_splits=3, n_repeats=3, random_state=0)\n",
        "\n",
        "# Initialize RandomizedSearchCV\n",
        "random_search = RandomizedSearchCV(neural, param_grid, n_iter=10, cv=rskf, n_jobs=-1)\n",
        "\n",
        "# Fit the RandomizedSearchCV to the training data\n",
        "random_search.fit(x_train, y_train)\n",
        "\n",
        "# Select the best hyperparameters\n",
        "best_params = random_search.best_params_\n",
        "print(\"Best hyperparameters: \", best_params)"
      ]
    },
    {
      "cell_type": "code",
      "execution_count": 100,
      "metadata": {
        "id": "9MhZA1MeaSni"
      },
      "outputs": [],
      "source": [
        "# Initiate model with best parameters\n",
        "nn_model2 = MLPClassifier(hidden_layer_sizes = best_params['hidden_layer_sizes'],\n",
        "                        alpha = best_params['alpha'],\n",
        "                        random_state = 0)"
      ]
    },
    {
      "cell_type": "code",
      "execution_count": 101,
      "metadata": {
        "colab": {
          "base_uri": "https://localhost:8080/",
          "height": 789
        },
        "id": "GnbfV8jjaSni",
        "outputId": "8612e286-e740-4d7b-98f8-1f7143ea41e7"
      },
      "outputs": [
        {
          "name": "stdout",
          "output_type": "stream",
          "text": [
            "\n",
            "Confusion Matrix:\n"
          ]
        },
        {
          "data": {
            "image/png": "[encoded data removed]",
            "text/plain": [
              "<Figure size 1100x400 with 4 Axes>"
            ]
          },
          "metadata": {},
          "output_type": "display_data"
        },
        {
          "name": "stdout",
          "output_type": "stream",
          "text": [
            "\n",
            "Train Classification Report:\n",
            "|              |   precision |   recall |   f1-score |    support |\n",
            "|:-------------|------------:|---------:|-----------:|-----------:|\n",
            "| 0            |    1        | 1        |   1        |  35        |\n",
            "| 1            |    1        | 0.971429 |   0.985507 |  35        |\n",
            "| 2            |    0.972222 | 1        |   0.985915 |  35        |\n",
            "| accuracy     |    0.990476 | 0.990476 |   0.990476 |   0.990476 |\n",
            "| macro avg    |    0.990741 | 0.990476 |   0.990474 | 105        |\n",
            "| weighted avg |    0.990741 | 0.990476 |   0.990474 | 105        |\n",
            "\n",
            "Test Classification Report:\n",
            "|              |   precision |   recall |   f1-score |   support |\n",
            "|:-------------|------------:|---------:|-----------:|----------:|\n",
            "| 0            |    1        | 1        |   1        | 15        |\n",
            "| 1            |    1        | 0.933333 |   0.965517 | 15        |\n",
            "| 2            |    0.9375   | 1        |   0.967742 | 15        |\n",
            "| accuracy     |    0.977778 | 0.977778 |   0.977778 |  0.977778 |\n",
            "| macro avg    |    0.979167 | 0.977778 |   0.977753 | 45        |\n",
            "| weighted avg |    0.979167 | 0.977778 |   0.977753 | 45        |\n"
          ]
        }
      ],
      "source": [
        "# Visualizing evaluation Metric Score chart\n",
        "neural2_score = evaluate_model(nn_model2, x_train, x_test, y_train, y_test)"
      ]
    },
    {
      "cell_type": "code",
      "execution_count": 102,
      "metadata": {
        "id": "aek02QwVaSni"
      },
      "outputs": [],
      "source": [
        "score['Neural Network tuned']= neural2_score"
      ]
    },
    {
      "cell_type": "markdown",
      "metadata": {
        "id": "IXHnAaJfaSni"
      },
      "source": [
        "##### Which hyperparameter optimization technique have i used and why?"
      ]
    },
    {
      "cell_type": "markdown",
      "metadata": {
        "id": "yZrwfe8GaSni"
      },
      "source": [
        "Here we have used Randomized search to tune the Neural Network model.\n",
        "\n",
        "Randomized search is a popular technique because it can be more efficient than exhaustive search methods like grid search. Instead of trying all possible combinations of hyperparameters, randomized search samples a random subset of the hyperparameter space. This can save time and computational resources while still finding good hyperparameters for the model."
      ]
    },
    {
      "cell_type": "markdown",
      "metadata": {
        "id": "BSoGk_2RaSnj"
      },
      "source": [
        "##### Have i seen any improvement? Note down the improvement with updates Evaluation metric Score Chart."
      ]
    },
    {
      "cell_type": "code",
      "execution_count": 103,
      "metadata": {
        "colab": {
          "base_uri": "https://localhost:8080/",
          "height": 474
        },
        "id": "q0aoe5RmaSnj",
        "outputId": "29135d82-af46-4906-f18d-538b86cf46eb"
      },
      "outputs": [
        {
          "data": {
            "text/html": [
              "<div>\n",
              "<style scoped>\n",
              "    .dataframe tbody tr th:only-of-type {\n",
              "        vertical-align: middle;\n",
              "    }\n",
              "\n",
              "    .dataframe tbody tr th {\n",
              "        vertical-align: top;\n",
              "    }\n",
              "\n",
              "    .dataframe thead th {\n",
              "        text-align: right;\n",
              "    }\n",
              "</style>\n",
              "<table border=\"1\" class=\"dataframe\">\n",
              "  <thead>\n",
              "    <tr style=\"text-align: right;\">\n",
              "      <th></th>\n",
              "      <th>Logistic regression</th>\n",
              "      <th>Logistic regression tuned</th>\n",
              "      <th>Decision Tree</th>\n",
              "      <th>Decision Tree tuned</th>\n",
              "      <th>Random Forest</th>\n",
              "      <th>Random Forest tuned</th>\n",
              "      <th>SVM</th>\n",
              "      <th>SVM tuned</th>\n",
              "      <th>XGB</th>\n",
              "      <th>XGB tuned</th>\n",
              "      <th>Naive Bayes</th>\n",
              "      <th>Naive Bayes tuned</th>\n",
              "      <th>Neural Network</th>\n",
              "      <th>Neural Network tuned</th>\n",
              "    </tr>\n",
              "  </thead>\n",
              "  <tbody>\n",
              "    <tr>\n",
              "      <th>Precision Train</th>\n",
              "      <td>0.990741</td>\n",
              "      <td>0.990741</td>\n",
              "      <td>1.000000</td>\n",
              "      <td>0.981982</td>\n",
              "      <td>1.000000</td>\n",
              "      <td>0.981982</td>\n",
              "      <td>1.000000</td>\n",
              "      <td>1.000000</td>\n",
              "      <td>1.000000</td>\n",
              "      <td>1.000000</td>\n",
              "      <td>0.980952</td>\n",
              "      <td>0.980952</td>\n",
              "      <td>0.973684</td>\n",
              "      <td>0.990741</td>\n",
              "    </tr>\n",
              "    <tr>\n",
              "      <th>Precision Test</th>\n",
              "      <td>0.934524</td>\n",
              "      <td>0.960784</td>\n",
              "      <td>0.911111</td>\n",
              "      <td>0.898148</td>\n",
              "      <td>0.934524</td>\n",
              "      <td>0.915535</td>\n",
              "      <td>0.955556</td>\n",
              "      <td>0.955556</td>\n",
              "      <td>0.934524</td>\n",
              "      <td>0.934524</td>\n",
              "      <td>0.911111</td>\n",
              "      <td>0.911111</td>\n",
              "      <td>0.979167</td>\n",
              "      <td>0.979167</td>\n",
              "    </tr>\n",
              "    <tr>\n",
              "      <th>Recall Train</th>\n",
              "      <td>0.990476</td>\n",
              "      <td>0.990476</td>\n",
              "      <td>1.000000</td>\n",
              "      <td>0.980952</td>\n",
              "      <td>1.000000</td>\n",
              "      <td>0.980952</td>\n",
              "      <td>1.000000</td>\n",
              "      <td>1.000000</td>\n",
              "      <td>1.000000</td>\n",
              "      <td>1.000000</td>\n",
              "      <td>0.980952</td>\n",
              "      <td>0.980952</td>\n",
              "      <td>0.971429</td>\n",
              "      <td>0.990476</td>\n",
              "    </tr>\n",
              "    <tr>\n",
              "      <th>Recall Test</th>\n",
              "      <td>0.933333</td>\n",
              "      <td>0.955556</td>\n",
              "      <td>0.911111</td>\n",
              "      <td>0.888889</td>\n",
              "      <td>0.933333</td>\n",
              "      <td>0.911111</td>\n",
              "      <td>0.955556</td>\n",
              "      <td>0.955556</td>\n",
              "      <td>0.933333</td>\n",
              "      <td>0.933333</td>\n",
              "      <td>0.911111</td>\n",
              "      <td>0.911111</td>\n",
              "      <td>0.977778</td>\n",
              "      <td>0.977778</td>\n",
              "    </tr>\n",
              "    <tr>\n",
              "      <th>Accuracy Train</th>\n",
              "      <td>0.990476</td>\n",
              "      <td>0.990476</td>\n",
              "      <td>1.000000</td>\n",
              "      <td>0.980952</td>\n",
              "      <td>1.000000</td>\n",
              "      <td>0.980952</td>\n",
              "      <td>1.000000</td>\n",
              "      <td>1.000000</td>\n",
              "      <td>1.000000</td>\n",
              "      <td>1.000000</td>\n",
              "      <td>0.980952</td>\n",
              "      <td>0.980952</td>\n",
              "      <td>0.971429</td>\n",
              "      <td>0.990476</td>\n",
              "    </tr>\n",
              "    <tr>\n",
              "      <th>Accuracy Test</th>\n",
              "      <td>0.933333</td>\n",
              "      <td>0.955556</td>\n",
              "      <td>0.911111</td>\n",
              "      <td>0.888889</td>\n",
              "      <td>0.933333</td>\n",
              "      <td>0.911111</td>\n",
              "      <td>0.955556</td>\n",
              "      <td>0.955556</td>\n",
              "      <td>0.933333</td>\n",
              "      <td>0.933333</td>\n",
              "      <td>0.911111</td>\n",
              "      <td>0.911111</td>\n",
              "      <td>0.977778</td>\n",
              "      <td>0.977778</td>\n",
              "    </tr>\n",
              "    <tr>\n",
              "      <th>F1 macro Train</th>\n",
              "      <td>0.990474</td>\n",
              "      <td>0.990474</td>\n",
              "      <td>1.000000</td>\n",
              "      <td>0.980937</td>\n",
              "      <td>1.000000</td>\n",
              "      <td>0.980937</td>\n",
              "      <td>1.000000</td>\n",
              "      <td>1.000000</td>\n",
              "      <td>1.000000</td>\n",
              "      <td>1.000000</td>\n",
              "      <td>0.980952</td>\n",
              "      <td>0.980952</td>\n",
              "      <td>0.971376</td>\n",
              "      <td>0.990474</td>\n",
              "    </tr>\n",
              "    <tr>\n",
              "      <th>F1 macro Test</th>\n",
              "      <td>0.933259</td>\n",
              "      <td>0.955357</td>\n",
              "      <td>0.911111</td>\n",
              "      <td>0.887767</td>\n",
              "      <td>0.933259</td>\n",
              "      <td>0.910714</td>\n",
              "      <td>0.955556</td>\n",
              "      <td>0.955556</td>\n",
              "      <td>0.933259</td>\n",
              "      <td>0.933259</td>\n",
              "      <td>0.911111</td>\n",
              "      <td>0.911111</td>\n",
              "      <td>0.977753</td>\n",
              "      <td>0.977753</td>\n",
              "    </tr>\n",
              "  </tbody>\n",
              "</table>\n",
              "</div>"
            ],
            "text/plain": [
              "                 Logistic regression  Logistic regression tuned  \\\n",
              "Precision Train             0.990741                   0.990741   \n",
              "Precision Test              0.934524                   0.960784   \n",
              "Recall Train                0.990476                   0.990476   \n",
              "Recall Test                 0.933333                   0.955556   \n",
              "Accuracy Train              0.990476                   0.990476   \n",
              "Accuracy Test               0.933333                   0.955556   \n",
              "F1 macro Train              0.990474                   0.990474   \n",
              "F1 macro Test               0.933259                   0.955357   \n",
              "\n",
              "                 Decision Tree  Decision Tree tuned  Random Forest  \\\n",
              "Precision Train       1.000000             0.981982       1.000000   \n",
              "Precision Test        0.911111             0.898148       0.934524   \n",
              "Recall Train          1.000000             0.980952       1.000000   \n",
              "Recall Test           0.911111             0.888889       0.933333   \n",
              "Accuracy Train        1.000000             0.980952       1.000000   \n",
              "Accuracy Test         0.911111             0.888889       0.933333   \n",
              "F1 macro Train        1.000000             0.980937       1.000000   \n",
              "F1 macro Test         0.911111             0.887767       0.933259   \n",
              "\n",
              "                 Random Forest tuned       SVM  SVM tuned       XGB  \\\n",
              "Precision Train             0.981982  1.000000   1.000000  1.000000   \n",
              "Precision Test              0.915535  0.955556   0.955556  0.934524   \n",
              "Recall Train                0.980952  1.000000   1.000000  1.000000   \n",
              "Recall Test                 0.911111  0.955556   0.955556  0.933333   \n",
              "Accuracy Train              0.980952  1.000000   1.000000  1.000000   \n",
              "Accuracy Test               0.911111  0.955556   0.955556  0.933333   \n",
              "F1 macro Train              0.980937  1.000000   1.000000  1.000000   \n",
              "F1 macro Test               0.910714  0.955556   0.955556  0.933259   \n",
              "\n",
              "                 XGB tuned  Naive Bayes  Naive Bayes tuned  Neural Network  \\\n",
              "Precision Train   1.000000     0.980952           0.980952        0.973684   \n",
              "Precision Test    0.934524     0.911111           0.911111        0.979167   \n",
              "Recall Train      1.000000     0.980952           0.980952        0.971429   \n",
              "Recall Test       0.933333     0.911111           0.911111        0.977778   \n",
              "Accuracy Train    1.000000     0.980952           0.980952        0.971429   \n",
              "Accuracy Test     0.933333     0.911111           0.911111        0.977778   \n",
              "F1 macro Train    1.000000     0.980952           0.980952        0.971376   \n",
              "F1 macro Test     0.933259     0.911111           0.911111        0.977753   \n",
              "\n",
              "                 Neural Network tuned  \n",
              "Precision Train              0.990741  \n",
              "Precision Test               0.979167  \n",
              "Recall Train                 0.990476  \n",
              "Recall Test                  0.977778  \n",
              "Accuracy Train               0.990476  \n",
              "Accuracy Test                0.977778  \n",
              "F1 macro Train               0.990474  \n",
              "F1 macro Test                0.977753  "
            ]
          },
          "execution_count": 103,
          "metadata": {},
          "output_type": "execute_result"
        }
      ],
      "source": [
        "# Updated Evaluation metric Score Chart\n",
        "score"
      ]
    },
    {
      "cell_type": "markdown",
      "metadata": {
        "id": "CRsBoyiUaSnj"
      },
      "source": [
        "It appears that hyperparameter tuning improve the performance of the neural network model on the test set. The precision, recall, accuracy and F1 scores on the test set are increased for the tuned neural network model compare to untuned neural network model."
      ]
    },
    {
      "cell_type": "code",
      "execution_count": 104,
      "metadata": {
        "colab": {
          "base_uri": "https://localhost:8080/"
        },
        "id": "U6asxmA7aSnj",
        "outputId": "d52a3ca0-484a-4898-ebb6-833236c22a5b"
      },
      "outputs": [
        {
          "name": "stdout",
          "output_type": "stream",
          "text": [
            "|                 |   Logistic regression |   Logistic regression tuned |   Decision Tree |   Decision Tree tuned |   Random Forest |   Random Forest tuned |      SVM |   SVM tuned |      XGB |   XGB tuned |   Naive Bayes |   Naive Bayes tuned |   Neural Network |   Neural Network tuned |\n",
            "|:----------------|----------------------:|----------------------------:|----------------:|----------------------:|----------------:|----------------------:|---------:|------------:|---------:|------------:|--------------:|--------------------:|-----------------:|-----------------------:|\n",
            "| Precision Train |              0.990741 |                    0.990741 |        1        |              0.981982 |        1        |              0.981982 | 1        |    1        | 1        |    1        |      0.980952 |            0.980952 |         0.973684 |               0.990741 |\n",
            "| Precision Test  |              0.934524 |                    0.960784 |        0.911111 |              0.898148 |        0.934524 |              0.915535 | 0.955556 |    0.955556 | 0.934524 |    0.934524 |      0.911111 |            0.911111 |         0.979167 |               0.979167 |\n",
            "| Recall Train    |              0.990476 |                    0.990476 |        1        |              0.980952 |        1        |              0.980952 | 1        |    1        | 1        |    1        |      0.980952 |            0.980952 |         0.971429 |               0.990476 |\n",
            "| Recall Test     |              0.933333 |                    0.955556 |        0.911111 |              0.888889 |        0.933333 |              0.911111 | 0.955556 |    0.955556 | 0.933333 |    0.933333 |      0.911111 |            0.911111 |         0.977778 |               0.977778 |\n",
            "| Accuracy Train  |              0.990476 |                    0.990476 |        1        |              0.980952 |        1        |              0.980952 | 1        |    1        | 1        |    1        |      0.980952 |            0.980952 |         0.971429 |               0.990476 |\n",
            "| Accuracy Test   |              0.933333 |                    0.955556 |        0.911111 |              0.888889 |        0.933333 |              0.911111 | 0.955556 |    0.955556 | 0.933333 |    0.933333 |      0.911111 |            0.911111 |         0.977778 |               0.977778 |\n",
            "| F1 macro Train  |              0.990474 |                    0.990474 |        1        |              0.980937 |        1        |              0.980937 | 1        |    1        | 1        |    1        |      0.980952 |            0.980952 |         0.971376 |               0.990474 |\n",
            "| F1 macro Test   |              0.933259 |                    0.955357 |        0.911111 |              0.887767 |        0.933259 |              0.910714 | 0.955556 |    0.955556 | 0.933259 |    0.933259 |      0.911111 |            0.911111 |         0.977753 |               0.977753 |\n"
          ]
        }
      ],
      "source": [
        "print(score.to_markdown())"
      ]
    },
    {
      "cell_type": "markdown",
      "metadata": {
        "id": "UisOqWiDb6SZ"
      },
      "source": [
        "## ***Selection of best model***"
      ]
    },
    {
      "cell_type": "code",
      "execution_count": 105,
      "metadata": {
        "colab": {
          "base_uri": "https://localhost:8080/",
          "height": 175
        },
        "id": "fjJYcn8HHMRL",
        "outputId": "b6908ad1-89a1-4fda-963c-725ec94b4a1d"
      },
      "outputs": [
        {
          "data": {
            "text/html": [
              "<div>\n",
              "<style scoped>\n",
              "    .dataframe tbody tr th:only-of-type {\n",
              "        vertical-align: middle;\n",
              "    }\n",
              "\n",
              "    .dataframe tbody tr th {\n",
              "        vertical-align: top;\n",
              "    }\n",
              "\n",
              "    .dataframe thead th {\n",
              "        text-align: right;\n",
              "    }\n",
              "</style>\n",
              "<table border=\"1\" class=\"dataframe\">\n",
              "  <thead>\n",
              "    <tr style=\"text-align: right;\">\n",
              "      <th></th>\n",
              "      <th>Precision Train</th>\n",
              "      <th>Precision Test</th>\n",
              "      <th>Recall Train</th>\n",
              "      <th>Recall Test</th>\n",
              "      <th>Accuracy Train</th>\n",
              "      <th>Accuracy Test</th>\n",
              "      <th>F1 macro Train</th>\n",
              "      <th>F1 macro Test</th>\n",
              "    </tr>\n",
              "  </thead>\n",
              "  <tbody>\n",
              "    <tr>\n",
              "      <th>Neural Network</th>\n",
              "      <td>0.973684</td>\n",
              "      <td>0.979167</td>\n",
              "      <td>0.971429</td>\n",
              "      <td>0.977778</td>\n",
              "      <td>0.971429</td>\n",
              "      <td>0.977778</td>\n",
              "      <td>0.971376</td>\n",
              "      <td>0.977753</td>\n",
              "    </tr>\n",
              "  </tbody>\n",
              "</table>\n",
              "</div>"
            ],
            "text/plain": [
              "                Precision Train  Precision Test  Recall Train  Recall Test  \\\n",
              "Neural Network         0.973684        0.979167      0.971429     0.977778   \n",
              "\n",
              "                Accuracy Train  Accuracy Test  F1 macro Train  F1 macro Test  \n",
              "Neural Network        0.971429       0.977778        0.971376       0.977753  "
            ]
          },
          "execution_count": 105,
          "metadata": {},
          "output_type": "execute_result"
        }
      ],
      "source": [
        "# Removing the overfitted models which have precision, recall, f1 scores for train as 1\n",
        "score_t = score.transpose()            # taking transpose of the score dataframe to create new difference column\n",
        "remove_models = score_t[score_t['Recall Train']>=0.98].index  # creating a list of models which have 1 for train and score_t['Accuracy Train']==1.0 and score_t['Precision Train']==1.0 and score_t['F1 macro Train']==1.0\n",
        "remove_models\n",
        "\n",
        "adj = score_t.drop(remove_models)                     # creating a new dataframe with required models\n",
        "adj"
      ]
    },
    {
      "cell_type": "code",
      "execution_count": 106,
      "metadata": {
        "id": "rma9TJDoilsO"
      },
      "outputs": [],
      "source": [
        "def select_best_model(df, metrics):\n",
        "\n",
        "    best_models = {}\n",
        "    for metric in metrics:\n",
        "        max_test = df[metric + ' Test'].max()\n",
        "        best_model_test = df[df[metric + ' Test'] == max_test].index[0]\n",
        "        best_model = best_model_test\n",
        "        best_models[metric] = best_model\n",
        "    return best_models"
      ]
    },
    {
      "cell_type": "code",
      "execution_count": 107,
      "metadata": {
        "colab": {
          "base_uri": "https://localhost:8080/"
        },
        "id": "WlQYp9uRc9cn",
        "outputId": "624efcaf-afc3-4c8a-fd83-fe4fbb448694"
      },
      "outputs": [
        {
          "name": "stdout",
          "output_type": "stream",
          "text": [
            "The best models are:\n",
            "Precision: Neural Network - 0.9792\n",
            "Recall: Neural Network - 0.9778\n",
            "Accuracy: Neural Network - 0.9778\n",
            "F1 macro: Neural Network - 0.9778\n"
          ]
        }
      ],
      "source": [
        "metrics = ['Precision', 'Recall', 'Accuracy', 'F1 macro']\n",
        "\n",
        "best_models = select_best_model(adj, metrics)\n",
        "print(\"The best models are:\")\n",
        "for metric, best_model in best_models.items():\n",
        "    print(f\"{metric}: {best_model} - {adj[metric+' Test'][best_model].round(4)}\")"
      ]
    },
    {
      "cell_type": "code",
      "execution_count": 108,
      "metadata": {
        "colab": {
          "base_uri": "https://localhost:8080/"
        },
        "id": "kS_pGstoU6El",
        "outputId": "7d9baa61-ef06-414c-bc40-aabd1052ff93"
      },
      "outputs": [
        {
          "name": "stdout",
          "output_type": "stream",
          "text": [
            "| Classification Model   |   Recall Train |   Recall Test |\n",
            "|:-----------------------|---------------:|--------------:|\n",
            "| Neural Network         |       0.971429 |      0.977778 |\n"
          ]
        }
      ],
      "source": [
        "# Take recall as the primary evaluation metric\n",
        "score_smpl = score.transpose()\n",
        "remove_overfitting_models = score_smpl[score_smpl['Recall Train']>=0.98].index\n",
        "remove_overfitting_models\n",
        "new_score = score_smpl.drop(remove_overfitting_models)\n",
        "new_score = new_score.drop(['Precision Train','Precision Test','Accuracy Train','Accuracy Test','F1 macro Train','F1 macro Test'], axis=1)\n",
        "new_score.index.name = 'Classification Model'\n",
        "print(new_score.to_markdown())"
      ]
    },
    {
      "cell_type": "markdown",
      "metadata": {
        "id": "h_CCil-SKHpo"
      },
      "source": [
        "### 1. Which Evaluation metrics did i consider for a positive business impact and why?"
      ]
    },
    {
      "cell_type": "markdown",
      "metadata": {
        "id": "jHVz9hHDKFms"
      },
      "source": [
        "After carefully considering the potential consequences of false positives and false negatives in the context of our business objectives, I have selected recall as the primary evaluation metric for our Iris flower classification model. This means that our goal is to maximize the number of true positives (correctly identified the different iris flowers) while minimizing the number of false negatives (incorrectly identified the flowers not a iris flower). By doing so, we aim to ensure that we correctly identify as many different iris flowers, even if it means that we may have some false positives."
      ]
    },
    {
      "cell_type": "markdown",
      "metadata": {
        "id": "cBFFvTBNJzUa"
      },
      "source": [
        "### 2. Which ML model did i choose from the above created models as our final prediction model and why?"
      ]
    },
    {
      "cell_type": "markdown",
      "metadata": {
        "id": "6ksF5Q1LKTVm"
      },
      "source": [
        "After evaluating the performance of several machine learning models on the Iris dataset, I have selected the tuned Random Forest as our final prediction model. This decision was based on the model’s performance on our primary evaluation metric of recall, which measures the ability of the model to correctly identify different iris flowers. In our analysis, we found that the Random Forest (tuned) had the highest recall score among the models we evaluated.\n",
        "\n",
        "I choose recall as the primary evaluation metric because correctly identifying different iris flowers are critical to achieving our business objectives. By selecting a model with a high recall score, we aim to ensure that we correctly identify as many different iris flowers as possible, even if it means that we may have some false positives. Overall, we believe that the Random Forest (tuned) is the best choice for our needs and will help us achieve a positive business impact."
      ]
    },
    {
      "cell_type": "markdown",
      "metadata": {
        "id": "HvGl1hHyA_VK"
      },
      "source": [
        "### 3. Explain the model which i have used for the prediction"
      ]
    },
    {
      "cell_type": "code",
      "execution_count": 109,
      "metadata": {
        "id": "sCRRWimo6E8P"
      },
      "outputs": [],
      "source": [
        "# Define a list of category labels for reference.\n",
        "Category_RF = ['Iris-Setosa', 'Iris-Versicolor', 'Iris-Virginica']"
      ]
    },
    {
      "cell_type": "code",
      "execution_count": 110,
      "metadata": {
        "colab": {
          "base_uri": "https://localhost:8080/"
        },
        "id": "SjxiBmCh7gJW",
        "outputId": "f09a36a2-7881-4658-fb9a-372f3c8efd21"
      },
      "outputs": [
        {
          "name": "stdout",
          "output_type": "stream",
          "text": [
            "Iris-Setosa\n"
          ]
        }
      ],
      "source": [
        "# In this example, it's a data point with Sepal Length, Sepal Width, Petal Length, and Petal Width.\n",
        "x_rf = np.array([[5.1, 3.5, 1.4, 0.2]])\n",
        "\n",
        "# Use the tuned random forest model (rf_model2) to make a prediction.\n",
        "x_rf_prediction = rf_model2.predict(x_rf)\n",
        "x_rf_prediction[0]\n",
        "\n",
        "# Display the predicted category label.\n",
        "print(Category_RF[int(x_rf_prediction[0])])"
      ]
    },
    {
      "cell_type": "markdown",
      "metadata": {
        "id": "gCX9965dhzqZ"
      },
      "source": [
        "# **Conclusion**"
      ]
    },
    {
      "cell_type": "markdown",
      "metadata": {
        "id": "Fjb1IsQkh3yE"
      },
      "source": [
        "In the Iris flower classification project, the tuned Random Forest model has been selected as the final prediction model. The project aimed to classify Iris flowers into three distinct species: Iris-Setosa, Iris-Versicolor, and Iris-Virginica. After extensive data exploration, preprocessing, and model evaluation, the following conclusions can be drawn:\n",
        "\n",
        "1. **Data Exploration:** Through a thorough examination of the dataset, we gained insights into the characteristics and distributions of features. We found that Iris-Setosa exhibited distinct features compared to the other two species.\n",
        "\n",
        "2. **Data Preprocessing:** Data preprocessing steps, including handling missing values and encoding categorical variables, were performed to prepare the dataset for modeling.\n",
        "\n",
        "3. **Model Selection:** After experimenting with various machine learning models, tuned Random Forest was chosen as the final model due to its simplicity, interpretability, and good performance in classifying Iris species.\n",
        "\n",
        "4. **Model Training and Evaluation:** The Random Forest (tuned) model was trained on the training dataset and evaluated using appropriate metrics. The model demonstrated satisfactory accuracy and precision in classifying Iris species.\n",
        "\n",
        "5. **Challenges and Future Work:** The project encountered challenges related to feature engineering and model fine-tuning. Future work may involve exploring more advanced modeling techniques to improve classification accuracy further.\n",
        "\n",
        "6. **Practical Application:** The Iris flower classification model can be applied in real-world scenarios, such as botany and horticulture, to automate the identification of Iris species based on physical characteristics.\n",
        "\n",
        "In conclusion, the Iris flower classification project successfully employed Random Forest (tuned) as the final prediction model to classify Iris species. The project's outcomes have practical implications in the field of botany and offer valuable insights into feature importance for species differentiation. Further refinements and enhancements may lead to even more accurate and reliable classification models in the future."
      ]
    }
  ],
  "metadata": {
    "colab": {
      "collapsed_sections": [
        "vncDsAP0Gaoa",
        "FJNUwmbgGyua",
        "w6K7xa23Elo4",
        "yQaldy8SH6Dl",
        "O_i_v8NEhb9l",
        "HhfV-JJviCcP",
        "Y3lxredqlCYt",
        "3RnN4peoiCZX",
        "x71ZqKXriCWQ",
        "7hBIi_osiCS2",
        "JlHwYmJAmNHm",
        "35m5QtbWiB9F",
        "PoPl-ycgm1ru",
        "H0kj-8xxnORC",
        "nA9Y7ga8ng1Z",
        "u3PMJOP6ngxN",
        "dauF4eBmngu3",
        "bKJF3rekwFvQ",
        "MSa1f5Uengrz",
        "GF8Ens_Soomf",
        "0wOQAZs5pc--",
        "KSlN3yHqYklG",
        "EM7whBJCYoAo",
        "4Of9eVA-YrdM",
        "bamQiAODYuh1",
        "OH-pJp9IphqM",
        "yLjJCtPM0KBk",
        "89xtkJwZ18nB",
        "rMDnDkt2B6du",
        "BhH2vgX9EjGr",
        "VfCC591jGiD4",
        "mWppNeqWwA-M",
        "pTi0g55fwA-W",
        "iv0m-lDQwA-W",
        "mwnxeO7jwA-X",
        "huCCA590wA-X",
        "VzKNBLqiwA-Y",
        "1GL-36pywA-Y",
        "nWFgbYYVwA-Z",
        "841njF38wA-Z",
        "AkBX0MHbwA-a",
        "Bgen1cFIwA-a",
        "JPT_4dYWwA-a",
        "LRvyaI9BwA-b",
        "c-26ctgmwA-c",
        "HO3sJ66GwA-c",
        "lHIyvCjC_4_G",
        "zlBiexnN_4_G",
        "ffEiQ19I_4_H",
        "Bbpe4TaP_4_H",
        "ifZ_nK19_4_H",
        "2CnsMkMiM-8g",
        "axoYmkZZM-8g",
        "YcglZXVVM-8h",
        "dOuC2Vx2M-8i",
        "N5YXAPbAM-8i",
        "pVXGvXVb_6FF",
        "1R6e5Trb_6FF",
        "zhaPpYXo_6FF",
        "ZYFMyHqX_6FG",
        "t4hU8F0I_6FG",
        "1NNpISRdaSng",
        "6IvVWbfDaSnh",
        "0bSwMgKcaSnh",
        "IXHnAaJfaSni",
        "BSoGk_2RaSnj",
        "UisOqWiDb6SZ",
        "h_CCil-SKHpo",
        "cBFFvTBNJzUa",
        "HvGl1hHyA_VK",
        "gCX9965dhzqZ"
      ],
      "include_colab_link": true,
      "provenance": []
    },
    "kernelspec": {
      "display_name": "Python 3",
      "name": "python3"
    },
    "language_info": {
      "codemirror_mode": {
        "name": "ipython",
        "version": 3
      },
      "file_extension": ".py",
      "mimetype": "text/x-python",
      "name": "python",
      "nbconvert_exporter": "python",
      "pygments_lexer": "ipython3",
      "version": "3.11.0"
    }
  },
  "nbformat": 4,
  "nbformat_minor": 0
}
